{
  "nbformat": 4,
  "nbformat_minor": 0,
  "metadata": {
    "colab": {
      "name": "MLP.ipynb",
      "provenance": []
    },
    "kernelspec": {
      "name": "python3",
      "display_name": "Python 3"
    },
    "language_info": {
      "name": "python"
    },
    "accelerator": "GPU"
  },
  "cells": [
    {
      "cell_type": "code",
      "metadata": {
        "id": "M5CdSIkoFRr3",
        "colab": {
          "base_uri": "https://localhost:8080/"
        },
        "outputId": "d05948da-ddf5-4b63-ad7e-068c4284d564"
      },
      "source": [
        "from collections import Counter\n",
        "\n",
        "import numpy as np\n",
        "import pandas as pd\n",
        "import matplotlib.pyplot as plt\n",
        "import seaborn as sns\n",
        "sns.set_style(\"whitegrid\")\n",
        "import scipy.stats as stats\n",
        "\n",
        "import re\n",
        "import string\n",
        "\n",
        "from imblearn.over_sampling import SMOTE\n",
        "\n",
        "from nltk.corpus import stopwords\n",
        "from nltk.stem import PorterStemmer\n",
        "from nltk.stem import WordNetLemmatizer\n",
        "from sklearn import metrics\n",
        "from sklearn.feature_extraction.text import CountVectorizer\n",
        "from sklearn.feature_extraction.text import TfidfVectorizer\n",
        "from sklearn.decomposition import TruncatedSVD\n",
        "from sklearn.ensemble import RandomForestClassifier\n",
        "from sklearn.multiclass import OneVsRestClassifier\n",
        "from sklearn.neighbors import KNeighborsClassifier\n",
        "from sklearn.metrics import confusion_matrix, classification_report\n",
        "from sklearn.model_selection import train_test_split, GridSearchCV\n",
        "from sklearn.pipeline import make_pipeline\n",
        "from sklearn.svm import LinearSVC\n",
        "\n",
        "from statsmodels.stats.multicomp import pairwise_tukeyhsd\n",
        "\n",
        "from textblob import TextBlob"
      ],
      "execution_count": 1,
      "outputs": [
        {
          "output_type": "stream",
          "text": [
            "/usr/local/lib/python3.7/dist-packages/sklearn/externals/six.py:31: FutureWarning: The module is deprecated in version 0.21 and will be removed in version 0.23 since we've dropped support for Python 2.7. Please rely on the official version of six (https://pypi.org/project/six/).\n",
            "  \"(https://pypi.org/project/six/).\", FutureWarning)\n",
            "/usr/local/lib/python3.7/dist-packages/sklearn/utils/deprecation.py:144: FutureWarning: The sklearn.neighbors.base module is  deprecated in version 0.22 and will be removed in version 0.24. The corresponding classes / functions should instead be imported from sklearn.neighbors. Anything that cannot be imported from sklearn.neighbors is now part of the private API.\n",
            "  warnings.warn(message, FutureWarning)\n",
            "/usr/local/lib/python3.7/dist-packages/statsmodels/tools/_testing.py:19: FutureWarning: pandas.util.testing is deprecated. Use the functions in the public API at pandas.testing instead.\n",
            "  import pandas.util.testing as tm\n"
          ],
          "name": "stderr"
        }
      ]
    },
    {
      "cell_type": "code",
      "metadata": {
        "colab": {
          "resources": {
            "http://localhost:8080/nbextensions/google.colab/files.js": {
              "data": "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",
              "ok": true,
              "headers": [
                [
                  "content-type",
                  "application/javascript"
                ]
              ],
              "status": 200,
              "status_text": ""
            }
          },
          "base_uri": "https://localhost:8080/",
          "height": 72
        },
        "id": "dLGpuaD9Ff5Q",
        "outputId": "05836e07-e37d-49b0-a7b0-a3a79dfe76a5"
      },
      "source": [
        "from google.colab import files\n",
        "files=files.upload()"
      ],
      "execution_count": 2,
      "outputs": [
        {
          "output_type": "display_data",
          "data": {
            "text/html": [
              "\n",
              "     <input type=\"file\" id=\"files-c12370ea-e6bf-4656-ae46-21577362dbc4\" name=\"files[]\" multiple disabled\n",
              "        style=\"border:none\" />\n",
              "     <output id=\"result-c12370ea-e6bf-4656-ae46-21577362dbc4\">\n",
              "      Upload widget is only available when the cell has been executed in the\n",
              "      current browser session. Please rerun this cell to enable.\n",
              "      </output>\n",
              "      <script src=\"/nbextensions/google.colab/files.js\"></script> "
            ],
            "text/plain": [
              "<IPython.core.display.HTML object>"
            ]
          },
          "metadata": {
            "tags": []
          }
        },
        {
          "output_type": "stream",
          "text": [
            "Saving mbti_1.csv to mbti_1.csv\n"
          ],
          "name": "stdout"
        }
      ]
    },
    {
      "cell_type": "code",
      "metadata": {
        "id": "VRFPcZCbFwUl"
      },
      "source": [
        "df_copy = pd.read_csv('mbti_1.csv')"
      ],
      "execution_count": 3,
      "outputs": []
    },
    {
      "cell_type": "code",
      "metadata": {
        "colab": {
          "base_uri": "https://localhost:8080/",
          "height": 204
        },
        "id": "FF5IC87bkpC7",
        "outputId": "d1854276-8792-490f-a852-ca991c27231e"
      },
      "source": [
        "df_working = df_copy.copy()\n",
        "df_working.head()"
      ],
      "execution_count": 4,
      "outputs": [
        {
          "output_type": "execute_result",
          "data": {
            "text/html": [
              "<div>\n",
              "<style scoped>\n",
              "    .dataframe tbody tr th:only-of-type {\n",
              "        vertical-align: middle;\n",
              "    }\n",
              "\n",
              "    .dataframe tbody tr th {\n",
              "        vertical-align: top;\n",
              "    }\n",
              "\n",
              "    .dataframe thead th {\n",
              "        text-align: right;\n",
              "    }\n",
              "</style>\n",
              "<table border=\"1\" class=\"dataframe\">\n",
              "  <thead>\n",
              "    <tr style=\"text-align: right;\">\n",
              "      <th></th>\n",
              "      <th>type</th>\n",
              "      <th>posts</th>\n",
              "    </tr>\n",
              "  </thead>\n",
              "  <tbody>\n",
              "    <tr>\n",
              "      <th>0</th>\n",
              "      <td>INFJ</td>\n",
              "      <td>'http://www.youtube.com/watch?v=qsXHcwe3krw|||...</td>\n",
              "    </tr>\n",
              "    <tr>\n",
              "      <th>1</th>\n",
              "      <td>ENTP</td>\n",
              "      <td>'I'm finding the lack of me in these posts ver...</td>\n",
              "    </tr>\n",
              "    <tr>\n",
              "      <th>2</th>\n",
              "      <td>INTP</td>\n",
              "      <td>'Good one  _____   https://www.youtube.com/wat...</td>\n",
              "    </tr>\n",
              "    <tr>\n",
              "      <th>3</th>\n",
              "      <td>INTJ</td>\n",
              "      <td>'Dear INTP,   I enjoyed our conversation the o...</td>\n",
              "    </tr>\n",
              "    <tr>\n",
              "      <th>4</th>\n",
              "      <td>ENTJ</td>\n",
              "      <td>'You're fired.|||That's another silly misconce...</td>\n",
              "    </tr>\n",
              "  </tbody>\n",
              "</table>\n",
              "</div>"
            ],
            "text/plain": [
              "   type                                              posts\n",
              "0  INFJ  'http://www.youtube.com/watch?v=qsXHcwe3krw|||...\n",
              "1  ENTP  'I'm finding the lack of me in these posts ver...\n",
              "2  INTP  'Good one  _____   https://www.youtube.com/wat...\n",
              "3  INTJ  'Dear INTP,   I enjoyed our conversation the o...\n",
              "4  ENTJ  'You're fired.|||That's another silly misconce..."
            ]
          },
          "metadata": {
            "tags": []
          },
          "execution_count": 4
        }
      ]
    },
    {
      "cell_type": "code",
      "metadata": {
        "colab": {
          "base_uri": "https://localhost:8080/",
          "height": 204
        },
        "id": "GJd5uo5tkszM",
        "outputId": "d55ccb3a-25a3-4811-a98c-8b96f1dc835c"
      },
      "source": [
        "df_working['I-E'] = df_working['type'].map(lambda x: 'Introversion' if x[0] == 'I' else 'Extroversion')\n",
        "df_working['N-S'] = df_working['type'].map(lambda x: 'Intuition' if x[1] == 'N' else 'Sensing')\n",
        "df_working['T-F'] = df_working['type'].map(lambda x: 'Thinking' if x[2] == 'T' else 'Feeling')\n",
        "df_working['J-P'] = df_working['type'].map(lambda x: 'Judging' if x[3] == 'J' else 'Perceiving')\n",
        "\n",
        "df_working.head()"
      ],
      "execution_count": 5,
      "outputs": [
        {
          "output_type": "execute_result",
          "data": {
            "text/html": [
              "<div>\n",
              "<style scoped>\n",
              "    .dataframe tbody tr th:only-of-type {\n",
              "        vertical-align: middle;\n",
              "    }\n",
              "\n",
              "    .dataframe tbody tr th {\n",
              "        vertical-align: top;\n",
              "    }\n",
              "\n",
              "    .dataframe thead th {\n",
              "        text-align: right;\n",
              "    }\n",
              "</style>\n",
              "<table border=\"1\" class=\"dataframe\">\n",
              "  <thead>\n",
              "    <tr style=\"text-align: right;\">\n",
              "      <th></th>\n",
              "      <th>type</th>\n",
              "      <th>posts</th>\n",
              "      <th>I-E</th>\n",
              "      <th>N-S</th>\n",
              "      <th>T-F</th>\n",
              "      <th>J-P</th>\n",
              "    </tr>\n",
              "  </thead>\n",
              "  <tbody>\n",
              "    <tr>\n",
              "      <th>0</th>\n",
              "      <td>INFJ</td>\n",
              "      <td>'http://www.youtube.com/watch?v=qsXHcwe3krw|||...</td>\n",
              "      <td>Introversion</td>\n",
              "      <td>Intuition</td>\n",
              "      <td>Feeling</td>\n",
              "      <td>Judging</td>\n",
              "    </tr>\n",
              "    <tr>\n",
              "      <th>1</th>\n",
              "      <td>ENTP</td>\n",
              "      <td>'I'm finding the lack of me in these posts ver...</td>\n",
              "      <td>Extroversion</td>\n",
              "      <td>Intuition</td>\n",
              "      <td>Thinking</td>\n",
              "      <td>Perceiving</td>\n",
              "    </tr>\n",
              "    <tr>\n",
              "      <th>2</th>\n",
              "      <td>INTP</td>\n",
              "      <td>'Good one  _____   https://www.youtube.com/wat...</td>\n",
              "      <td>Introversion</td>\n",
              "      <td>Intuition</td>\n",
              "      <td>Thinking</td>\n",
              "      <td>Perceiving</td>\n",
              "    </tr>\n",
              "    <tr>\n",
              "      <th>3</th>\n",
              "      <td>INTJ</td>\n",
              "      <td>'Dear INTP,   I enjoyed our conversation the o...</td>\n",
              "      <td>Introversion</td>\n",
              "      <td>Intuition</td>\n",
              "      <td>Thinking</td>\n",
              "      <td>Judging</td>\n",
              "    </tr>\n",
              "    <tr>\n",
              "      <th>4</th>\n",
              "      <td>ENTJ</td>\n",
              "      <td>'You're fired.|||That's another silly misconce...</td>\n",
              "      <td>Extroversion</td>\n",
              "      <td>Intuition</td>\n",
              "      <td>Thinking</td>\n",
              "      <td>Judging</td>\n",
              "    </tr>\n",
              "  </tbody>\n",
              "</table>\n",
              "</div>"
            ],
            "text/plain": [
              "   type  ...         J-P\n",
              "0  INFJ  ...     Judging\n",
              "1  ENTP  ...  Perceiving\n",
              "2  INTP  ...  Perceiving\n",
              "3  INTJ  ...     Judging\n",
              "4  ENTJ  ...     Judging\n",
              "\n",
              "[5 rows x 6 columns]"
            ]
          },
          "metadata": {
            "tags": []
          },
          "execution_count": 5
        }
      ]
    },
    {
      "cell_type": "code",
      "metadata": {
        "id": "F7k_bStBFzKR"
      },
      "source": [
        "from sklearn.preprocessing import LabelEncoder\n",
        "le=LabelEncoder()"
      ],
      "execution_count": 6,
      "outputs": []
    },
    {
      "cell_type": "code",
      "metadata": {
        "id": "6CI29drnF-vh"
      },
      "source": [
        "df_copy['code']=le.fit_transform(df_copy['type'])"
      ],
      "execution_count": 7,
      "outputs": []
    },
    {
      "cell_type": "code",
      "metadata": {
        "id": "8CQJrzV7GBe-"
      },
      "source": [
        "df_copy.drop(['type'],axis=1,inplace=True)"
      ],
      "execution_count": 8,
      "outputs": []
    },
    {
      "cell_type": "code",
      "metadata": {
        "colab": {
          "base_uri": "https://localhost:8080/"
        },
        "id": "FiL9wX-0GDrB",
        "outputId": "54e3d9d6-ab57-4e51-ee7d-b522983c7625"
      },
      "source": [
        "X_Train, X_Test, y_Train, y_Test = train_test_split(df_copy['posts'].values,\n",
        "                                                   df_copy['code'].values,\n",
        "                                                   test_size=0.30, random_state=42)\n",
        "print('X_Train ', X_Train.shape, '\\n', 'X_Test ', X_Test.shape, '\\n', 'y_Train ', y_Train.shape, '\\n', \n",
        "      'y_Test', y_Test.shape)"
      ],
      "execution_count": 29,
      "outputs": [
        {
          "output_type": "stream",
          "text": [
            "X_Train  (6072,) \n",
            " X_Test  (2603,) \n",
            " y_Train  (6072,) \n",
            " y_Test (2603,)\n"
          ],
          "name": "stdout"
        }
      ]
    },
    {
      "cell_type": "code",
      "metadata": {
        "colab": {
          "base_uri": "https://localhost:8080/"
        },
        "id": "8yuijtNfMQcm",
        "outputId": "8f893399-26d0-46e8-9c9c-9d28560b1e6a"
      },
      "source": [
        "from nltk.corpus import stopwords\n",
        "import nltk\n",
        "nltk.download('stopwords')\n",
        "nltk.download('wordnet')"
      ],
      "execution_count": 30,
      "outputs": [
        {
          "output_type": "stream",
          "text": [
            "[nltk_data] Downloading package stopwords to /root/nltk_data...\n",
            "[nltk_data]   Package stopwords is already up-to-date!\n",
            "[nltk_data] Downloading package wordnet to /root/nltk_data...\n",
            "[nltk_data]   Package wordnet is already up-to-date!\n"
          ],
          "name": "stdout"
        },
        {
          "output_type": "execute_result",
          "data": {
            "text/plain": [
              "True"
            ]
          },
          "metadata": {
            "tags": []
          },
          "execution_count": 30
        }
      ]
    },
    {
      "cell_type": "code",
      "metadata": {
        "id": "goxbV9jDMTru"
      },
      "source": [
        "def cleaner(text):\n",
        "    #wordnet = WordNetLemmatizer()  \n",
        "    stemmer=PorterStemmer()                                      # groups words having the same stems\n",
        "    text = text.replace('|||', ' ')                                  # replaces post separators with empty space\n",
        "    text = re.sub(r'\\bhttps?:\\/\\/.*?[\\r\\n]*? ', 'URL ', text, flags=re.MULTILINE)  # replace hyperlink with 'URL'\n",
        "    text = text.translate(str.maketrans('', '', string.punctuation)) # removes punctuation\n",
        "    text = text.translate(str.maketrans('', '', string.digits))      # removes digits\n",
        "    text = text.lower().strip()                                      # convert to lower case\n",
        "    final_text = []\n",
        "    for w in text.split():\n",
        "        if w not in stop:\n",
        "            final_text.append(stemmer.stem(w.strip()))\n",
        "    return ' '.join(final_text)"
      ],
      "execution_count": 31,
      "outputs": []
    },
    {
      "cell_type": "code",
      "metadata": {
        "colab": {
          "base_uri": "https://localhost:8080/"
        },
        "id": "wAFyDem0MWjL",
        "outputId": "25e22c2f-014b-4353-d0be-dbf1085ffeec"
      },
      "source": [
        "types = ['infj', 'entp', 'intp', 'intj', 'entj', 'enfj', 'infp', 'enfp', 'isfp',\n",
        "         'istp', 'isfj', 'istj', 'estp', 'esfp', 'estj', 'esfj']\n",
        "stop = stopwords.words('english')\n",
        "\n",
        "for type in types:\n",
        "    stop.append(type)\n",
        "stop.append(\"url\")\n",
        "stop_rev = stop    \n",
        "print(stop_rev)"
      ],
      "execution_count": 12,
      "outputs": [
        {
          "output_type": "stream",
          "text": [
            "['i', 'me', 'my', 'myself', 'we', 'our', 'ours', 'ourselves', 'you', \"you're\", \"you've\", \"you'll\", \"you'd\", 'your', 'yours', 'yourself', 'yourselves', 'he', 'him', 'his', 'himself', 'she', \"she's\", 'her', 'hers', 'herself', 'it', \"it's\", 'its', 'itself', 'they', 'them', 'their', 'theirs', 'themselves', 'what', 'which', 'who', 'whom', 'this', 'that', \"that'll\", 'these', 'those', 'am', 'is', 'are', 'was', 'were', 'be', 'been', 'being', 'have', 'has', 'had', 'having', 'do', 'does', 'did', 'doing', 'a', 'an', 'the', 'and', 'but', 'if', 'or', 'because', 'as', 'until', 'while', 'of', 'at', 'by', 'for', 'with', 'about', 'against', 'between', 'into', 'through', 'during', 'before', 'after', 'above', 'below', 'to', 'from', 'up', 'down', 'in', 'out', 'on', 'off', 'over', 'under', 'again', 'further', 'then', 'once', 'here', 'there', 'when', 'where', 'why', 'how', 'all', 'any', 'both', 'each', 'few', 'more', 'most', 'other', 'some', 'such', 'no', 'nor', 'not', 'only', 'own', 'same', 'so', 'than', 'too', 'very', 's', 't', 'can', 'will', 'just', 'don', \"don't\", 'should', \"should've\", 'now', 'd', 'll', 'm', 'o', 're', 've', 'y', 'ain', 'aren', \"aren't\", 'couldn', \"couldn't\", 'didn', \"didn't\", 'doesn', \"doesn't\", 'hadn', \"hadn't\", 'hasn', \"hasn't\", 'haven', \"haven't\", 'isn', \"isn't\", 'ma', 'mightn', \"mightn't\", 'mustn', \"mustn't\", 'needn', \"needn't\", 'shan', \"shan't\", 'shouldn', \"shouldn't\", 'wasn', \"wasn't\", 'weren', \"weren't\", 'won', \"won't\", 'wouldn', \"wouldn't\", 'infj', 'entp', 'intp', 'intj', 'entj', 'enfj', 'infp', 'enfp', 'isfp', 'istp', 'isfj', 'istj', 'estp', 'esfp', 'estj', 'esfj', 'url']\n"
          ],
          "name": "stdout"
        }
      ]
    },
    {
      "cell_type": "code",
      "metadata": {
        "colab": {
          "base_uri": "https://localhost:8080/"
        },
        "id": "JSyidANfGGDm",
        "outputId": "14f56236-d0bf-459a-84ab-acbbddaf730e"
      },
      "source": [
        "pipeline_preprocessing = make_pipeline(\n",
        "   TfidfVectorizer(preprocessor=cleaner, stop_words=stop_rev, ngram_range=(1,2), max_features=1000),\n",
        "    TruncatedSVD(n_components=200))\n",
        "\n",
        "X_Train = pipeline_preprocessing.fit_transform(X_Train)\n",
        "X_Test = pipeline_preprocessing.transform(X_Test)"
      ],
      "execution_count": 32,
      "outputs": [
        {
          "output_type": "stream",
          "text": [
            "/usr/local/lib/python3.7/dist-packages/sklearn/feature_extraction/text.py:385: UserWarning: Your stop_words may be inconsistent with your preprocessing. Tokenizing the stop words generated tokens ['arent', 'couldnt', 'didnt', 'doesnt', 'dont', 'hadnt', 'hasnt', 'havent', 'isnt', 'mightnt', 'mustnt', 'neednt', 'shant', 'shouldnt', 'shouldv', 'thatll', 'wasnt', 'werent', 'wont', 'wouldnt', 'youd', 'youll', 'youv'] not in stop_words.\n",
            "  'stop_words.' % sorted(inconsistent))\n"
          ],
          "name": "stderr"
        }
      ]
    },
    {
      "cell_type": "code",
      "metadata": {
        "colab": {
          "base_uri": "https://localhost:8080/"
        },
        "id": "WCzd47cLZ2Gb",
        "outputId": "2706b15a-2408-471f-c2bc-90bac97cb513"
      },
      "source": [
        "from imblearn.over_sampling import SMOTE\n",
        "smote=SMOTE(sampling_strategy='minority')\n",
        "x,y=smote.fit_sample(X_Train, y_Train)"
      ],
      "execution_count": 33,
      "outputs": [
        {
          "output_type": "stream",
          "text": [
            "/usr/local/lib/python3.7/dist-packages/sklearn/utils/deprecation.py:87: FutureWarning: Function safe_indexing is deprecated; safe_indexing is deprecated in version 0.22 and will be removed in version 0.24.\n",
            "  warnings.warn(msg, category=FutureWarning)\n"
          ],
          "name": "stderr"
        }
      ]
    },
    {
      "cell_type": "code",
      "metadata": {
        "id": "m230WXzvNXdn"
      },
      "source": [
        "import tensorflow as tf\n",
        "from tensorflow.keras.preprocessing.text import Tokenizer, text_to_word_sequence\n",
        "from tensorflow.keras.preprocessing.sequence import pad_sequences\n",
        "from tensorflow.keras.layers import Embedding, LSTM, Dense, Bidirectional,Dropout,GlobalAveragePooling1D\n",
        "from tensorflow.keras.preprocessing.text import Tokenizer\n",
        "from tensorflow.keras.models import Sequential\n",
        "from tensorflow.keras.optimizers import Adam\n",
        "from keras.engine.topology import Layer\n",
        "from keras import initializers as initializers, regularizers, constraints\n",
        "from keras.utils.np_utils import to_categorical\n",
        "from keras import optimizers\n",
        "from keras.models import Model\n",
        "from tensorflow.math import confusion_matrix"
      ],
      "execution_count": 34,
      "outputs": []
    },
    {
      "cell_type": "code",
      "metadata": {
        "colab": {
          "base_uri": "https://localhost:8080/"
        },
        "id": "dznjuYwiFvd3",
        "outputId": "d1c67acb-d7e8-4f88-8abc-3c044c8d775b"
      },
      "source": [
        "model = Sequential(\n",
        "    [Dense(100, input_shape=(200,),activation='relu'),\n",
        "    Dropout(0.5),\n",
        "    Dense(60, activation='relu'),\n",
        "    Dropout(0.5),\n",
        "    Dense(16, activation='sigmoid')]\n",
        ")\n",
        "model.compile(loss = 'sparse_categorical_crossentropy', optimizer = 'adam', metrics = ['acc'])\n",
        "history = model.fit(X_Train, y_Train, epochs = 500,batch_size=128)"
      ],
      "execution_count": 35,
      "outputs": [
        {
          "output_type": "stream",
          "text": [
            "Epoch 1/500\n",
            "48/48 [==============================] - 1s 3ms/step - loss: 2.6968 - acc: 0.1479\n",
            "Epoch 2/500\n",
            "48/48 [==============================] - 0s 3ms/step - loss: 2.3666 - acc: 0.2083\n",
            "Epoch 3/500\n",
            "48/48 [==============================] - 0s 3ms/step - loss: 2.2957 - acc: 0.2013\n",
            "Epoch 4/500\n",
            "48/48 [==============================] - 0s 3ms/step - loss: 2.2246 - acc: 0.2408\n",
            "Epoch 5/500\n",
            "48/48 [==============================] - 0s 3ms/step - loss: 2.1626 - acc: 0.2663\n",
            "Epoch 6/500\n",
            "48/48 [==============================] - 0s 3ms/step - loss: 2.1128 - acc: 0.2752\n",
            "Epoch 7/500\n",
            "48/48 [==============================] - 0s 3ms/step - loss: 2.0756 - acc: 0.3043\n",
            "Epoch 8/500\n",
            "48/48 [==============================] - 0s 3ms/step - loss: 2.0199 - acc: 0.3111\n",
            "Epoch 9/500\n",
            "48/48 [==============================] - 0s 3ms/step - loss: 1.9724 - acc: 0.3347\n",
            "Epoch 10/500\n",
            "48/48 [==============================] - 0s 3ms/step - loss: 1.9799 - acc: 0.3313\n",
            "Epoch 11/500\n",
            "48/48 [==============================] - 0s 3ms/step - loss: 1.9597 - acc: 0.3439\n",
            "Epoch 12/500\n",
            "48/48 [==============================] - 0s 3ms/step - loss: 1.9459 - acc: 0.3550\n",
            "Epoch 13/500\n",
            "48/48 [==============================] - 0s 3ms/step - loss: 1.9192 - acc: 0.3572\n",
            "Epoch 14/500\n",
            "48/48 [==============================] - 0s 3ms/step - loss: 1.8951 - acc: 0.3745\n",
            "Epoch 15/500\n",
            "48/48 [==============================] - 0s 3ms/step - loss: 1.8956 - acc: 0.3754\n",
            "Epoch 16/500\n",
            "48/48 [==============================] - 0s 3ms/step - loss: 1.8995 - acc: 0.3678\n",
            "Epoch 17/500\n",
            "48/48 [==============================] - 0s 3ms/step - loss: 1.8862 - acc: 0.3691\n",
            "Epoch 18/500\n",
            "48/48 [==============================] - 0s 3ms/step - loss: 1.8822 - acc: 0.3687\n",
            "Epoch 19/500\n",
            "48/48 [==============================] - 0s 3ms/step - loss: 1.8359 - acc: 0.3877\n",
            "Epoch 20/500\n",
            "48/48 [==============================] - 0s 3ms/step - loss: 1.8351 - acc: 0.3798\n",
            "Epoch 21/500\n",
            "48/48 [==============================] - 0s 3ms/step - loss: 1.8447 - acc: 0.3997\n",
            "Epoch 22/500\n",
            "48/48 [==============================] - 0s 3ms/step - loss: 1.8363 - acc: 0.3875\n",
            "Epoch 23/500\n",
            "48/48 [==============================] - 0s 3ms/step - loss: 1.8223 - acc: 0.4052\n",
            "Epoch 24/500\n",
            "48/48 [==============================] - 0s 3ms/step - loss: 1.8099 - acc: 0.4117\n",
            "Epoch 25/500\n",
            "48/48 [==============================] - 0s 3ms/step - loss: 1.8001 - acc: 0.4110\n",
            "Epoch 26/500\n",
            "48/48 [==============================] - 0s 3ms/step - loss: 1.8184 - acc: 0.4048\n",
            "Epoch 27/500\n",
            "48/48 [==============================] - 0s 3ms/step - loss: 1.7767 - acc: 0.4182\n",
            "Epoch 28/500\n",
            "48/48 [==============================] - 0s 3ms/step - loss: 1.7550 - acc: 0.4189\n",
            "Epoch 29/500\n",
            "48/48 [==============================] - 0s 3ms/step - loss: 1.7482 - acc: 0.4250\n",
            "Epoch 30/500\n",
            "48/48 [==============================] - 0s 3ms/step - loss: 1.7428 - acc: 0.4228\n",
            "Epoch 31/500\n",
            "48/48 [==============================] - 0s 3ms/step - loss: 1.7514 - acc: 0.4268\n",
            "Epoch 32/500\n",
            "48/48 [==============================] - 0s 3ms/step - loss: 1.7488 - acc: 0.4306\n",
            "Epoch 33/500\n",
            "48/48 [==============================] - 0s 3ms/step - loss: 1.7495 - acc: 0.4177\n",
            "Epoch 34/500\n",
            "48/48 [==============================] - 0s 3ms/step - loss: 1.7483 - acc: 0.4176\n",
            "Epoch 35/500\n",
            "48/48 [==============================] - 0s 3ms/step - loss: 1.6849 - acc: 0.4505\n",
            "Epoch 36/500\n",
            "48/48 [==============================] - 0s 3ms/step - loss: 1.6994 - acc: 0.4355\n",
            "Epoch 37/500\n",
            "48/48 [==============================] - 0s 3ms/step - loss: 1.7226 - acc: 0.4353\n",
            "Epoch 38/500\n",
            "48/48 [==============================] - 0s 3ms/step - loss: 1.7051 - acc: 0.4312\n",
            "Epoch 39/500\n",
            "48/48 [==============================] - 0s 3ms/step - loss: 1.7069 - acc: 0.4411\n",
            "Epoch 40/500\n",
            "48/48 [==============================] - 0s 3ms/step - loss: 1.6757 - acc: 0.4473\n",
            "Epoch 41/500\n",
            "48/48 [==============================] - 0s 3ms/step - loss: 1.7012 - acc: 0.4356\n",
            "Epoch 42/500\n",
            "48/48 [==============================] - 0s 3ms/step - loss: 1.6768 - acc: 0.4490\n",
            "Epoch 43/500\n",
            "48/48 [==============================] - 0s 3ms/step - loss: 1.6794 - acc: 0.4475\n",
            "Epoch 44/500\n",
            "48/48 [==============================] - 0s 3ms/step - loss: 1.6518 - acc: 0.4502\n",
            "Epoch 45/500\n",
            "48/48 [==============================] - 0s 3ms/step - loss: 1.6483 - acc: 0.4616\n",
            "Epoch 46/500\n",
            "48/48 [==============================] - 0s 3ms/step - loss: 1.6731 - acc: 0.4556\n",
            "Epoch 47/500\n",
            "48/48 [==============================] - 0s 3ms/step - loss: 1.6302 - acc: 0.4661\n",
            "Epoch 48/500\n",
            "48/48 [==============================] - 0s 3ms/step - loss: 1.6284 - acc: 0.4758\n",
            "Epoch 49/500\n",
            "48/48 [==============================] - 0s 3ms/step - loss: 1.6041 - acc: 0.4760\n",
            "Epoch 50/500\n",
            "48/48 [==============================] - 0s 3ms/step - loss: 1.6083 - acc: 0.4697\n",
            "Epoch 51/500\n",
            "48/48 [==============================] - 0s 3ms/step - loss: 1.6211 - acc: 0.4698\n",
            "Epoch 52/500\n",
            "48/48 [==============================] - 0s 3ms/step - loss: 1.6057 - acc: 0.4689\n",
            "Epoch 53/500\n",
            "48/48 [==============================] - 0s 3ms/step - loss: 1.6048 - acc: 0.4756\n",
            "Epoch 54/500\n",
            "48/48 [==============================] - 0s 3ms/step - loss: 1.5993 - acc: 0.4736\n",
            "Epoch 55/500\n",
            "48/48 [==============================] - 0s 3ms/step - loss: 1.5952 - acc: 0.4840\n",
            "Epoch 56/500\n",
            "48/48 [==============================] - 0s 3ms/step - loss: 1.5684 - acc: 0.4874\n",
            "Epoch 57/500\n",
            "48/48 [==============================] - 0s 3ms/step - loss: 1.5809 - acc: 0.4759\n",
            "Epoch 58/500\n",
            "48/48 [==============================] - 0s 3ms/step - loss: 1.5676 - acc: 0.4779\n",
            "Epoch 59/500\n",
            "48/48 [==============================] - 0s 3ms/step - loss: 1.5664 - acc: 0.4765\n",
            "Epoch 60/500\n",
            "48/48 [==============================] - 0s 3ms/step - loss: 1.5543 - acc: 0.4907\n",
            "Epoch 61/500\n",
            "48/48 [==============================] - 0s 3ms/step - loss: 1.5585 - acc: 0.4728\n",
            "Epoch 62/500\n",
            "48/48 [==============================] - 0s 3ms/step - loss: 1.5577 - acc: 0.4762\n",
            "Epoch 63/500\n",
            "48/48 [==============================] - 0s 3ms/step - loss: 1.5556 - acc: 0.4812\n",
            "Epoch 64/500\n",
            "48/48 [==============================] - 0s 3ms/step - loss: 1.5237 - acc: 0.4975\n",
            "Epoch 65/500\n",
            "48/48 [==============================] - 0s 3ms/step - loss: 1.5205 - acc: 0.4874\n",
            "Epoch 66/500\n",
            "48/48 [==============================] - 0s 3ms/step - loss: 1.5224 - acc: 0.4879\n",
            "Epoch 67/500\n",
            "48/48 [==============================] - 0s 3ms/step - loss: 1.4979 - acc: 0.5021\n",
            "Epoch 68/500\n",
            "48/48 [==============================] - 0s 3ms/step - loss: 1.5240 - acc: 0.4912\n",
            "Epoch 69/500\n",
            "48/48 [==============================] - 0s 3ms/step - loss: 1.5058 - acc: 0.5022\n",
            "Epoch 70/500\n",
            "48/48 [==============================] - 0s 3ms/step - loss: 1.4986 - acc: 0.5018\n",
            "Epoch 71/500\n",
            "48/48 [==============================] - 0s 3ms/step - loss: 1.4834 - acc: 0.5133\n",
            "Epoch 72/500\n",
            "48/48 [==============================] - 0s 3ms/step - loss: 1.5220 - acc: 0.5126\n",
            "Epoch 73/500\n",
            "48/48 [==============================] - 0s 3ms/step - loss: 1.5076 - acc: 0.4957\n",
            "Epoch 74/500\n",
            "48/48 [==============================] - 0s 3ms/step - loss: 1.4798 - acc: 0.5008\n",
            "Epoch 75/500\n",
            "48/48 [==============================] - 0s 3ms/step - loss: 1.4501 - acc: 0.5145\n",
            "Epoch 76/500\n",
            "48/48 [==============================] - 0s 3ms/step - loss: 1.4673 - acc: 0.5135\n",
            "Epoch 77/500\n",
            "48/48 [==============================] - 0s 3ms/step - loss: 1.4565 - acc: 0.5106\n",
            "Epoch 78/500\n",
            "48/48 [==============================] - 0s 3ms/step - loss: 1.4827 - acc: 0.5009\n",
            "Epoch 79/500\n",
            "48/48 [==============================] - 0s 3ms/step - loss: 1.4586 - acc: 0.5102\n",
            "Epoch 80/500\n",
            "48/48 [==============================] - 0s 3ms/step - loss: 1.4356 - acc: 0.5230\n",
            "Epoch 81/500\n",
            "48/48 [==============================] - 0s 3ms/step - loss: 1.4567 - acc: 0.5055\n",
            "Epoch 82/500\n",
            "48/48 [==============================] - 0s 3ms/step - loss: 1.4279 - acc: 0.5228\n",
            "Epoch 83/500\n",
            "48/48 [==============================] - 0s 3ms/step - loss: 1.4496 - acc: 0.5165\n",
            "Epoch 84/500\n",
            "48/48 [==============================] - 0s 3ms/step - loss: 1.4254 - acc: 0.5175\n",
            "Epoch 85/500\n",
            "48/48 [==============================] - 0s 3ms/step - loss: 1.4263 - acc: 0.5181\n",
            "Epoch 86/500\n",
            "48/48 [==============================] - 0s 3ms/step - loss: 1.4093 - acc: 0.5303\n",
            "Epoch 87/500\n",
            "48/48 [==============================] - 0s 3ms/step - loss: 1.4169 - acc: 0.5215\n",
            "Epoch 88/500\n",
            "48/48 [==============================] - 0s 3ms/step - loss: 1.4321 - acc: 0.5258\n",
            "Epoch 89/500\n",
            "48/48 [==============================] - 0s 3ms/step - loss: 1.4517 - acc: 0.5105\n",
            "Epoch 90/500\n",
            "48/48 [==============================] - 0s 3ms/step - loss: 1.4104 - acc: 0.5201\n",
            "Epoch 91/500\n",
            "48/48 [==============================] - 0s 3ms/step - loss: 1.4085 - acc: 0.5306\n",
            "Epoch 92/500\n",
            "48/48 [==============================] - 0s 3ms/step - loss: 1.4258 - acc: 0.5168\n",
            "Epoch 93/500\n",
            "48/48 [==============================] - 0s 3ms/step - loss: 1.3919 - acc: 0.5318\n",
            "Epoch 94/500\n",
            "48/48 [==============================] - 0s 3ms/step - loss: 1.4033 - acc: 0.5261\n",
            "Epoch 95/500\n",
            "48/48 [==============================] - 0s 4ms/step - loss: 1.4025 - acc: 0.5260\n",
            "Epoch 96/500\n",
            "48/48 [==============================] - 0s 3ms/step - loss: 1.3716 - acc: 0.5381\n",
            "Epoch 97/500\n",
            "48/48 [==============================] - 0s 3ms/step - loss: 1.3751 - acc: 0.5384\n",
            "Epoch 98/500\n",
            "48/48 [==============================] - 0s 3ms/step - loss: 1.3514 - acc: 0.5422\n",
            "Epoch 99/500\n",
            "48/48 [==============================] - 0s 3ms/step - loss: 1.3710 - acc: 0.5408\n",
            "Epoch 100/500\n",
            "48/48 [==============================] - 0s 3ms/step - loss: 1.3691 - acc: 0.5472\n",
            "Epoch 101/500\n",
            "48/48 [==============================] - 0s 3ms/step - loss: 1.3543 - acc: 0.5440\n",
            "Epoch 102/500\n",
            "48/48 [==============================] - 0s 3ms/step - loss: 1.3535 - acc: 0.5445\n",
            "Epoch 103/500\n",
            "48/48 [==============================] - 0s 3ms/step - loss: 1.3706 - acc: 0.5516\n",
            "Epoch 104/500\n",
            "48/48 [==============================] - 0s 3ms/step - loss: 1.3333 - acc: 0.5551\n",
            "Epoch 105/500\n",
            "48/48 [==============================] - 0s 3ms/step - loss: 1.3460 - acc: 0.5429\n",
            "Epoch 106/500\n",
            "48/48 [==============================] - 0s 3ms/step - loss: 1.3432 - acc: 0.5468\n",
            "Epoch 107/500\n",
            "48/48 [==============================] - 0s 3ms/step - loss: 1.3309 - acc: 0.5566\n",
            "Epoch 108/500\n",
            "48/48 [==============================] - 0s 3ms/step - loss: 1.3642 - acc: 0.5420\n",
            "Epoch 109/500\n",
            "48/48 [==============================] - 0s 3ms/step - loss: 1.3406 - acc: 0.5449\n",
            "Epoch 110/500\n",
            "48/48 [==============================] - 0s 3ms/step - loss: 1.3412 - acc: 0.5421\n",
            "Epoch 111/500\n",
            "48/48 [==============================] - 0s 3ms/step - loss: 1.3562 - acc: 0.5439\n",
            "Epoch 112/500\n",
            "48/48 [==============================] - 0s 3ms/step - loss: 1.3015 - acc: 0.5538\n",
            "Epoch 113/500\n",
            "48/48 [==============================] - 0s 3ms/step - loss: 1.3094 - acc: 0.5572\n",
            "Epoch 114/500\n",
            "48/48 [==============================] - 0s 3ms/step - loss: 1.3159 - acc: 0.5580\n",
            "Epoch 115/500\n",
            "48/48 [==============================] - 0s 3ms/step - loss: 1.3089 - acc: 0.5572\n",
            "Epoch 116/500\n",
            "48/48 [==============================] - 0s 3ms/step - loss: 1.2891 - acc: 0.5740\n",
            "Epoch 117/500\n",
            "48/48 [==============================] - 0s 3ms/step - loss: 1.2997 - acc: 0.5603\n",
            "Epoch 118/500\n",
            "48/48 [==============================] - 0s 3ms/step - loss: 1.2926 - acc: 0.5693\n",
            "Epoch 119/500\n",
            "48/48 [==============================] - 0s 3ms/step - loss: 1.2928 - acc: 0.5563\n",
            "Epoch 120/500\n",
            "48/48 [==============================] - 0s 3ms/step - loss: 1.3219 - acc: 0.5544\n",
            "Epoch 121/500\n",
            "48/48 [==============================] - 0s 3ms/step - loss: 1.3395 - acc: 0.5561\n",
            "Epoch 122/500\n",
            "48/48 [==============================] - 0s 3ms/step - loss: 1.2772 - acc: 0.5627\n",
            "Epoch 123/500\n",
            "48/48 [==============================] - 0s 3ms/step - loss: 1.2579 - acc: 0.5712\n",
            "Epoch 124/500\n",
            "48/48 [==============================] - 0s 3ms/step - loss: 1.3024 - acc: 0.5636\n",
            "Epoch 125/500\n",
            "48/48 [==============================] - 0s 3ms/step - loss: 1.2786 - acc: 0.5715\n",
            "Epoch 126/500\n",
            "48/48 [==============================] - 0s 3ms/step - loss: 1.2920 - acc: 0.5569\n",
            "Epoch 127/500\n",
            "48/48 [==============================] - 0s 3ms/step - loss: 1.2865 - acc: 0.5575\n",
            "Epoch 128/500\n",
            "48/48 [==============================] - 0s 3ms/step - loss: 1.2706 - acc: 0.5730\n",
            "Epoch 129/500\n",
            "48/48 [==============================] - 0s 3ms/step - loss: 1.2710 - acc: 0.5640\n",
            "Epoch 130/500\n",
            "48/48 [==============================] - 0s 3ms/step - loss: 1.2661 - acc: 0.5723\n",
            "Epoch 131/500\n",
            "48/48 [==============================] - 0s 3ms/step - loss: 1.2848 - acc: 0.5700\n",
            "Epoch 132/500\n",
            "48/48 [==============================] - 0s 3ms/step - loss: 1.2470 - acc: 0.5893\n",
            "Epoch 133/500\n",
            "48/48 [==============================] - 0s 3ms/step - loss: 1.2427 - acc: 0.5833\n",
            "Epoch 134/500\n",
            "48/48 [==============================] - 0s 3ms/step - loss: 1.2500 - acc: 0.5808\n",
            "Epoch 135/500\n",
            "48/48 [==============================] - 0s 3ms/step - loss: 1.2503 - acc: 0.5730\n",
            "Epoch 136/500\n",
            "48/48 [==============================] - 0s 3ms/step - loss: 1.2629 - acc: 0.5627\n",
            "Epoch 137/500\n",
            "48/48 [==============================] - 0s 3ms/step - loss: 1.2269 - acc: 0.5797\n",
            "Epoch 138/500\n",
            "48/48 [==============================] - 0s 3ms/step - loss: 1.2215 - acc: 0.5856\n",
            "Epoch 139/500\n",
            "48/48 [==============================] - 0s 3ms/step - loss: 1.2289 - acc: 0.5897\n",
            "Epoch 140/500\n",
            "48/48 [==============================] - 0s 3ms/step - loss: 1.2382 - acc: 0.5786\n",
            "Epoch 141/500\n",
            "48/48 [==============================] - 0s 3ms/step - loss: 1.2211 - acc: 0.5804\n",
            "Epoch 142/500\n",
            "48/48 [==============================] - 0s 3ms/step - loss: 1.2217 - acc: 0.5921\n",
            "Epoch 143/500\n",
            "48/48 [==============================] - 0s 3ms/step - loss: 1.2438 - acc: 0.5755\n",
            "Epoch 144/500\n",
            "48/48 [==============================] - 0s 3ms/step - loss: 1.2018 - acc: 0.5929\n",
            "Epoch 145/500\n",
            "48/48 [==============================] - 0s 3ms/step - loss: 1.2238 - acc: 0.5812\n",
            "Epoch 146/500\n",
            "48/48 [==============================] - 0s 3ms/step - loss: 1.2103 - acc: 0.5870\n",
            "Epoch 147/500\n",
            "48/48 [==============================] - 0s 3ms/step - loss: 1.2297 - acc: 0.5737\n",
            "Epoch 148/500\n",
            "48/48 [==============================] - 0s 3ms/step - loss: 1.2117 - acc: 0.5800\n",
            "Epoch 149/500\n",
            "48/48 [==============================] - 0s 3ms/step - loss: 1.2124 - acc: 0.5814\n",
            "Epoch 150/500\n",
            "48/48 [==============================] - 0s 3ms/step - loss: 1.2176 - acc: 0.5896\n",
            "Epoch 151/500\n",
            "48/48 [==============================] - 0s 3ms/step - loss: 1.2160 - acc: 0.5899\n",
            "Epoch 152/500\n",
            "48/48 [==============================] - 0s 3ms/step - loss: 1.1886 - acc: 0.5979\n",
            "Epoch 153/500\n",
            "48/48 [==============================] - 0s 3ms/step - loss: 1.1896 - acc: 0.5928\n",
            "Epoch 154/500\n",
            "48/48 [==============================] - 0s 3ms/step - loss: 1.2062 - acc: 0.5858\n",
            "Epoch 155/500\n",
            "48/48 [==============================] - 0s 3ms/step - loss: 1.1895 - acc: 0.6023\n",
            "Epoch 156/500\n",
            "48/48 [==============================] - 0s 3ms/step - loss: 1.1877 - acc: 0.6015\n",
            "Epoch 157/500\n",
            "48/48 [==============================] - 0s 3ms/step - loss: 1.1754 - acc: 0.6045\n",
            "Epoch 158/500\n",
            "48/48 [==============================] - 0s 3ms/step - loss: 1.1623 - acc: 0.5948\n",
            "Epoch 159/500\n",
            "48/48 [==============================] - 0s 3ms/step - loss: 1.1663 - acc: 0.5979\n",
            "Epoch 160/500\n",
            "48/48 [==============================] - 0s 3ms/step - loss: 1.2068 - acc: 0.5868\n",
            "Epoch 161/500\n",
            "48/48 [==============================] - 0s 3ms/step - loss: 1.1716 - acc: 0.6076\n",
            "Epoch 162/500\n",
            "48/48 [==============================] - 0s 3ms/step - loss: 1.1530 - acc: 0.6085\n",
            "Epoch 163/500\n",
            "48/48 [==============================] - 0s 3ms/step - loss: 1.1620 - acc: 0.5925\n",
            "Epoch 164/500\n",
            "48/48 [==============================] - 0s 3ms/step - loss: 1.1514 - acc: 0.6087\n",
            "Epoch 165/500\n",
            "48/48 [==============================] - 0s 3ms/step - loss: 1.1715 - acc: 0.6082\n",
            "Epoch 166/500\n",
            "48/48 [==============================] - 0s 3ms/step - loss: 1.1589 - acc: 0.6037\n",
            "Epoch 167/500\n",
            "48/48 [==============================] - 0s 3ms/step - loss: 1.1709 - acc: 0.5983\n",
            "Epoch 168/500\n",
            "48/48 [==============================] - 0s 3ms/step - loss: 1.1522 - acc: 0.6120\n",
            "Epoch 169/500\n",
            "48/48 [==============================] - 0s 3ms/step - loss: 1.1445 - acc: 0.6104\n",
            "Epoch 170/500\n",
            "48/48 [==============================] - 0s 3ms/step - loss: 1.1253 - acc: 0.6152\n",
            "Epoch 171/500\n",
            "48/48 [==============================] - 0s 3ms/step - loss: 1.1574 - acc: 0.6015\n",
            "Epoch 172/500\n",
            "48/48 [==============================] - 0s 3ms/step - loss: 1.1289 - acc: 0.6224\n",
            "Epoch 173/500\n",
            "48/48 [==============================] - 0s 3ms/step - loss: 1.1535 - acc: 0.5967\n",
            "Epoch 174/500\n",
            "48/48 [==============================] - 0s 3ms/step - loss: 1.1367 - acc: 0.6017\n",
            "Epoch 175/500\n",
            "48/48 [==============================] - 0s 3ms/step - loss: 1.1456 - acc: 0.6015\n",
            "Epoch 176/500\n",
            "48/48 [==============================] - 0s 3ms/step - loss: 1.1363 - acc: 0.6203\n",
            "Epoch 177/500\n",
            "48/48 [==============================] - 0s 3ms/step - loss: 1.1220 - acc: 0.6132\n",
            "Epoch 178/500\n",
            "48/48 [==============================] - 0s 3ms/step - loss: 1.1532 - acc: 0.6029\n",
            "Epoch 179/500\n",
            "48/48 [==============================] - 0s 3ms/step - loss: 1.1469 - acc: 0.6105\n",
            "Epoch 180/500\n",
            "48/48 [==============================] - 0s 3ms/step - loss: 1.1456 - acc: 0.6130\n",
            "Epoch 181/500\n",
            "48/48 [==============================] - 0s 3ms/step - loss: 1.1545 - acc: 0.6062\n",
            "Epoch 182/500\n",
            "48/48 [==============================] - 0s 3ms/step - loss: 1.1298 - acc: 0.6009\n",
            "Epoch 183/500\n",
            "48/48 [==============================] - 0s 3ms/step - loss: 1.1013 - acc: 0.6201\n",
            "Epoch 184/500\n",
            "48/48 [==============================] - 0s 3ms/step - loss: 1.1035 - acc: 0.6242\n",
            "Epoch 185/500\n",
            "48/48 [==============================] - 0s 3ms/step - loss: 1.0891 - acc: 0.6221\n",
            "Epoch 186/500\n",
            "48/48 [==============================] - 0s 3ms/step - loss: 1.1208 - acc: 0.6105\n",
            "Epoch 187/500\n",
            "48/48 [==============================] - 0s 3ms/step - loss: 1.0969 - acc: 0.6140\n",
            "Epoch 188/500\n",
            "48/48 [==============================] - 0s 3ms/step - loss: 1.1027 - acc: 0.6215\n",
            "Epoch 189/500\n",
            "48/48 [==============================] - 0s 3ms/step - loss: 1.1148 - acc: 0.6081\n",
            "Epoch 190/500\n",
            "48/48 [==============================] - 0s 3ms/step - loss: 1.0913 - acc: 0.6090\n",
            "Epoch 191/500\n",
            "48/48 [==============================] - 0s 3ms/step - loss: 1.1053 - acc: 0.6179\n",
            "Epoch 192/500\n",
            "48/48 [==============================] - 0s 4ms/step - loss: 1.0786 - acc: 0.6192\n",
            "Epoch 193/500\n",
            "48/48 [==============================] - 0s 3ms/step - loss: 1.0786 - acc: 0.6345\n",
            "Epoch 194/500\n",
            "48/48 [==============================] - 0s 3ms/step - loss: 1.1240 - acc: 0.6178\n",
            "Epoch 195/500\n",
            "48/48 [==============================] - 0s 3ms/step - loss: 1.1144 - acc: 0.6243\n",
            "Epoch 196/500\n",
            "48/48 [==============================] - 0s 3ms/step - loss: 1.0874 - acc: 0.6154\n",
            "Epoch 197/500\n",
            "48/48 [==============================] - 0s 3ms/step - loss: 1.1219 - acc: 0.6026\n",
            "Epoch 198/500\n",
            "48/48 [==============================] - 0s 3ms/step - loss: 1.0991 - acc: 0.6164\n",
            "Epoch 199/500\n",
            "48/48 [==============================] - 0s 3ms/step - loss: 1.0945 - acc: 0.6164\n",
            "Epoch 200/500\n",
            "48/48 [==============================] - 0s 3ms/step - loss: 1.0929 - acc: 0.6186\n",
            "Epoch 201/500\n",
            "48/48 [==============================] - 0s 3ms/step - loss: 1.1016 - acc: 0.6059\n",
            "Epoch 202/500\n",
            "48/48 [==============================] - 0s 3ms/step - loss: 1.0949 - acc: 0.6192\n",
            "Epoch 203/500\n",
            "48/48 [==============================] - 0s 3ms/step - loss: 1.1001 - acc: 0.6255\n",
            "Epoch 204/500\n",
            "48/48 [==============================] - 0s 3ms/step - loss: 1.0955 - acc: 0.6192\n",
            "Epoch 205/500\n",
            "48/48 [==============================] - 0s 3ms/step - loss: 1.0785 - acc: 0.6295\n",
            "Epoch 206/500\n",
            "48/48 [==============================] - 0s 3ms/step - loss: 1.1096 - acc: 0.6177\n",
            "Epoch 207/500\n",
            "48/48 [==============================] - 0s 3ms/step - loss: 1.0509 - acc: 0.6257\n",
            "Epoch 208/500\n",
            "48/48 [==============================] - 0s 3ms/step - loss: 1.0654 - acc: 0.6301\n",
            "Epoch 209/500\n",
            "48/48 [==============================] - 0s 3ms/step - loss: 1.0496 - acc: 0.6375\n",
            "Epoch 210/500\n",
            "48/48 [==============================] - 0s 3ms/step - loss: 1.0799 - acc: 0.6230\n",
            "Epoch 211/500\n",
            "48/48 [==============================] - 0s 3ms/step - loss: 1.0664 - acc: 0.6353\n",
            "Epoch 212/500\n",
            "48/48 [==============================] - 0s 3ms/step - loss: 1.0711 - acc: 0.6323\n",
            "Epoch 213/500\n",
            "48/48 [==============================] - 0s 3ms/step - loss: 1.0432 - acc: 0.6310\n",
            "Epoch 214/500\n",
            "48/48 [==============================] - 0s 3ms/step - loss: 1.0244 - acc: 0.6340\n",
            "Epoch 215/500\n",
            "48/48 [==============================] - 0s 3ms/step - loss: 1.0638 - acc: 0.6245\n",
            "Epoch 216/500\n",
            "48/48 [==============================] - 0s 3ms/step - loss: 1.0517 - acc: 0.6376\n",
            "Epoch 217/500\n",
            "48/48 [==============================] - 0s 3ms/step - loss: 1.0689 - acc: 0.6241\n",
            "Epoch 218/500\n",
            "48/48 [==============================] - 0s 3ms/step - loss: 1.0358 - acc: 0.6434\n",
            "Epoch 219/500\n",
            "48/48 [==============================] - 0s 3ms/step - loss: 1.0438 - acc: 0.6422\n",
            "Epoch 220/500\n",
            "48/48 [==============================] - 0s 3ms/step - loss: 1.0443 - acc: 0.6349\n",
            "Epoch 221/500\n",
            "48/48 [==============================] - 0s 3ms/step - loss: 1.0693 - acc: 0.6187\n",
            "Epoch 222/500\n",
            "48/48 [==============================] - 0s 3ms/step - loss: 1.0490 - acc: 0.6347\n",
            "Epoch 223/500\n",
            "48/48 [==============================] - 0s 3ms/step - loss: 1.0510 - acc: 0.6334\n",
            "Epoch 224/500\n",
            "48/48 [==============================] - 0s 3ms/step - loss: 1.0264 - acc: 0.6317\n",
            "Epoch 225/500\n",
            "48/48 [==============================] - 0s 3ms/step - loss: 1.0622 - acc: 0.6340\n",
            "Epoch 226/500\n",
            "48/48 [==============================] - 0s 3ms/step - loss: 1.0576 - acc: 0.6283\n",
            "Epoch 227/500\n",
            "48/48 [==============================] - 0s 3ms/step - loss: 1.0179 - acc: 0.6499\n",
            "Epoch 228/500\n",
            "48/48 [==============================] - 0s 3ms/step - loss: 1.0594 - acc: 0.6383\n",
            "Epoch 229/500\n",
            "48/48 [==============================] - 0s 3ms/step - loss: 1.0253 - acc: 0.6360\n",
            "Epoch 230/500\n",
            "48/48 [==============================] - 0s 3ms/step - loss: 1.0389 - acc: 0.6324\n",
            "Epoch 231/500\n",
            "48/48 [==============================] - 0s 3ms/step - loss: 1.0351 - acc: 0.6465\n",
            "Epoch 232/500\n",
            "48/48 [==============================] - 0s 3ms/step - loss: 1.0281 - acc: 0.6454\n",
            "Epoch 233/500\n",
            "48/48 [==============================] - 0s 3ms/step - loss: 1.0140 - acc: 0.6437\n",
            "Epoch 234/500\n",
            "48/48 [==============================] - 0s 3ms/step - loss: 1.0285 - acc: 0.6375\n",
            "Epoch 235/500\n",
            "48/48 [==============================] - 0s 3ms/step - loss: 1.0513 - acc: 0.6294\n",
            "Epoch 236/500\n",
            "48/48 [==============================] - 0s 3ms/step - loss: 1.0124 - acc: 0.6370\n",
            "Epoch 237/500\n",
            "48/48 [==============================] - 0s 3ms/step - loss: 1.0320 - acc: 0.6384\n",
            "Epoch 238/500\n",
            "48/48 [==============================] - 0s 4ms/step - loss: 1.0229 - acc: 0.6430\n",
            "Epoch 239/500\n",
            "48/48 [==============================] - 0s 3ms/step - loss: 1.0039 - acc: 0.6501\n",
            "Epoch 240/500\n",
            "48/48 [==============================] - 0s 3ms/step - loss: 1.0119 - acc: 0.6484\n",
            "Epoch 241/500\n",
            "48/48 [==============================] - 0s 3ms/step - loss: 1.0229 - acc: 0.6447\n",
            "Epoch 242/500\n",
            "48/48 [==============================] - 0s 3ms/step - loss: 1.0238 - acc: 0.6395\n",
            "Epoch 243/500\n",
            "48/48 [==============================] - 0s 3ms/step - loss: 1.0149 - acc: 0.6472\n",
            "Epoch 244/500\n",
            "48/48 [==============================] - 0s 3ms/step - loss: 1.0049 - acc: 0.6517\n",
            "Epoch 245/500\n",
            "48/48 [==============================] - 0s 3ms/step - loss: 1.0265 - acc: 0.6387\n",
            "Epoch 246/500\n",
            "48/48 [==============================] - 0s 3ms/step - loss: 1.0393 - acc: 0.6442\n",
            "Epoch 247/500\n",
            "48/48 [==============================] - 0s 3ms/step - loss: 1.0042 - acc: 0.6501\n",
            "Epoch 248/500\n",
            "48/48 [==============================] - 0s 3ms/step - loss: 0.9830 - acc: 0.6635\n",
            "Epoch 249/500\n",
            "48/48 [==============================] - 0s 3ms/step - loss: 1.0353 - acc: 0.6395\n",
            "Epoch 250/500\n",
            "48/48 [==============================] - 0s 3ms/step - loss: 1.0010 - acc: 0.6553\n",
            "Epoch 251/500\n",
            "48/48 [==============================] - 0s 3ms/step - loss: 1.0196 - acc: 0.6381\n",
            "Epoch 252/500\n",
            "48/48 [==============================] - 0s 3ms/step - loss: 0.9569 - acc: 0.6639\n",
            "Epoch 253/500\n",
            "48/48 [==============================] - 0s 3ms/step - loss: 0.9804 - acc: 0.6536\n",
            "Epoch 254/500\n",
            "48/48 [==============================] - 0s 3ms/step - loss: 1.0071 - acc: 0.6414\n",
            "Epoch 255/500\n",
            "48/48 [==============================] - 0s 3ms/step - loss: 1.0095 - acc: 0.6447\n",
            "Epoch 256/500\n",
            "48/48 [==============================] - 0s 3ms/step - loss: 0.9983 - acc: 0.6517\n",
            "Epoch 257/500\n",
            "48/48 [==============================] - 0s 3ms/step - loss: 1.0143 - acc: 0.6472\n",
            "Epoch 258/500\n",
            "48/48 [==============================] - 0s 3ms/step - loss: 0.9953 - acc: 0.6473\n",
            "Epoch 259/500\n",
            "48/48 [==============================] - 0s 3ms/step - loss: 1.0045 - acc: 0.6475\n",
            "Epoch 260/500\n",
            "48/48 [==============================] - 0s 3ms/step - loss: 0.9729 - acc: 0.6515\n",
            "Epoch 261/500\n",
            "48/48 [==============================] - 0s 4ms/step - loss: 1.0060 - acc: 0.6431\n",
            "Epoch 262/500\n",
            "48/48 [==============================] - 0s 3ms/step - loss: 0.9677 - acc: 0.6674\n",
            "Epoch 263/500\n",
            "48/48 [==============================] - 0s 3ms/step - loss: 0.9681 - acc: 0.6615\n",
            "Epoch 264/500\n",
            "48/48 [==============================] - 0s 3ms/step - loss: 0.9678 - acc: 0.6595\n",
            "Epoch 265/500\n",
            "48/48 [==============================] - 0s 3ms/step - loss: 0.9799 - acc: 0.6600\n",
            "Epoch 266/500\n",
            "48/48 [==============================] - 0s 3ms/step - loss: 0.9535 - acc: 0.6533\n",
            "Epoch 267/500\n",
            "48/48 [==============================] - 0s 3ms/step - loss: 0.9867 - acc: 0.6489\n",
            "Epoch 268/500\n",
            "48/48 [==============================] - 0s 3ms/step - loss: 0.9859 - acc: 0.6525\n",
            "Epoch 269/500\n",
            "48/48 [==============================] - 0s 3ms/step - loss: 0.9482 - acc: 0.6716\n",
            "Epoch 270/500\n",
            "48/48 [==============================] - 0s 3ms/step - loss: 0.9450 - acc: 0.6694\n",
            "Epoch 271/500\n",
            "48/48 [==============================] - 0s 3ms/step - loss: 0.9881 - acc: 0.6599\n",
            "Epoch 272/500\n",
            "48/48 [==============================] - 0s 3ms/step - loss: 0.9881 - acc: 0.6398\n",
            "Epoch 273/500\n",
            "48/48 [==============================] - 0s 3ms/step - loss: 0.9471 - acc: 0.6726\n",
            "Epoch 274/500\n",
            "48/48 [==============================] - 0s 3ms/step - loss: 0.9755 - acc: 0.6645\n",
            "Epoch 275/500\n",
            "48/48 [==============================] - 0s 3ms/step - loss: 0.9840 - acc: 0.6568\n",
            "Epoch 276/500\n",
            "48/48 [==============================] - 0s 3ms/step - loss: 0.9603 - acc: 0.6684\n",
            "Epoch 277/500\n",
            "48/48 [==============================] - 0s 3ms/step - loss: 0.9707 - acc: 0.6559\n",
            "Epoch 278/500\n",
            "48/48 [==============================] - 0s 3ms/step - loss: 0.9571 - acc: 0.6570\n",
            "Epoch 279/500\n",
            "48/48 [==============================] - 0s 3ms/step - loss: 0.9357 - acc: 0.6705\n",
            "Epoch 280/500\n",
            "48/48 [==============================] - 0s 3ms/step - loss: 0.9445 - acc: 0.6669\n",
            "Epoch 281/500\n",
            "48/48 [==============================] - 0s 3ms/step - loss: 0.9537 - acc: 0.6623\n",
            "Epoch 282/500\n",
            "48/48 [==============================] - 0s 3ms/step - loss: 0.9415 - acc: 0.6747\n",
            "Epoch 283/500\n",
            "48/48 [==============================] - 0s 3ms/step - loss: 0.9334 - acc: 0.6699\n",
            "Epoch 284/500\n",
            "48/48 [==============================] - 0s 3ms/step - loss: 0.9417 - acc: 0.6648\n",
            "Epoch 285/500\n",
            "48/48 [==============================] - 0s 3ms/step - loss: 0.9223 - acc: 0.6776\n",
            "Epoch 286/500\n",
            "48/48 [==============================] - 0s 3ms/step - loss: 0.9246 - acc: 0.6751\n",
            "Epoch 287/500\n",
            "48/48 [==============================] - 0s 3ms/step - loss: 0.9336 - acc: 0.6677\n",
            "Epoch 288/500\n",
            "48/48 [==============================] - 0s 3ms/step - loss: 0.9306 - acc: 0.6731\n",
            "Epoch 289/500\n",
            "48/48 [==============================] - 0s 3ms/step - loss: 0.9479 - acc: 0.6673\n",
            "Epoch 290/500\n",
            "48/48 [==============================] - 0s 3ms/step - loss: 0.9417 - acc: 0.6656\n",
            "Epoch 291/500\n",
            "48/48 [==============================] - 0s 3ms/step - loss: 0.9360 - acc: 0.6666\n",
            "Epoch 292/500\n",
            "48/48 [==============================] - 0s 3ms/step - loss: 0.9353 - acc: 0.6789\n",
            "Epoch 293/500\n",
            "48/48 [==============================] - 0s 3ms/step - loss: 0.9434 - acc: 0.6581\n",
            "Epoch 294/500\n",
            "48/48 [==============================] - 0s 3ms/step - loss: 0.9297 - acc: 0.6774\n",
            "Epoch 295/500\n",
            "48/48 [==============================] - 0s 3ms/step - loss: 0.9509 - acc: 0.6618\n",
            "Epoch 296/500\n",
            "48/48 [==============================] - 0s 3ms/step - loss: 0.9152 - acc: 0.6736\n",
            "Epoch 297/500\n",
            "48/48 [==============================] - 0s 3ms/step - loss: 0.9138 - acc: 0.6780\n",
            "Epoch 298/500\n",
            "48/48 [==============================] - 0s 3ms/step - loss: 0.9202 - acc: 0.6728\n",
            "Epoch 299/500\n",
            "48/48 [==============================] - 0s 3ms/step - loss: 0.9282 - acc: 0.6710\n",
            "Epoch 300/500\n",
            "48/48 [==============================] - 0s 3ms/step - loss: 0.9267 - acc: 0.6745\n",
            "Epoch 301/500\n",
            "48/48 [==============================] - 0s 3ms/step - loss: 0.9168 - acc: 0.6757\n",
            "Epoch 302/500\n",
            "48/48 [==============================] - 0s 3ms/step - loss: 0.8982 - acc: 0.6822\n",
            "Epoch 303/500\n",
            "48/48 [==============================] - 0s 3ms/step - loss: 0.9016 - acc: 0.6788\n",
            "Epoch 304/500\n",
            "48/48 [==============================] - 0s 3ms/step - loss: 0.9271 - acc: 0.6819\n",
            "Epoch 305/500\n",
            "48/48 [==============================] - 0s 3ms/step - loss: 0.9496 - acc: 0.6589\n",
            "Epoch 306/500\n",
            "48/48 [==============================] - 0s 3ms/step - loss: 0.9129 - acc: 0.6751\n",
            "Epoch 307/500\n",
            "48/48 [==============================] - 0s 3ms/step - loss: 0.8945 - acc: 0.6813\n",
            "Epoch 308/500\n",
            "48/48 [==============================] - 0s 3ms/step - loss: 0.9011 - acc: 0.6771\n",
            "Epoch 309/500\n",
            "48/48 [==============================] - 0s 3ms/step - loss: 0.9274 - acc: 0.6702\n",
            "Epoch 310/500\n",
            "48/48 [==============================] - 0s 3ms/step - loss: 0.8946 - acc: 0.6735\n",
            "Epoch 311/500\n",
            "48/48 [==============================] - 0s 3ms/step - loss: 0.9016 - acc: 0.6817\n",
            "Epoch 312/500\n",
            "48/48 [==============================] - 0s 3ms/step - loss: 0.9046 - acc: 0.6671\n",
            "Epoch 313/500\n",
            "48/48 [==============================] - 0s 3ms/step - loss: 0.9227 - acc: 0.6719\n",
            "Epoch 314/500\n",
            "48/48 [==============================] - 0s 3ms/step - loss: 0.8867 - acc: 0.6846\n",
            "Epoch 315/500\n",
            "48/48 [==============================] - 0s 3ms/step - loss: 0.8886 - acc: 0.6841\n",
            "Epoch 316/500\n",
            "48/48 [==============================] - 0s 3ms/step - loss: 0.9162 - acc: 0.6755\n",
            "Epoch 317/500\n",
            "48/48 [==============================] - 0s 3ms/step - loss: 0.9285 - acc: 0.6736\n",
            "Epoch 318/500\n",
            "48/48 [==============================] - 0s 3ms/step - loss: 0.9041 - acc: 0.6862\n",
            "Epoch 319/500\n",
            "48/48 [==============================] - 0s 3ms/step - loss: 0.9245 - acc: 0.6760\n",
            "Epoch 320/500\n",
            "48/48 [==============================] - 0s 3ms/step - loss: 0.8889 - acc: 0.6787\n",
            "Epoch 321/500\n",
            "48/48 [==============================] - 0s 3ms/step - loss: 0.8896 - acc: 0.6870\n",
            "Epoch 322/500\n",
            "48/48 [==============================] - 0s 3ms/step - loss: 0.9047 - acc: 0.6820\n",
            "Epoch 323/500\n",
            "48/48 [==============================] - 0s 3ms/step - loss: 0.8874 - acc: 0.6905\n",
            "Epoch 324/500\n",
            "48/48 [==============================] - 0s 3ms/step - loss: 0.8810 - acc: 0.6933\n",
            "Epoch 325/500\n",
            "48/48 [==============================] - 0s 3ms/step - loss: 0.9078 - acc: 0.6788\n",
            "Epoch 326/500\n",
            "48/48 [==============================] - 0s 3ms/step - loss: 0.8743 - acc: 0.6904\n",
            "Epoch 327/500\n",
            "48/48 [==============================] - 0s 3ms/step - loss: 0.8702 - acc: 0.6854\n",
            "Epoch 328/500\n",
            "48/48 [==============================] - 0s 3ms/step - loss: 0.9247 - acc: 0.6802\n",
            "Epoch 329/500\n",
            "48/48 [==============================] - 0s 3ms/step - loss: 0.9132 - acc: 0.6736\n",
            "Epoch 330/500\n",
            "48/48 [==============================] - 0s 3ms/step - loss: 0.8650 - acc: 0.6997\n",
            "Epoch 331/500\n",
            "48/48 [==============================] - 0s 3ms/step - loss: 0.8612 - acc: 0.6914\n",
            "Epoch 332/500\n",
            "48/48 [==============================] - 0s 3ms/step - loss: 0.8843 - acc: 0.6856\n",
            "Epoch 333/500\n",
            "48/48 [==============================] - 0s 3ms/step - loss: 0.8576 - acc: 0.6967\n",
            "Epoch 334/500\n",
            "48/48 [==============================] - 0s 3ms/step - loss: 0.8888 - acc: 0.6830\n",
            "Epoch 335/500\n",
            "48/48 [==============================] - 0s 3ms/step - loss: 0.8753 - acc: 0.6748\n",
            "Epoch 336/500\n",
            "48/48 [==============================] - 0s 3ms/step - loss: 0.8888 - acc: 0.6760\n",
            "Epoch 337/500\n",
            "48/48 [==============================] - 0s 3ms/step - loss: 0.8894 - acc: 0.6872\n",
            "Epoch 338/500\n",
            "48/48 [==============================] - 0s 3ms/step - loss: 0.8826 - acc: 0.6876\n",
            "Epoch 339/500\n",
            "48/48 [==============================] - 0s 3ms/step - loss: 0.8663 - acc: 0.6977\n",
            "Epoch 340/500\n",
            "48/48 [==============================] - 0s 3ms/step - loss: 0.8565 - acc: 0.6941\n",
            "Epoch 341/500\n",
            "48/48 [==============================] - 0s 3ms/step - loss: 0.8919 - acc: 0.6743\n",
            "Epoch 342/500\n",
            "48/48 [==============================] - 0s 3ms/step - loss: 0.8749 - acc: 0.6839\n",
            "Epoch 343/500\n",
            "48/48 [==============================] - 0s 3ms/step - loss: 0.8900 - acc: 0.6837\n",
            "Epoch 344/500\n",
            "48/48 [==============================] - 0s 3ms/step - loss: 0.8820 - acc: 0.6854\n",
            "Epoch 345/500\n",
            "48/48 [==============================] - 0s 3ms/step - loss: 0.8812 - acc: 0.6808\n",
            "Epoch 346/500\n",
            "48/48 [==============================] - 0s 3ms/step - loss: 0.8541 - acc: 0.6948\n",
            "Epoch 347/500\n",
            "48/48 [==============================] - 0s 3ms/step - loss: 0.8732 - acc: 0.6888\n",
            "Epoch 348/500\n",
            "48/48 [==============================] - 0s 3ms/step - loss: 0.8531 - acc: 0.6943\n",
            "Epoch 349/500\n",
            "48/48 [==============================] - 0s 3ms/step - loss: 0.8686 - acc: 0.6939\n",
            "Epoch 350/500\n",
            "48/48 [==============================] - 0s 3ms/step - loss: 0.8647 - acc: 0.6957\n",
            "Epoch 351/500\n",
            "48/48 [==============================] - 0s 3ms/step - loss: 0.8742 - acc: 0.6880\n",
            "Epoch 352/500\n",
            "48/48 [==============================] - 0s 4ms/step - loss: 0.8797 - acc: 0.6739\n",
            "Epoch 353/500\n",
            "48/48 [==============================] - 0s 3ms/step - loss: 0.8719 - acc: 0.6902\n",
            "Epoch 354/500\n",
            "48/48 [==============================] - 0s 3ms/step - loss: 0.8641 - acc: 0.6931\n",
            "Epoch 355/500\n",
            "48/48 [==============================] - 0s 3ms/step - loss: 0.8527 - acc: 0.6895\n",
            "Epoch 356/500\n",
            "48/48 [==============================] - 0s 3ms/step - loss: 0.8627 - acc: 0.6980\n",
            "Epoch 357/500\n",
            "48/48 [==============================] - 0s 4ms/step - loss: 0.8647 - acc: 0.6866\n",
            "Epoch 358/500\n",
            "48/48 [==============================] - 0s 3ms/step - loss: 0.8480 - acc: 0.6945\n",
            "Epoch 359/500\n",
            "48/48 [==============================] - 0s 3ms/step - loss: 0.8443 - acc: 0.6980\n",
            "Epoch 360/500\n",
            "48/48 [==============================] - 0s 3ms/step - loss: 0.8575 - acc: 0.6873\n",
            "Epoch 361/500\n",
            "48/48 [==============================] - 0s 3ms/step - loss: 0.8630 - acc: 0.6874\n",
            "Epoch 362/500\n",
            "48/48 [==============================] - 0s 3ms/step - loss: 0.8616 - acc: 0.6965\n",
            "Epoch 363/500\n",
            "48/48 [==============================] - 0s 3ms/step - loss: 0.8580 - acc: 0.6909\n",
            "Epoch 364/500\n",
            "48/48 [==============================] - 0s 3ms/step - loss: 0.8738 - acc: 0.6953\n",
            "Epoch 365/500\n",
            "48/48 [==============================] - 0s 3ms/step - loss: 0.8417 - acc: 0.6892\n",
            "Epoch 366/500\n",
            "48/48 [==============================] - 0s 3ms/step - loss: 0.8581 - acc: 0.6940\n",
            "Epoch 367/500\n",
            "48/48 [==============================] - 0s 3ms/step - loss: 0.8104 - acc: 0.7119\n",
            "Epoch 368/500\n",
            "48/48 [==============================] - 0s 3ms/step - loss: 0.8395 - acc: 0.6981\n",
            "Epoch 369/500\n",
            "48/48 [==============================] - 0s 3ms/step - loss: 0.8353 - acc: 0.7105\n",
            "Epoch 370/500\n",
            "48/48 [==============================] - 0s 3ms/step - loss: 0.8469 - acc: 0.6864\n",
            "Epoch 371/500\n",
            "48/48 [==============================] - 0s 4ms/step - loss: 0.8529 - acc: 0.6962\n",
            "Epoch 372/500\n",
            "48/48 [==============================] - 0s 3ms/step - loss: 0.8795 - acc: 0.6814\n",
            "Epoch 373/500\n",
            "48/48 [==============================] - 0s 3ms/step - loss: 0.8565 - acc: 0.6938\n",
            "Epoch 374/500\n",
            "48/48 [==============================] - 0s 3ms/step - loss: 0.8291 - acc: 0.7056\n",
            "Epoch 375/500\n",
            "48/48 [==============================] - 0s 3ms/step - loss: 0.8625 - acc: 0.7007\n",
            "Epoch 376/500\n",
            "48/48 [==============================] - 0s 4ms/step - loss: 0.8399 - acc: 0.7050\n",
            "Epoch 377/500\n",
            "48/48 [==============================] - 0s 3ms/step - loss: 0.8237 - acc: 0.7018\n",
            "Epoch 378/500\n",
            "48/48 [==============================] - 0s 3ms/step - loss: 0.8632 - acc: 0.6869\n",
            "Epoch 379/500\n",
            "48/48 [==============================] - 0s 3ms/step - loss: 0.8401 - acc: 0.6975\n",
            "Epoch 380/500\n",
            "48/48 [==============================] - 0s 3ms/step - loss: 0.8374 - acc: 0.6972\n",
            "Epoch 381/500\n",
            "48/48 [==============================] - 0s 3ms/step - loss: 0.8312 - acc: 0.6953\n",
            "Epoch 382/500\n",
            "48/48 [==============================] - 0s 3ms/step - loss: 0.8208 - acc: 0.7110\n",
            "Epoch 383/500\n",
            "48/48 [==============================] - 0s 3ms/step - loss: 0.8231 - acc: 0.7059\n",
            "Epoch 384/500\n",
            "48/48 [==============================] - 0s 3ms/step - loss: 0.8495 - acc: 0.6952\n",
            "Epoch 385/500\n",
            "48/48 [==============================] - 0s 3ms/step - loss: 0.8418 - acc: 0.7028\n",
            "Epoch 386/500\n",
            "48/48 [==============================] - 0s 3ms/step - loss: 0.8183 - acc: 0.7043\n",
            "Epoch 387/500\n",
            "48/48 [==============================] - 0s 3ms/step - loss: 0.8351 - acc: 0.7003\n",
            "Epoch 388/500\n",
            "48/48 [==============================] - 0s 3ms/step - loss: 0.8285 - acc: 0.6987\n",
            "Epoch 389/500\n",
            "48/48 [==============================] - 0s 3ms/step - loss: 0.8219 - acc: 0.7078\n",
            "Epoch 390/500\n",
            "48/48 [==============================] - 0s 3ms/step - loss: 0.8051 - acc: 0.7018\n",
            "Epoch 391/500\n",
            "48/48 [==============================] - 0s 3ms/step - loss: 0.8433 - acc: 0.6907\n",
            "Epoch 392/500\n",
            "48/48 [==============================] - 0s 3ms/step - loss: 0.7995 - acc: 0.7168\n",
            "Epoch 393/500\n",
            "48/48 [==============================] - 0s 3ms/step - loss: 0.8525 - acc: 0.6918\n",
            "Epoch 394/500\n",
            "48/48 [==============================] - 0s 3ms/step - loss: 0.8029 - acc: 0.7103\n",
            "Epoch 395/500\n",
            "48/48 [==============================] - 0s 3ms/step - loss: 0.8073 - acc: 0.7031\n",
            "Epoch 396/500\n",
            "48/48 [==============================] - 0s 3ms/step - loss: 0.8405 - acc: 0.6962\n",
            "Epoch 397/500\n",
            "48/48 [==============================] - 0s 3ms/step - loss: 0.8187 - acc: 0.7053\n",
            "Epoch 398/500\n",
            "48/48 [==============================] - 0s 3ms/step - loss: 0.8040 - acc: 0.7026\n",
            "Epoch 399/500\n",
            "48/48 [==============================] - 0s 3ms/step - loss: 0.8180 - acc: 0.7003\n",
            "Epoch 400/500\n",
            "48/48 [==============================] - 0s 3ms/step - loss: 0.8145 - acc: 0.7028\n",
            "Epoch 401/500\n",
            "48/48 [==============================] - 0s 3ms/step - loss: 0.7971 - acc: 0.7091\n",
            "Epoch 402/500\n",
            "48/48 [==============================] - 0s 3ms/step - loss: 0.8097 - acc: 0.7082\n",
            "Epoch 403/500\n",
            "48/48 [==============================] - 0s 3ms/step - loss: 0.8089 - acc: 0.6996\n",
            "Epoch 404/500\n",
            "48/48 [==============================] - 0s 3ms/step - loss: 0.7893 - acc: 0.7181\n",
            "Epoch 405/500\n",
            "48/48 [==============================] - 0s 3ms/step - loss: 0.8171 - acc: 0.6990\n",
            "Epoch 406/500\n",
            "48/48 [==============================] - 0s 3ms/step - loss: 0.7983 - acc: 0.7137\n",
            "Epoch 407/500\n",
            "48/48 [==============================] - 0s 3ms/step - loss: 0.7874 - acc: 0.7141\n",
            "Epoch 408/500\n",
            "48/48 [==============================] - 0s 3ms/step - loss: 0.7959 - acc: 0.7056\n",
            "Epoch 409/500\n",
            "48/48 [==============================] - 0s 3ms/step - loss: 0.8094 - acc: 0.7115\n",
            "Epoch 410/500\n",
            "48/48 [==============================] - 0s 3ms/step - loss: 0.8121 - acc: 0.7151\n",
            "Epoch 411/500\n",
            "48/48 [==============================] - 0s 3ms/step - loss: 0.8063 - acc: 0.7148\n",
            "Epoch 412/500\n",
            "48/48 [==============================] - 0s 3ms/step - loss: 0.8108 - acc: 0.7075\n",
            "Epoch 413/500\n",
            "48/48 [==============================] - 0s 3ms/step - loss: 0.8086 - acc: 0.6934\n",
            "Epoch 414/500\n",
            "48/48 [==============================] - 0s 3ms/step - loss: 0.7976 - acc: 0.7149\n",
            "Epoch 415/500\n",
            "48/48 [==============================] - 0s 3ms/step - loss: 0.7990 - acc: 0.7116\n",
            "Epoch 416/500\n",
            "48/48 [==============================] - 0s 3ms/step - loss: 0.7930 - acc: 0.7225\n",
            "Epoch 417/500\n",
            "48/48 [==============================] - 0s 3ms/step - loss: 0.7891 - acc: 0.7189\n",
            "Epoch 418/500\n",
            "48/48 [==============================] - 0s 3ms/step - loss: 0.7924 - acc: 0.7027\n",
            "Epoch 419/500\n",
            "48/48 [==============================] - 0s 3ms/step - loss: 0.7544 - acc: 0.7266\n",
            "Epoch 420/500\n",
            "48/48 [==============================] - 0s 3ms/step - loss: 0.8050 - acc: 0.7056\n",
            "Epoch 421/500\n",
            "48/48 [==============================] - 0s 3ms/step - loss: 0.7791 - acc: 0.7035\n",
            "Epoch 422/500\n",
            "48/48 [==============================] - 0s 3ms/step - loss: 0.7969 - acc: 0.7158\n",
            "Epoch 423/500\n",
            "48/48 [==============================] - 0s 3ms/step - loss: 0.7885 - acc: 0.7059\n",
            "Epoch 424/500\n",
            "48/48 [==============================] - 0s 3ms/step - loss: 0.7896 - acc: 0.7101\n",
            "Epoch 425/500\n",
            "48/48 [==============================] - 0s 3ms/step - loss: 0.7830 - acc: 0.7186\n",
            "Epoch 426/500\n",
            "48/48 [==============================] - 0s 3ms/step - loss: 0.7864 - acc: 0.7169\n",
            "Epoch 427/500\n",
            "48/48 [==============================] - 0s 3ms/step - loss: 0.8174 - acc: 0.7001\n",
            "Epoch 428/500\n",
            "48/48 [==============================] - 0s 3ms/step - loss: 0.7950 - acc: 0.7107\n",
            "Epoch 429/500\n",
            "48/48 [==============================] - 0s 3ms/step - loss: 0.8027 - acc: 0.7093\n",
            "Epoch 430/500\n",
            "48/48 [==============================] - 0s 3ms/step - loss: 0.7814 - acc: 0.7136\n",
            "Epoch 431/500\n",
            "48/48 [==============================] - 0s 3ms/step - loss: 0.7917 - acc: 0.7112\n",
            "Epoch 432/500\n",
            "48/48 [==============================] - 0s 3ms/step - loss: 0.8003 - acc: 0.7132\n",
            "Epoch 433/500\n",
            "48/48 [==============================] - 0s 3ms/step - loss: 0.7770 - acc: 0.7180\n",
            "Epoch 434/500\n",
            "48/48 [==============================] - 0s 3ms/step - loss: 0.7836 - acc: 0.7146\n",
            "Epoch 435/500\n",
            "48/48 [==============================] - 0s 3ms/step - loss: 0.8054 - acc: 0.7052\n",
            "Epoch 436/500\n",
            "48/48 [==============================] - 0s 3ms/step - loss: 0.7794 - acc: 0.7162\n",
            "Epoch 437/500\n",
            "48/48 [==============================] - 0s 3ms/step - loss: 0.7888 - acc: 0.7117\n",
            "Epoch 438/500\n",
            "48/48 [==============================] - 0s 3ms/step - loss: 0.7731 - acc: 0.7206\n",
            "Epoch 439/500\n",
            "48/48 [==============================] - 0s 3ms/step - loss: 0.7844 - acc: 0.7130\n",
            "Epoch 440/500\n",
            "48/48 [==============================] - 0s 3ms/step - loss: 0.7803 - acc: 0.7178\n",
            "Epoch 441/500\n",
            "48/48 [==============================] - 0s 4ms/step - loss: 0.7830 - acc: 0.7071\n",
            "Epoch 442/500\n",
            "48/48 [==============================] - 0s 3ms/step - loss: 0.7932 - acc: 0.7146\n",
            "Epoch 443/500\n",
            "48/48 [==============================] - 0s 3ms/step - loss: 0.7719 - acc: 0.7261\n",
            "Epoch 444/500\n",
            "48/48 [==============================] - 0s 3ms/step - loss: 0.7829 - acc: 0.7207\n",
            "Epoch 445/500\n",
            "48/48 [==============================] - 0s 3ms/step - loss: 0.7748 - acc: 0.7262\n",
            "Epoch 446/500\n",
            "48/48 [==============================] - 0s 3ms/step - loss: 0.7751 - acc: 0.7149\n",
            "Epoch 447/500\n",
            "48/48 [==============================] - 0s 3ms/step - loss: 0.7780 - acc: 0.7151\n",
            "Epoch 448/500\n",
            "48/48 [==============================] - 0s 3ms/step - loss: 0.7764 - acc: 0.7185\n",
            "Epoch 449/500\n",
            "48/48 [==============================] - 0s 3ms/step - loss: 0.7846 - acc: 0.7114\n",
            "Epoch 450/500\n",
            "48/48 [==============================] - 0s 3ms/step - loss: 0.7600 - acc: 0.7137\n",
            "Epoch 451/500\n",
            "48/48 [==============================] - 0s 3ms/step - loss: 0.8020 - acc: 0.7022\n",
            "Epoch 452/500\n",
            "48/48 [==============================] - 0s 3ms/step - loss: 0.7881 - acc: 0.7136\n",
            "Epoch 453/500\n",
            "48/48 [==============================] - 0s 3ms/step - loss: 0.7589 - acc: 0.7172\n",
            "Epoch 454/500\n",
            "48/48 [==============================] - 0s 3ms/step - loss: 0.7954 - acc: 0.7133\n",
            "Epoch 455/500\n",
            "48/48 [==============================] - 0s 3ms/step - loss: 0.7544 - acc: 0.7221\n",
            "Epoch 456/500\n",
            "48/48 [==============================] - 0s 3ms/step - loss: 0.7466 - acc: 0.7268\n",
            "Epoch 457/500\n",
            "48/48 [==============================] - 0s 3ms/step - loss: 0.8141 - acc: 0.7006\n",
            "Epoch 458/500\n",
            "48/48 [==============================] - 0s 3ms/step - loss: 0.7652 - acc: 0.7123\n",
            "Epoch 459/500\n",
            "48/48 [==============================] - 0s 3ms/step - loss: 0.7818 - acc: 0.7142\n",
            "Epoch 460/500\n",
            "48/48 [==============================] - 0s 3ms/step - loss: 0.7801 - acc: 0.7187\n",
            "Epoch 461/500\n",
            "48/48 [==============================] - 0s 3ms/step - loss: 0.7671 - acc: 0.7161\n",
            "Epoch 462/500\n",
            "48/48 [==============================] - 0s 3ms/step - loss: 0.7668 - acc: 0.7123\n",
            "Epoch 463/500\n",
            "48/48 [==============================] - 0s 3ms/step - loss: 0.7892 - acc: 0.7239\n",
            "Epoch 464/500\n",
            "48/48 [==============================] - 0s 3ms/step - loss: 0.7670 - acc: 0.7107\n",
            "Epoch 465/500\n",
            "48/48 [==============================] - 0s 4ms/step - loss: 0.7729 - acc: 0.7218\n",
            "Epoch 466/500\n",
            "48/48 [==============================] - 0s 3ms/step - loss: 0.7668 - acc: 0.7140\n",
            "Epoch 467/500\n",
            "48/48 [==============================] - 0s 4ms/step - loss: 0.7488 - acc: 0.7317\n",
            "Epoch 468/500\n",
            "48/48 [==============================] - 0s 3ms/step - loss: 0.7733 - acc: 0.7162\n",
            "Epoch 469/500\n",
            "48/48 [==============================] - 0s 3ms/step - loss: 0.7656 - acc: 0.7231\n",
            "Epoch 470/500\n",
            "48/48 [==============================] - 0s 3ms/step - loss: 0.7321 - acc: 0.7357\n",
            "Epoch 471/500\n",
            "48/48 [==============================] - 0s 3ms/step - loss: 0.7711 - acc: 0.7293\n",
            "Epoch 472/500\n",
            "48/48 [==============================] - 0s 3ms/step - loss: 0.7594 - acc: 0.7268\n",
            "Epoch 473/500\n",
            "48/48 [==============================] - 0s 3ms/step - loss: 0.7415 - acc: 0.7326\n",
            "Epoch 474/500\n",
            "48/48 [==============================] - 0s 3ms/step - loss: 0.7490 - acc: 0.7247\n",
            "Epoch 475/500\n",
            "48/48 [==============================] - 0s 3ms/step - loss: 0.7546 - acc: 0.7256\n",
            "Epoch 476/500\n",
            "48/48 [==============================] - 0s 3ms/step - loss: 0.7464 - acc: 0.7374\n",
            "Epoch 477/500\n",
            "48/48 [==============================] - 0s 3ms/step - loss: 0.7209 - acc: 0.7303\n",
            "Epoch 478/500\n",
            "48/48 [==============================] - 0s 3ms/step - loss: 0.7517 - acc: 0.7276\n",
            "Epoch 479/500\n",
            "48/48 [==============================] - 0s 3ms/step - loss: 0.7452 - acc: 0.7306\n",
            "Epoch 480/500\n",
            "48/48 [==============================] - 0s 3ms/step - loss: 0.7496 - acc: 0.7353\n",
            "Epoch 481/500\n",
            "48/48 [==============================] - 0s 3ms/step - loss: 0.7636 - acc: 0.7188\n",
            "Epoch 482/500\n",
            "48/48 [==============================] - 0s 3ms/step - loss: 0.7483 - acc: 0.7232\n",
            "Epoch 483/500\n",
            "48/48 [==============================] - 0s 4ms/step - loss: 0.7471 - acc: 0.7274\n",
            "Epoch 484/500\n",
            "48/48 [==============================] - 0s 3ms/step - loss: 0.7690 - acc: 0.7106\n",
            "Epoch 485/500\n",
            "48/48 [==============================] - 0s 3ms/step - loss: 0.7714 - acc: 0.7186\n",
            "Epoch 486/500\n",
            "48/48 [==============================] - 0s 3ms/step - loss: 0.7384 - acc: 0.7310\n",
            "Epoch 487/500\n",
            "48/48 [==============================] - 0s 3ms/step - loss: 0.7392 - acc: 0.7329\n",
            "Epoch 488/500\n",
            "48/48 [==============================] - 0s 3ms/step - loss: 0.7512 - acc: 0.7331\n",
            "Epoch 489/500\n",
            "48/48 [==============================] - 0s 3ms/step - loss: 0.7354 - acc: 0.7286\n",
            "Epoch 490/500\n",
            "48/48 [==============================] - 0s 3ms/step - loss: 0.7039 - acc: 0.7453\n",
            "Epoch 491/500\n",
            "48/48 [==============================] - 0s 3ms/step - loss: 0.7390 - acc: 0.7175\n",
            "Epoch 492/500\n",
            "48/48 [==============================] - 0s 3ms/step - loss: 0.7540 - acc: 0.7266\n",
            "Epoch 493/500\n",
            "48/48 [==============================] - 0s 3ms/step - loss: 0.7242 - acc: 0.7314\n",
            "Epoch 494/500\n",
            "48/48 [==============================] - 0s 4ms/step - loss: 0.7283 - acc: 0.7232\n",
            "Epoch 495/500\n",
            "48/48 [==============================] - 0s 3ms/step - loss: 0.7199 - acc: 0.7369\n",
            "Epoch 496/500\n",
            "48/48 [==============================] - 0s 3ms/step - loss: 0.7465 - acc: 0.7246\n",
            "Epoch 497/500\n",
            "48/48 [==============================] - 0s 3ms/step - loss: 0.7293 - acc: 0.7347\n",
            "Epoch 498/500\n",
            "48/48 [==============================] - 0s 3ms/step - loss: 0.7346 - acc: 0.7296\n",
            "Epoch 499/500\n",
            "48/48 [==============================] - 0s 3ms/step - loss: 0.7465 - acc: 0.7221\n",
            "Epoch 500/500\n",
            "48/48 [==============================] - 0s 3ms/step - loss: 0.7526 - acc: 0.7151\n"
          ],
          "name": "stdout"
        }
      ]
    },
    {
      "cell_type": "code",
      "metadata": {
        "colab": {
          "base_uri": "https://localhost:8080/"
        },
        "id": "Yt_sAc83ZJ7E",
        "outputId": "3ea4b795-7c12-48dd-d08a-303f93c47963"
      },
      "source": [
        "model.evaluate(X_Test,y_Test)"
      ],
      "execution_count": 36,
      "outputs": [
        {
          "output_type": "stream",
          "text": [
            "82/82 [==============================] - 0s 2ms/step - loss: 4.9246 - acc: 0.3192\n"
          ],
          "name": "stdout"
        },
        {
          "output_type": "execute_result",
          "data": {
            "text/plain": [
              "[4.92463493347168, 0.3192470371723175]"
            ]
          },
          "metadata": {
            "tags": []
          },
          "execution_count": 36
        }
      ]
    },
    {
      "cell_type": "code",
      "metadata": {
        "id": "wrxQzZwzpTi-"
      },
      "source": [
        "y_pred=model.predict(X_Test)"
      ],
      "execution_count": 39,
      "outputs": []
    },
    {
      "cell_type": "code",
      "metadata": {
        "id": "W36UQ3hJyX0v"
      },
      "source": [
        "y_pred=[np.argmax(i) for i in y_pred]"
      ],
      "execution_count": 41,
      "outputs": []
    },
    {
      "cell_type": "code",
      "metadata": {
        "colab": {
          "base_uri": "https://localhost:8080/"
        },
        "id": "CvJdK-livjFm",
        "outputId": "ad287397-daf7-4a1a-d7b5-6ce6e65a0dc2"
      },
      "source": [
        "cm=confusion_matrix(labels=y_Test,predictions=y_pred)\n",
        "cm"
      ],
      "execution_count": 42,
      "outputs": [
        {
          "output_type": "execute_result",
          "data": {
            "text/plain": [
              "<tf.Tensor: shape=(16, 16), dtype=int32, numpy=\n",
              "array([[  2,   5,   1,   1,   0,   0,   0,   0,  20,  17,   5,   2,   3,\n",
              "          0,   0,   0],\n",
              "       [  2,  42,   3,  14,   0,   0,   0,   1,  36,  63,  12,  14,   1,\n",
              "          7,   0,   1],\n",
              "       [  1,   3,   5,  10,   0,   0,   0,   0,   8,   7,  11,   9,   0,\n",
              "          0,   1,   3],\n",
              "       [  0,  13,   4,  29,   0,   0,   0,   1,  21,  41,  29,  52,   0,\n",
              "          2,   5,   4],\n",
              "       [  1,   1,   0,   0,   0,   0,   0,   0,   2,   4,   0,   1,   0,\n",
              "          1,   0,   0],\n",
              "       [  0,   2,   0,   1,   0,   0,   0,   0,   1,   2,   2,   0,   0,\n",
              "          0,   1,   0],\n",
              "       [  0,   1,   1,   1,   0,   0,   0,   0,   4,   3,   3,   2,   0,\n",
              "          1,   0,   1],\n",
              "       [  0,   1,   1,   6,   0,   0,   0,   2,   0,   4,   3,   8,   0,\n",
              "          0,   0,   0],\n",
              "       [  4,  26,   5,  11,   0,   0,   0,   1, 151, 142,  38,  40,   3,\n",
              "          7,   3,   3],\n",
              "       [  5,  34,   2,  11,   0,   1,   0,   2, 122, 287,  34,  47,   1,\n",
              "         13,   3,   4],\n",
              "       [  1,   5,  10,  20,   0,   0,   0,   0,  39,  26, 127,  75,   0,\n",
              "          1,   3,   4],\n",
              "       [  1,   8,   2,  26,   0,   0,   0,   0,  30,  82,  87, 161,   0,\n",
              "          3,   2,   2],\n",
              "       [  2,   6,   0,   1,   0,   0,   0,   0,  16,  19,   5,   5,   2,\n",
              "          3,   1,   1],\n",
              "       [  2,   5,   1,   1,   0,   1,   0,   0,  18,  28,   6,   9,   0,\n",
              "          7,   3,   3],\n",
              "       [  0,   2,   2,   6,   0,   0,   0,   0,  17,   8,  15,   9,   0,\n",
              "          2,   4,   5],\n",
              "       [  1,   4,   5,   9,   0,   0,   0,   0,  16,   4,  22,  24,   1,\n",
              "          2,   5,   8]], dtype=int32)>"
            ]
          },
          "metadata": {
            "tags": []
          },
          "execution_count": 42
        }
      ]
    },
    {
      "cell_type": "code",
      "metadata": {
        "colab": {
          "base_uri": "https://localhost:8080/"
        },
        "id": "XQkWuuIQzSZU",
        "outputId": "27930865-0f31-47e1-df79-7e69a03fc008"
      },
      "source": [
        "cl=classification_report(y_Test,y_pred)\n",
        "print(cl)"
      ],
      "execution_count": 49,
      "outputs": [
        {
          "output_type": "stream",
          "text": [
            "              precision    recall  f1-score   support\n",
            "\n",
            "           0       0.09      0.04      0.05        56\n",
            "           1       0.27      0.21      0.24       196\n",
            "           2       0.12      0.09      0.10        58\n",
            "           3       0.20      0.14      0.17       201\n",
            "           4       0.00      0.00      0.00        10\n",
            "           5       0.00      0.00      0.00         9\n",
            "           6       0.00      0.00      0.00        17\n",
            "           7       0.29      0.08      0.12        25\n",
            "           8       0.30      0.35      0.32       434\n",
            "           9       0.39      0.51      0.44       566\n",
            "          10       0.32      0.41      0.36       311\n",
            "          11       0.35      0.40      0.37       404\n",
            "          12       0.18      0.03      0.06        61\n",
            "          13       0.14      0.08      0.11        84\n",
            "          14       0.13      0.06      0.08        70\n",
            "          15       0.21      0.08      0.11       101\n",
            "\n",
            "    accuracy                           0.32      2603\n",
            "   macro avg       0.19      0.15      0.16      2603\n",
            "weighted avg       0.29      0.32      0.30      2603\n",
            "\n"
          ],
          "name": "stdout"
        },
        {
          "output_type": "stream",
          "text": [
            "/usr/local/lib/python3.7/dist-packages/sklearn/metrics/_classification.py:1272: UndefinedMetricWarning: Precision and F-score are ill-defined and being set to 0.0 in labels with no predicted samples. Use `zero_division` parameter to control this behavior.\n",
            "  _warn_prf(average, modifier, msg_start, len(result))\n"
          ],
          "name": "stderr"
        }
      ]
    },
    {
      "cell_type": "code",
      "metadata": {
        "colab": {
          "base_uri": "https://localhost:8080/"
        },
        "id": "8vFkEFiLxYUQ",
        "outputId": "89d009df-c7b9-4207-b3aa-4223679f5491"
      },
      "source": [
        "le.classes_"
      ],
      "execution_count": 43,
      "outputs": [
        {
          "output_type": "execute_result",
          "data": {
            "text/plain": [
              "array(['ENFJ', 'ENFP', 'ENTJ', 'ENTP', 'ESFJ', 'ESFP', 'ESTJ', 'ESTP',\n",
              "       'INFJ', 'INFP', 'INTJ', 'INTP', 'ISFJ', 'ISFP', 'ISTJ', 'ISTP'],\n",
              "      dtype=object)"
            ]
          },
          "metadata": {
            "tags": []
          },
          "execution_count": 43
        }
      ]
    },
    {
      "cell_type": "code",
      "metadata": {
        "colab": {
          "base_uri": "https://localhost:8080/",
          "height": 565
        },
        "id": "eEbgmeD0vnGu",
        "outputId": "b7ce1029-ca6d-415f-b5ed-608e4556494b"
      },
      "source": [
        "cm_rfc = np.array(cm)\n",
        "\n",
        "cm = pd.DataFrame(cm_rfc, index=['ENFJ', 'ENFP', 'ENTJ', 'ENTP', 'ESFJ', 'ESFP',\n",
        "                                       'ESTJ', 'ESTP', 'INFJ', 'INFP', 'INTJ', 'INTP',\n",
        "                                       'ISFJ', 'ISFP', 'ISTJ', 'ISTP'], \n",
        "                            columns=['predict_ENFJ','predict_ENFP','predict_ENTJ',\n",
        "                                     'predict_ENTP','predict_ESFJ','predict_ESFP',\n",
        "                                     'predict_ESTJ','predict_ESTP','predict_INFJ',\n",
        "                                     'predict_INFP','predict_INTJ','predict_INTP',\n",
        "                                     'predict_ISFJ','predict_ISFP','predict_ISTJ',\n",
        "                                     'predict_ISTP'])\n",
        "cm"
      ],
      "execution_count": 44,
      "outputs": [
        {
          "output_type": "execute_result",
          "data": {
            "text/html": [
              "<div>\n",
              "<style scoped>\n",
              "    .dataframe tbody tr th:only-of-type {\n",
              "        vertical-align: middle;\n",
              "    }\n",
              "\n",
              "    .dataframe tbody tr th {\n",
              "        vertical-align: top;\n",
              "    }\n",
              "\n",
              "    .dataframe thead th {\n",
              "        text-align: right;\n",
              "    }\n",
              "</style>\n",
              "<table border=\"1\" class=\"dataframe\">\n",
              "  <thead>\n",
              "    <tr style=\"text-align: right;\">\n",
              "      <th></th>\n",
              "      <th>predict_ENFJ</th>\n",
              "      <th>predict_ENFP</th>\n",
              "      <th>predict_ENTJ</th>\n",
              "      <th>predict_ENTP</th>\n",
              "      <th>predict_ESFJ</th>\n",
              "      <th>predict_ESFP</th>\n",
              "      <th>predict_ESTJ</th>\n",
              "      <th>predict_ESTP</th>\n",
              "      <th>predict_INFJ</th>\n",
              "      <th>predict_INFP</th>\n",
              "      <th>predict_INTJ</th>\n",
              "      <th>predict_INTP</th>\n",
              "      <th>predict_ISFJ</th>\n",
              "      <th>predict_ISFP</th>\n",
              "      <th>predict_ISTJ</th>\n",
              "      <th>predict_ISTP</th>\n",
              "    </tr>\n",
              "  </thead>\n",
              "  <tbody>\n",
              "    <tr>\n",
              "      <th>ENFJ</th>\n",
              "      <td>2</td>\n",
              "      <td>5</td>\n",
              "      <td>1</td>\n",
              "      <td>1</td>\n",
              "      <td>0</td>\n",
              "      <td>0</td>\n",
              "      <td>0</td>\n",
              "      <td>0</td>\n",
              "      <td>20</td>\n",
              "      <td>17</td>\n",
              "      <td>5</td>\n",
              "      <td>2</td>\n",
              "      <td>3</td>\n",
              "      <td>0</td>\n",
              "      <td>0</td>\n",
              "      <td>0</td>\n",
              "    </tr>\n",
              "    <tr>\n",
              "      <th>ENFP</th>\n",
              "      <td>2</td>\n",
              "      <td>42</td>\n",
              "      <td>3</td>\n",
              "      <td>14</td>\n",
              "      <td>0</td>\n",
              "      <td>0</td>\n",
              "      <td>0</td>\n",
              "      <td>1</td>\n",
              "      <td>36</td>\n",
              "      <td>63</td>\n",
              "      <td>12</td>\n",
              "      <td>14</td>\n",
              "      <td>1</td>\n",
              "      <td>7</td>\n",
              "      <td>0</td>\n",
              "      <td>1</td>\n",
              "    </tr>\n",
              "    <tr>\n",
              "      <th>ENTJ</th>\n",
              "      <td>1</td>\n",
              "      <td>3</td>\n",
              "      <td>5</td>\n",
              "      <td>10</td>\n",
              "      <td>0</td>\n",
              "      <td>0</td>\n",
              "      <td>0</td>\n",
              "      <td>0</td>\n",
              "      <td>8</td>\n",
              "      <td>7</td>\n",
              "      <td>11</td>\n",
              "      <td>9</td>\n",
              "      <td>0</td>\n",
              "      <td>0</td>\n",
              "      <td>1</td>\n",
              "      <td>3</td>\n",
              "    </tr>\n",
              "    <tr>\n",
              "      <th>ENTP</th>\n",
              "      <td>0</td>\n",
              "      <td>13</td>\n",
              "      <td>4</td>\n",
              "      <td>29</td>\n",
              "      <td>0</td>\n",
              "      <td>0</td>\n",
              "      <td>0</td>\n",
              "      <td>1</td>\n",
              "      <td>21</td>\n",
              "      <td>41</td>\n",
              "      <td>29</td>\n",
              "      <td>52</td>\n",
              "      <td>0</td>\n",
              "      <td>2</td>\n",
              "      <td>5</td>\n",
              "      <td>4</td>\n",
              "    </tr>\n",
              "    <tr>\n",
              "      <th>ESFJ</th>\n",
              "      <td>1</td>\n",
              "      <td>1</td>\n",
              "      <td>0</td>\n",
              "      <td>0</td>\n",
              "      <td>0</td>\n",
              "      <td>0</td>\n",
              "      <td>0</td>\n",
              "      <td>0</td>\n",
              "      <td>2</td>\n",
              "      <td>4</td>\n",
              "      <td>0</td>\n",
              "      <td>1</td>\n",
              "      <td>0</td>\n",
              "      <td>1</td>\n",
              "      <td>0</td>\n",
              "      <td>0</td>\n",
              "    </tr>\n",
              "    <tr>\n",
              "      <th>ESFP</th>\n",
              "      <td>0</td>\n",
              "      <td>2</td>\n",
              "      <td>0</td>\n",
              "      <td>1</td>\n",
              "      <td>0</td>\n",
              "      <td>0</td>\n",
              "      <td>0</td>\n",
              "      <td>0</td>\n",
              "      <td>1</td>\n",
              "      <td>2</td>\n",
              "      <td>2</td>\n",
              "      <td>0</td>\n",
              "      <td>0</td>\n",
              "      <td>0</td>\n",
              "      <td>1</td>\n",
              "      <td>0</td>\n",
              "    </tr>\n",
              "    <tr>\n",
              "      <th>ESTJ</th>\n",
              "      <td>0</td>\n",
              "      <td>1</td>\n",
              "      <td>1</td>\n",
              "      <td>1</td>\n",
              "      <td>0</td>\n",
              "      <td>0</td>\n",
              "      <td>0</td>\n",
              "      <td>0</td>\n",
              "      <td>4</td>\n",
              "      <td>3</td>\n",
              "      <td>3</td>\n",
              "      <td>2</td>\n",
              "      <td>0</td>\n",
              "      <td>1</td>\n",
              "      <td>0</td>\n",
              "      <td>1</td>\n",
              "    </tr>\n",
              "    <tr>\n",
              "      <th>ESTP</th>\n",
              "      <td>0</td>\n",
              "      <td>1</td>\n",
              "      <td>1</td>\n",
              "      <td>6</td>\n",
              "      <td>0</td>\n",
              "      <td>0</td>\n",
              "      <td>0</td>\n",
              "      <td>2</td>\n",
              "      <td>0</td>\n",
              "      <td>4</td>\n",
              "      <td>3</td>\n",
              "      <td>8</td>\n",
              "      <td>0</td>\n",
              "      <td>0</td>\n",
              "      <td>0</td>\n",
              "      <td>0</td>\n",
              "    </tr>\n",
              "    <tr>\n",
              "      <th>INFJ</th>\n",
              "      <td>4</td>\n",
              "      <td>26</td>\n",
              "      <td>5</td>\n",
              "      <td>11</td>\n",
              "      <td>0</td>\n",
              "      <td>0</td>\n",
              "      <td>0</td>\n",
              "      <td>1</td>\n",
              "      <td>151</td>\n",
              "      <td>142</td>\n",
              "      <td>38</td>\n",
              "      <td>40</td>\n",
              "      <td>3</td>\n",
              "      <td>7</td>\n",
              "      <td>3</td>\n",
              "      <td>3</td>\n",
              "    </tr>\n",
              "    <tr>\n",
              "      <th>INFP</th>\n",
              "      <td>5</td>\n",
              "      <td>34</td>\n",
              "      <td>2</td>\n",
              "      <td>11</td>\n",
              "      <td>0</td>\n",
              "      <td>1</td>\n",
              "      <td>0</td>\n",
              "      <td>2</td>\n",
              "      <td>122</td>\n",
              "      <td>287</td>\n",
              "      <td>34</td>\n",
              "      <td>47</td>\n",
              "      <td>1</td>\n",
              "      <td>13</td>\n",
              "      <td>3</td>\n",
              "      <td>4</td>\n",
              "    </tr>\n",
              "    <tr>\n",
              "      <th>INTJ</th>\n",
              "      <td>1</td>\n",
              "      <td>5</td>\n",
              "      <td>10</td>\n",
              "      <td>20</td>\n",
              "      <td>0</td>\n",
              "      <td>0</td>\n",
              "      <td>0</td>\n",
              "      <td>0</td>\n",
              "      <td>39</td>\n",
              "      <td>26</td>\n",
              "      <td>127</td>\n",
              "      <td>75</td>\n",
              "      <td>0</td>\n",
              "      <td>1</td>\n",
              "      <td>3</td>\n",
              "      <td>4</td>\n",
              "    </tr>\n",
              "    <tr>\n",
              "      <th>INTP</th>\n",
              "      <td>1</td>\n",
              "      <td>8</td>\n",
              "      <td>2</td>\n",
              "      <td>26</td>\n",
              "      <td>0</td>\n",
              "      <td>0</td>\n",
              "      <td>0</td>\n",
              "      <td>0</td>\n",
              "      <td>30</td>\n",
              "      <td>82</td>\n",
              "      <td>87</td>\n",
              "      <td>161</td>\n",
              "      <td>0</td>\n",
              "      <td>3</td>\n",
              "      <td>2</td>\n",
              "      <td>2</td>\n",
              "    </tr>\n",
              "    <tr>\n",
              "      <th>ISFJ</th>\n",
              "      <td>2</td>\n",
              "      <td>6</td>\n",
              "      <td>0</td>\n",
              "      <td>1</td>\n",
              "      <td>0</td>\n",
              "      <td>0</td>\n",
              "      <td>0</td>\n",
              "      <td>0</td>\n",
              "      <td>16</td>\n",
              "      <td>19</td>\n",
              "      <td>5</td>\n",
              "      <td>5</td>\n",
              "      <td>2</td>\n",
              "      <td>3</td>\n",
              "      <td>1</td>\n",
              "      <td>1</td>\n",
              "    </tr>\n",
              "    <tr>\n",
              "      <th>ISFP</th>\n",
              "      <td>2</td>\n",
              "      <td>5</td>\n",
              "      <td>1</td>\n",
              "      <td>1</td>\n",
              "      <td>0</td>\n",
              "      <td>1</td>\n",
              "      <td>0</td>\n",
              "      <td>0</td>\n",
              "      <td>18</td>\n",
              "      <td>28</td>\n",
              "      <td>6</td>\n",
              "      <td>9</td>\n",
              "      <td>0</td>\n",
              "      <td>7</td>\n",
              "      <td>3</td>\n",
              "      <td>3</td>\n",
              "    </tr>\n",
              "    <tr>\n",
              "      <th>ISTJ</th>\n",
              "      <td>0</td>\n",
              "      <td>2</td>\n",
              "      <td>2</td>\n",
              "      <td>6</td>\n",
              "      <td>0</td>\n",
              "      <td>0</td>\n",
              "      <td>0</td>\n",
              "      <td>0</td>\n",
              "      <td>17</td>\n",
              "      <td>8</td>\n",
              "      <td>15</td>\n",
              "      <td>9</td>\n",
              "      <td>0</td>\n",
              "      <td>2</td>\n",
              "      <td>4</td>\n",
              "      <td>5</td>\n",
              "    </tr>\n",
              "    <tr>\n",
              "      <th>ISTP</th>\n",
              "      <td>1</td>\n",
              "      <td>4</td>\n",
              "      <td>5</td>\n",
              "      <td>9</td>\n",
              "      <td>0</td>\n",
              "      <td>0</td>\n",
              "      <td>0</td>\n",
              "      <td>0</td>\n",
              "      <td>16</td>\n",
              "      <td>4</td>\n",
              "      <td>22</td>\n",
              "      <td>24</td>\n",
              "      <td>1</td>\n",
              "      <td>2</td>\n",
              "      <td>5</td>\n",
              "      <td>8</td>\n",
              "    </tr>\n",
              "  </tbody>\n",
              "</table>\n",
              "</div>"
            ],
            "text/plain": [
              "      predict_ENFJ  predict_ENFP  ...  predict_ISTJ  predict_ISTP\n",
              "ENFJ             2             5  ...             0             0\n",
              "ENFP             2            42  ...             0             1\n",
              "ENTJ             1             3  ...             1             3\n",
              "ENTP             0            13  ...             5             4\n",
              "ESFJ             1             1  ...             0             0\n",
              "ESFP             0             2  ...             1             0\n",
              "ESTJ             0             1  ...             0             1\n",
              "ESTP             0             1  ...             0             0\n",
              "INFJ             4            26  ...             3             3\n",
              "INFP             5            34  ...             3             4\n",
              "INTJ             1             5  ...             3             4\n",
              "INTP             1             8  ...             2             2\n",
              "ISFJ             2             6  ...             1             1\n",
              "ISFP             2             5  ...             3             3\n",
              "ISTJ             0             2  ...             4             5\n",
              "ISTP             1             4  ...             5             8\n",
              "\n",
              "[16 rows x 16 columns]"
            ]
          },
          "metadata": {
            "tags": []
          },
          "execution_count": 44
        }
      ]
    },
    {
      "cell_type": "code",
      "metadata": {
        "colab": {
          "base_uri": "https://localhost:8080/",
          "height": 689
        },
        "id": "xPtpcXnjyzNr",
        "outputId": "61b5bb85-f35d-4c12-f98e-80f60cd1f537"
      },
      "source": [
        "# Create confusion matrix heatmap of mlp model \n",
        "fig, ax = plt.subplots(figsize=(14,10)) \n",
        "plt.title('Confusion Matrix for multi layer perceptron model', fontsize=16,\n",
        "          fontweight='bold', y=1.02)\n",
        "sns.heatmap(cm, robust=True, annot=True, linewidth=0.5, \n",
        "            fmt='', cmap='RdBu_r', vmax=303, ax=ax)\n",
        "plt.xticks(fontsize=12)\n",
        "plt.yticks(rotation=0, fontsize=12);"
      ],
      "execution_count": 45,
      "outputs": [
        {
          "output_type": "display_data",
          "data": {
            "image/png": "[encoded data removed]",
            "text/plain": [
              "<Figure size 1008x720 with 2 Axes>"
            ]
          },
          "metadata": {
            "tags": [],
            "needs_background": "light"
          }
        }
      ]
    },
    {
      "cell_type": "code",
      "metadata": {
        "colab": {
          "base_uri": "https://localhost:8080/"
        },
        "id": "oBhmgjUrkHgn",
        "outputId": "695f2d51-03e7-442e-d8a2-b0c2d5748687"
      },
      "source": [
        "# Determine baseline for each of the four axes\n",
        "baseline_IE = df_working['I-E'].value_counts().max() / df_working['I-E'].value_counts().sum()\n",
        "baseline_NS = df_working['N-S'].value_counts().max() / df_working['N-S'].value_counts().sum()\n",
        "baseline_TF = df_working['T-F'].value_counts().max() / df_working['T-F'].value_counts().sum()\n",
        "baseline_JP = df_working['J-P'].value_counts().max() / df_working['J-P'].value_counts().sum()\n",
        "\n",
        "print('Introversion - Extroversion: ', baseline_IE)\n",
        "print('Intuition - Sensing: ', baseline_NS)\n",
        "print('Thinking - Feeling: ', baseline_TF)\n",
        "print('Judging - Perceiving: ', baseline_JP)"
      ],
      "execution_count": null,
      "outputs": [
        {
          "output_type": "stream",
          "text": [
            "Introversion - Extroversion:  0.7695677233429394\n",
            "Intuition - Sensing:  0.8620172910662824\n",
            "Thinking - Feeling:  0.5410951008645534\n",
            "Judging - Perceiving:  0.604149855907781\n"
          ],
          "name": "stdout"
        }
      ]
    },
    {
      "cell_type": "code",
      "metadata": {
        "id": "CXifxsPzk38a"
      },
      "source": [
        "# Introversion - Extroversion\n",
        "X_train_IE, X_test_IE, y_train_IE, y_test_IE = train_test_split(df_working['posts'].values,\n",
        "                                                   df_working['I-E'].values,\n",
        "                                                   test_size=0.30, random_state=42)\n",
        "# Intuition - Sensing\n",
        "X_train_NS, X_test_NS, y_train_NS, y_test_NS = train_test_split(df_working['posts'].values,\n",
        "                                                   df_working['N-S'].values,\n",
        "                                                   test_size=0.30, random_state=42)\n",
        "# Thinking - Feeling\n",
        "X_train_TF, X_test_TF, y_train_TF, y_test_TF = train_test_split(df_working['posts'].values,\n",
        "                                                   df_working['T-F'].values,\n",
        "                                                   test_size=0.30, random_state=42)\n",
        "# Judging - Perceiving\n",
        "X_train_JP, X_test_JP, y_train_JP, y_test_JP = train_test_split(df_working['posts'].values,\n",
        "                                                   df_working['J-P'].values,\n",
        "                                                   test_size=0.30, random_state=42)"
      ],
      "execution_count": null,
      "outputs": []
    },
    {
      "cell_type": "code",
      "metadata": {
        "colab": {
          "base_uri": "https://localhost:8080/",
          "height": 351
        },
        "id": "mr2j7AzYlECp",
        "outputId": "ffd436ba-5070-4568-b3b0-7bf3b9dad915"
      },
      "source": [
        "cv = TfidfVectorizer(preprocessor=cleaner, stop_words=stop_rev, ngram_range=(1,2), max_features=1000)\n",
        "cv.fit(X_train_IE)\n",
        "X_train_IE_cv = cv.transform(X_train_IE)\n",
        "\n",
        "# Use max components and graph the explained variance ratio to find cutoff point \n",
        "tsvd = TruncatedSVD(n_components=999)\n",
        "tsvd.fit(X_train_IE_cv)\n",
        "plt.plot(range(999), tsvd.explained_variance_ratio_.cumsum())\n",
        "plt.title(\"Truncated SVD - Optimal # of components (for binary classification models)\", fontsize=16)\n",
        "plt.xlabel(\"# of components\")\n",
        "plt.ylabel(\"Explained variance ratio\");\n"
      ],
      "execution_count": null,
      "outputs": [
        {
          "output_type": "stream",
          "text": [
            "/usr/local/lib/python3.7/dist-packages/sklearn/feature_extraction/text.py:385: UserWarning: Your stop_words may be inconsistent with your preprocessing. Tokenizing the stop words generated tokens ['arent', 'couldnt', 'didnt', 'doesnt', 'dont', 'hadnt', 'hasnt', 'havent', 'isnt', 'mightnt', 'mustnt', 'neednt', 'shant', 'shouldnt', 'shouldv', 'thatll', 'wasnt', 'werent', 'wont', 'wouldnt', 'youd', 'youll', 'youv'] not in stop_words.\n",
            "  'stop_words.' % sorted(inconsistent))\n"
          ],
          "name": "stderr"
        },
        {
          "output_type": "display_data",
          "data": {
            "image/png": "[encoded data removed]",
            "text/plain": [
              "<Figure size 432x288 with 1 Axes>"
            ]
          },
          "metadata": {
            "tags": []
          }
        }
      ]
    },
    {
      "cell_type": "code",
      "metadata": {
        "id": "RR7-nkh-my-a"
      },
      "source": [
        "pipeline_preprocessing2 = make_pipeline(\n",
        "    CountVectorizer(preprocessor=cleaner, stop_words=stop_rev, ngram_range=(1,2), max_features=1000),\n",
        "    TruncatedSVD(n_components=200))"
      ],
      "execution_count": null,
      "outputs": []
    },
    {
      "cell_type": "code",
      "metadata": {
        "colab": {
          "base_uri": "https://localhost:8080/"
        },
        "id": "QRWM_Kz0m-7S",
        "outputId": "f3ac84ff-a3fb-461f-eebf-ee682b0f47e3"
      },
      "source": [
        "# Preprocess each of the train-test splits\n",
        "# Introversion - Extroversion\n",
        "X_train_IE_tsvd = pipeline_preprocessing2.fit_transform(X_train_IE)\n",
        "X_test_IE_tsvd = pipeline_preprocessing2.transform(X_test_IE)\n",
        "\n",
        "# Intuition - Sensing\n",
        "X_train_NS_tsvd = pipeline_preprocessing2.fit_transform(X_train_NS)\n",
        "X_test_NS_tsvd = pipeline_preprocessing2.transform(X_test_NS)\n",
        "\n",
        "# Thinking - Feeling\n",
        "X_train_TF_tsvd = pipeline_preprocessing2.fit_transform(X_train_TF)\n",
        "X_test_TF_tsvd = pipeline_preprocessing2.transform(X_test_TF)\n",
        "\n",
        "# Judging - Perceiving\n",
        "X_train_JP_tsvd = pipeline_preprocessing2.fit_transform(X_train_JP)\n",
        "X_test_JP_tsvd = pipeline_preprocessing2.transform(X_test_JP)"
      ],
      "execution_count": null,
      "outputs": [
        {
          "output_type": "stream",
          "text": [
            "/usr/local/lib/python3.7/dist-packages/sklearn/feature_extraction/text.py:385: UserWarning: Your stop_words may be inconsistent with your preprocessing. Tokenizing the stop words generated tokens ['arent', 'couldnt', 'didnt', 'doesnt', 'dont', 'hadnt', 'hasnt', 'havent', 'isnt', 'mightnt', 'mustnt', 'neednt', 'shant', 'shouldnt', 'shouldv', 'thatll', 'wasnt', 'werent', 'wont', 'wouldnt', 'youd', 'youll', 'youv'] not in stop_words.\n",
            "  'stop_words.' % sorted(inconsistent))\n"
          ],
          "name": "stderr"
        }
      ]
    },
    {
      "cell_type": "code",
      "metadata": {
        "colab": {
          "base_uri": "https://localhost:8080/"
        },
        "id": "MUdwIOvnntKr",
        "outputId": "bf1e5330-f098-46be-e00f-f8b757d1ec7c"
      },
      "source": [
        "sm = SMOTE()\n",
        "Xsm_train_IE_tsvd, ysm_train_IE = sm.fit_sample(X_train_IE_tsvd, y_train_IE)"
      ],
      "execution_count": null,
      "outputs": [
        {
          "output_type": "stream",
          "text": [
            "/usr/local/lib/python3.7/dist-packages/sklearn/utils/deprecation.py:87: FutureWarning: Function safe_indexing is deprecated; safe_indexing is deprecated in version 0.22 and will be removed in version 0.24.\n",
            "  warnings.warn(msg, category=FutureWarning)\n"
          ],
          "name": "stderr"
        }
      ]
    },
    {
      "cell_type": "code",
      "metadata": {
        "colab": {
          "base_uri": "https://localhost:8080/"
        },
        "id": "qTNkf60jqJZQ",
        "outputId": "8cc2f974-d276-436c-d9ea-0d954eee407d"
      },
      "source": [
        "ysm_train_IE"
      ],
      "execution_count": null,
      "outputs": [
        {
          "output_type": "execute_result",
          "data": {
            "text/plain": [
              "array(['Introversion', 'Introversion', 'Introversion', ...,\n",
              "       'Extroversion', 'Extroversion', 'Extroversion'], dtype=object)"
            ]
          },
          "metadata": {
            "tags": []
          },
          "execution_count": 66
        }
      ]
    },
    {
      "cell_type": "code",
      "metadata": {
        "id": "rhpRAyi5qnJG"
      },
      "source": [
        "ysm_train_IE=le.fit_transform(ysm_train_IE)"
      ],
      "execution_count": null,
      "outputs": []
    },
    {
      "cell_type": "code",
      "metadata": {
        "colab": {
          "base_uri": "https://localhost:8080/"
        },
        "id": "QxvMu_txq1q2",
        "outputId": "320c5ff0-a0fe-4add-d474-80feeb9ae4bb"
      },
      "source": [
        "ysm_train_IE"
      ],
      "execution_count": null,
      "outputs": [
        {
          "output_type": "execute_result",
          "data": {
            "text/plain": [
              "array([1, 1, 1, ..., 0, 0, 0])"
            ]
          },
          "metadata": {
            "tags": []
          },
          "execution_count": 68
        }
      ]
    },
    {
      "cell_type": "code",
      "metadata": {
        "colab": {
          "base_uri": "https://localhost:8080/"
        },
        "id": "bmxqvY4QnwUa",
        "outputId": "9c682e95-ae15-4fe7-b7c7-956680f92032"
      },
      "source": [
        "model = Sequential(\n",
        "    [Dense(100, input_shape=(200,),activation='relu'),\n",
        "    Dropout(0.5),\n",
        "    Dense(60, activation='relu'),\n",
        "    Dropout(0.5),\n",
        "    Dense(2, activation='sigmoid')]\n",
        ")\n",
        "model.compile(loss = 'sparse_categorical_crossentropy', optimizer = 'adam', metrics = ['acc'])\n",
        "history = model.fit(Xsm_train_IE_tsvd, ysm_train_IE, epochs = 100,batch_size=128)"
      ],
      "execution_count": null,
      "outputs": [
        {
          "output_type": "stream",
          "text": [
            "Epoch 1/100\n",
            "73/73 [==============================] - 1s 3ms/step - loss: 1.5945 - acc: 0.5073\n",
            "Epoch 2/100\n",
            "73/73 [==============================] - 0s 3ms/step - loss: 0.8147 - acc: 0.5226\n",
            "Epoch 3/100\n",
            "73/73 [==============================] - 0s 3ms/step - loss: 0.7093 - acc: 0.5475\n",
            "Epoch 4/100\n",
            "73/73 [==============================] - 0s 3ms/step - loss: 0.6928 - acc: 0.5706\n",
            "Epoch 5/100\n",
            "73/73 [==============================] - 0s 3ms/step - loss: 0.6775 - acc: 0.5946\n",
            "Epoch 6/100\n",
            "73/73 [==============================] - 0s 3ms/step - loss: 0.6537 - acc: 0.6267\n",
            "Epoch 7/100\n",
            "73/73 [==============================] - 0s 3ms/step - loss: 0.6320 - acc: 0.6465\n",
            "Epoch 8/100\n",
            "73/73 [==============================] - 0s 3ms/step - loss: 0.6201 - acc: 0.6648\n",
            "Epoch 9/100\n",
            "73/73 [==============================] - 0s 3ms/step - loss: 0.5946 - acc: 0.6958\n",
            "Epoch 10/100\n",
            "73/73 [==============================] - 0s 3ms/step - loss: 0.5746 - acc: 0.7051\n",
            "Epoch 11/100\n",
            "73/73 [==============================] - 0s 3ms/step - loss: 0.5381 - acc: 0.7431\n",
            "Epoch 12/100\n",
            "73/73 [==============================] - 0s 3ms/step - loss: 0.5248 - acc: 0.7508\n",
            "Epoch 13/100\n",
            "73/73 [==============================] - 0s 3ms/step - loss: 0.5000 - acc: 0.7668\n",
            "Epoch 14/100\n",
            "73/73 [==============================] - 0s 3ms/step - loss: 0.4728 - acc: 0.7832\n",
            "Epoch 15/100\n",
            "73/73 [==============================] - 0s 3ms/step - loss: 0.4489 - acc: 0.8016\n",
            "Epoch 16/100\n",
            "73/73 [==============================] - 0s 3ms/step - loss: 0.4277 - acc: 0.8158\n",
            "Epoch 17/100\n",
            "73/73 [==============================] - 0s 3ms/step - loss: 0.4054 - acc: 0.8243\n",
            "Epoch 18/100\n",
            "73/73 [==============================] - 0s 3ms/step - loss: 0.3706 - acc: 0.8457\n",
            "Epoch 19/100\n",
            "73/73 [==============================] - 0s 3ms/step - loss: 0.3627 - acc: 0.8509\n",
            "Epoch 20/100\n",
            "73/73 [==============================] - 0s 3ms/step - loss: 0.3327 - acc: 0.8656\n",
            "Epoch 21/100\n",
            "73/73 [==============================] - 0s 3ms/step - loss: 0.3227 - acc: 0.8773\n",
            "Epoch 22/100\n",
            "73/73 [==============================] - 0s 3ms/step - loss: 0.2837 - acc: 0.8923\n",
            "Epoch 23/100\n",
            "73/73 [==============================] - 0s 3ms/step - loss: 0.2682 - acc: 0.8971\n",
            "Epoch 24/100\n",
            "73/73 [==============================] - 0s 3ms/step - loss: 0.2507 - acc: 0.9039\n",
            "Epoch 25/100\n",
            "73/73 [==============================] - 0s 3ms/step - loss: 0.2451 - acc: 0.9033\n",
            "Epoch 26/100\n",
            "73/73 [==============================] - 0s 3ms/step - loss: 0.2143 - acc: 0.9195\n",
            "Epoch 27/100\n",
            "73/73 [==============================] - 0s 3ms/step - loss: 0.2011 - acc: 0.9218\n",
            "Epoch 28/100\n",
            "73/73 [==============================] - 0s 3ms/step - loss: 0.1978 - acc: 0.9266\n",
            "Epoch 29/100\n",
            "73/73 [==============================] - 0s 3ms/step - loss: 0.1926 - acc: 0.9265\n",
            "Epoch 30/100\n",
            "73/73 [==============================] - 0s 3ms/step - loss: 0.1701 - acc: 0.9385\n",
            "Epoch 31/100\n",
            "73/73 [==============================] - 0s 3ms/step - loss: 0.1522 - acc: 0.9474\n",
            "Epoch 32/100\n",
            "73/73 [==============================] - 0s 3ms/step - loss: 0.1549 - acc: 0.9473\n",
            "Epoch 33/100\n",
            "73/73 [==============================] - 0s 3ms/step - loss: 0.1515 - acc: 0.9445\n",
            "Epoch 34/100\n",
            "73/73 [==============================] - 0s 3ms/step - loss: 0.1420 - acc: 0.9514\n",
            "Epoch 35/100\n",
            "73/73 [==============================] - 0s 3ms/step - loss: 0.1334 - acc: 0.9537\n",
            "Epoch 36/100\n",
            "73/73 [==============================] - 0s 3ms/step - loss: 0.1223 - acc: 0.9552\n",
            "Epoch 37/100\n",
            "73/73 [==============================] - 0s 3ms/step - loss: 0.1208 - acc: 0.9560\n",
            "Epoch 38/100\n",
            "73/73 [==============================] - 0s 3ms/step - loss: 0.1113 - acc: 0.9615\n",
            "Epoch 39/100\n",
            "73/73 [==============================] - 0s 3ms/step - loss: 0.1183 - acc: 0.9587\n",
            "Epoch 40/100\n",
            "73/73 [==============================] - 0s 3ms/step - loss: 0.1066 - acc: 0.9626\n",
            "Epoch 41/100\n",
            "73/73 [==============================] - 0s 3ms/step - loss: 0.0981 - acc: 0.9671\n",
            "Epoch 42/100\n",
            "73/73 [==============================] - 0s 3ms/step - loss: 0.0968 - acc: 0.9693\n",
            "Epoch 43/100\n",
            "73/73 [==============================] - 0s 3ms/step - loss: 0.1095 - acc: 0.9626\n",
            "Epoch 44/100\n",
            "73/73 [==============================] - 0s 3ms/step - loss: 0.0883 - acc: 0.9718\n",
            "Epoch 45/100\n",
            "73/73 [==============================] - 0s 3ms/step - loss: 0.0817 - acc: 0.9712\n",
            "Epoch 46/100\n",
            "73/73 [==============================] - 0s 3ms/step - loss: 0.0846 - acc: 0.9703\n",
            "Epoch 47/100\n",
            "73/73 [==============================] - 0s 3ms/step - loss: 0.0966 - acc: 0.9683\n",
            "Epoch 48/100\n",
            "73/73 [==============================] - 0s 3ms/step - loss: 0.0868 - acc: 0.9712\n",
            "Epoch 49/100\n",
            "73/73 [==============================] - 0s 3ms/step - loss: 0.0757 - acc: 0.9743\n",
            "Epoch 50/100\n",
            "73/73 [==============================] - 0s 3ms/step - loss: 0.0851 - acc: 0.9725\n",
            "Epoch 51/100\n",
            "73/73 [==============================] - 0s 3ms/step - loss: 0.0778 - acc: 0.9747\n",
            "Epoch 52/100\n",
            "73/73 [==============================] - 0s 3ms/step - loss: 0.0827 - acc: 0.9757\n",
            "Epoch 53/100\n",
            "73/73 [==============================] - 0s 3ms/step - loss: 0.0771 - acc: 0.9743\n",
            "Epoch 54/100\n",
            "73/73 [==============================] - 0s 3ms/step - loss: 0.0800 - acc: 0.9746\n",
            "Epoch 55/100\n",
            "73/73 [==============================] - 0s 3ms/step - loss: 0.0718 - acc: 0.9777\n",
            "Epoch 56/100\n",
            "73/73 [==============================] - 0s 3ms/step - loss: 0.0640 - acc: 0.9804\n",
            "Epoch 57/100\n",
            "73/73 [==============================] - 0s 3ms/step - loss: 0.0587 - acc: 0.9804\n",
            "Epoch 58/100\n",
            "73/73 [==============================] - 0s 3ms/step - loss: 0.0568 - acc: 0.9820\n",
            "Epoch 59/100\n",
            "73/73 [==============================] - 0s 3ms/step - loss: 0.0718 - acc: 0.9784\n",
            "Epoch 60/100\n",
            "73/73 [==============================] - 0s 3ms/step - loss: 0.0661 - acc: 0.9800\n",
            "Epoch 61/100\n",
            "73/73 [==============================] - 0s 3ms/step - loss: 0.0696 - acc: 0.9771\n",
            "Epoch 62/100\n",
            "73/73 [==============================] - 0s 3ms/step - loss: 0.0584 - acc: 0.9842\n",
            "Epoch 63/100\n",
            "73/73 [==============================] - 0s 3ms/step - loss: 0.0641 - acc: 0.9807\n",
            "Epoch 64/100\n",
            "73/73 [==============================] - 0s 3ms/step - loss: 0.0614 - acc: 0.9811\n",
            "Epoch 65/100\n",
            "73/73 [==============================] - 0s 3ms/step - loss: 0.0680 - acc: 0.9800\n",
            "Epoch 66/100\n",
            "73/73 [==============================] - 0s 3ms/step - loss: 0.0577 - acc: 0.9836\n",
            "Epoch 67/100\n",
            "73/73 [==============================] - 0s 3ms/step - loss: 0.0607 - acc: 0.9820\n",
            "Epoch 68/100\n",
            "73/73 [==============================] - 0s 3ms/step - loss: 0.0618 - acc: 0.9828\n",
            "Epoch 69/100\n",
            "73/73 [==============================] - 0s 3ms/step - loss: 0.0670 - acc: 0.9800\n",
            "Epoch 70/100\n",
            "73/73 [==============================] - 0s 3ms/step - loss: 0.0569 - acc: 0.9844\n",
            "Epoch 71/100\n",
            "73/73 [==============================] - 0s 3ms/step - loss: 0.0575 - acc: 0.9830\n",
            "Epoch 72/100\n",
            "73/73 [==============================] - 0s 3ms/step - loss: 0.0599 - acc: 0.9829\n",
            "Epoch 73/100\n",
            "73/73 [==============================] - 0s 3ms/step - loss: 0.0511 - acc: 0.9857\n",
            "Epoch 74/100\n",
            "73/73 [==============================] - 0s 3ms/step - loss: 0.0523 - acc: 0.9838\n",
            "Epoch 75/100\n",
            "73/73 [==============================] - 0s 3ms/step - loss: 0.0512 - acc: 0.9855\n",
            "Epoch 76/100\n",
            "73/73 [==============================] - 0s 3ms/step - loss: 0.0557 - acc: 0.9848\n",
            "Epoch 77/100\n",
            "73/73 [==============================] - 0s 3ms/step - loss: 0.0608 - acc: 0.9819\n",
            "Epoch 78/100\n",
            "73/73 [==============================] - 0s 3ms/step - loss: 0.0534 - acc: 0.9838\n",
            "Epoch 79/100\n",
            "73/73 [==============================] - 0s 3ms/step - loss: 0.0566 - acc: 0.9822\n",
            "Epoch 80/100\n",
            "73/73 [==============================] - 0s 3ms/step - loss: 0.0504 - acc: 0.9847\n",
            "Epoch 81/100\n",
            "73/73 [==============================] - 0s 3ms/step - loss: 0.0534 - acc: 0.9825\n",
            "Epoch 82/100\n",
            "73/73 [==============================] - 0s 3ms/step - loss: 0.0644 - acc: 0.9808\n",
            "Epoch 83/100\n",
            "73/73 [==============================] - 0s 3ms/step - loss: 0.0522 - acc: 0.9839\n",
            "Epoch 84/100\n",
            "73/73 [==============================] - 0s 3ms/step - loss: 0.0528 - acc: 0.9853\n",
            "Epoch 85/100\n",
            "73/73 [==============================] - 0s 3ms/step - loss: 0.0579 - acc: 0.9828\n",
            "Epoch 86/100\n",
            "73/73 [==============================] - 0s 3ms/step - loss: 0.0485 - acc: 0.9852\n",
            "Epoch 87/100\n",
            "73/73 [==============================] - 0s 3ms/step - loss: 0.0543 - acc: 0.9822\n",
            "Epoch 88/100\n",
            "73/73 [==============================] - 0s 3ms/step - loss: 0.0478 - acc: 0.9860\n",
            "Epoch 89/100\n",
            "73/73 [==============================] - 0s 3ms/step - loss: 0.0526 - acc: 0.9850\n",
            "Epoch 90/100\n",
            "73/73 [==============================] - 0s 3ms/step - loss: 0.0518 - acc: 0.9850\n",
            "Epoch 91/100\n",
            "73/73 [==============================] - 0s 3ms/step - loss: 0.0533 - acc: 0.9850\n",
            "Epoch 92/100\n",
            "73/73 [==============================] - 0s 3ms/step - loss: 0.0526 - acc: 0.9864\n",
            "Epoch 93/100\n",
            "73/73 [==============================] - 0s 3ms/step - loss: 0.0500 - acc: 0.9858\n",
            "Epoch 94/100\n",
            "73/73 [==============================] - 0s 3ms/step - loss: 0.0529 - acc: 0.9835\n",
            "Epoch 95/100\n",
            "73/73 [==============================] - 0s 3ms/step - loss: 0.0543 - acc: 0.9871\n",
            "Epoch 96/100\n",
            "73/73 [==============================] - 0s 3ms/step - loss: 0.0469 - acc: 0.9865\n",
            "Epoch 97/100\n",
            "73/73 [==============================] - 0s 3ms/step - loss: 0.0533 - acc: 0.9856\n",
            "Epoch 98/100\n",
            "73/73 [==============================] - 0s 3ms/step - loss: 0.0455 - acc: 0.9869\n",
            "Epoch 99/100\n",
            "73/73 [==============================] - 0s 3ms/step - loss: 0.0487 - acc: 0.9872\n",
            "Epoch 100/100\n",
            "73/73 [==============================] - 0s 3ms/step - loss: 0.0411 - acc: 0.9879\n"
          ],
          "name": "stdout"
        }
      ]
    },
    {
      "cell_type": "code",
      "metadata": {
        "id": "L0VEYgWorS5k"
      },
      "source": [
        "y_test_IE=le.fit_transform(y_test_IE)"
      ],
      "execution_count": null,
      "outputs": []
    },
    {
      "cell_type": "code",
      "metadata": {
        "colab": {
          "base_uri": "https://localhost:8080/"
        },
        "id": "MX-L-pNMrH6H",
        "outputId": "2ac5c86b-27e5-44ce-83be-92c40dc06d56"
      },
      "source": [
        "model.evaluate(X_test_IE_tsvd,y_test_IE)"
      ],
      "execution_count": null,
      "outputs": [
        {
          "output_type": "stream",
          "text": [
            "82/82 [==============================] - 0s 2ms/step - loss: 3.0819 - acc: 0.7630\n"
          ],
          "name": "stdout"
        },
        {
          "output_type": "execute_result",
          "data": {
            "text/plain": [
              "[3.081878662109375, 0.7629657983779907]"
            ]
          },
          "metadata": {
            "tags": []
          },
          "execution_count": 84
        }
      ]
    },
    {
      "cell_type": "code",
      "metadata": {
        "id": "Aw3y-SsDrrKB"
      },
      "source": [
        "y_pred_IE=model.predict(X_test_IE_tsvd)"
      ],
      "execution_count": null,
      "outputs": []
    },
    {
      "cell_type": "code",
      "metadata": {
        "id": "RK9-geqwstV1"
      },
      "source": [
        "y_pred_IE=[np.argmax(i) for i in y_pred_IE]"
      ],
      "execution_count": null,
      "outputs": []
    },
    {
      "cell_type": "code",
      "metadata": {
        "colab": {
          "base_uri": "https://localhost:8080/"
        },
        "id": "6hw-2IqXsFBQ",
        "outputId": "9c0553f5-de53-41ec-e8c8-5364757e0f90"
      },
      "source": [
        "cm=confusion_matrix(labels=y_test_IE,predictions=y_pred_IE)\n",
        "cm"
      ],
      "execution_count": null,
      "outputs": [
        {
          "output_type": "execute_result",
          "data": {
            "text/plain": [
              "<tf.Tensor: shape=(2, 2), dtype=int32, numpy=\n",
              "array([[  80,  492],\n",
              "       [ 125, 1906]], dtype=int32)>"
            ]
          },
          "metadata": {
            "tags": []
          },
          "execution_count": 92
        }
      ]
    },
    {
      "cell_type": "code",
      "metadata": {
        "colab": {
          "base_uri": "https://localhost:8080/",
          "height": 459
        },
        "id": "qJ5m2NCSuo4R",
        "outputId": "48198c11-6e15-4ece-94d0-599afb2cbaf4"
      },
      "source": [
        "import seaborn as sn\n",
        "plt.figure(figsize=(10,7))\n",
        "sn.heatmap(cm,annot=True, fmt='d')\n",
        "plt.xlabel('predicted')\n",
        "plt.ylabel('Truth')"
      ],
      "execution_count": null,
      "outputs": [
        {
          "output_type": "execute_result",
          "data": {
            "text/plain": [
              "Text(69.0, 0.5, 'Truth')"
            ]
          },
          "metadata": {
            "tags": []
          },
          "execution_count": 96
        },
        {
          "output_type": "display_data",
          "data": {
            "image/png": "[encoded data removed]",
            "text/plain": [
              "<Figure size 720x504 with 2 Axes>"
            ]
          },
          "metadata": {
            "tags": []
          }
        }
      ]
    },
    {
      "cell_type": "code",
      "metadata": {
        "colab": {
          "base_uri": "https://localhost:8080/"
        },
        "id": "lHlojj9svk-i",
        "outputId": "183886f0-07ed-4962-dbd5-871434db27af"
      },
      "source": [
        "print(classification_report(y_test_IE, y_pred_IE))"
      ],
      "execution_count": null,
      "outputs": [
        {
          "output_type": "stream",
          "text": [
            "              precision    recall  f1-score   support\n",
            "\n",
            "           0       0.39      0.14      0.21       572\n",
            "           1       0.79      0.94      0.86      2031\n",
            "\n",
            "    accuracy                           0.76      2603\n",
            "   macro avg       0.59      0.54      0.53      2603\n",
            "weighted avg       0.71      0.76      0.72      2603\n",
            "\n"
          ],
          "name": "stdout"
        }
      ]
    },
    {
      "cell_type": "code",
      "metadata": {
        "colab": {
          "base_uri": "https://localhost:8080/",
          "height": 1000
        },
        "id": "GTMOQjyHv3ns",
        "outputId": "030648cf-a0e6-4a78-eec9-d44d00d327bb"
      },
      "source": [
        "sm = SMOTE()\n",
        "Xsm_train_NS_tsvd, ysm_train_NS = sm.fit_sample(X_train_NS_tsvd, y_train_NS)\n",
        "ysm_train_NS=le.fit_transform(ysm_train_NS)\n",
        "\n",
        "history = model.fit(Xsm_train_NS_tsvd, ysm_train_NS, epochs = 100,batch_size=128)\n",
        "y_test_NS=le.fit_transform(y_test_NS)\n",
        "model.evaluate(X_test_NS_tsvd,y_test_NS)\n",
        "y_pred_NS=model.predict(X_test_NS_tsvd)\n",
        "y_pred_NS=[np.argmax(i) for i in y_pred_NS]\n"
      ],
      "execution_count": null,
      "outputs": [
        {
          "output_type": "stream",
          "text": [
            "/usr/local/lib/python3.7/dist-packages/sklearn/utils/deprecation.py:87: FutureWarning: Function safe_indexing is deprecated; safe_indexing is deprecated in version 0.22 and will be removed in version 0.24.\n",
            "  warnings.warn(msg, category=FutureWarning)\n"
          ],
          "name": "stderr"
        },
        {
          "output_type": "stream",
          "text": [
            "Epoch 1/100\n",
            "83/83 [==============================] - 0s 3ms/step - loss: 0.0883 - acc: 0.9739\n",
            "Epoch 2/100\n",
            "83/83 [==============================] - 0s 3ms/step - loss: 0.0955 - acc: 0.9721\n",
            "Epoch 3/100\n",
            "83/83 [==============================] - 0s 3ms/step - loss: 0.0835 - acc: 0.9744\n",
            "Epoch 4/100\n",
            "83/83 [==============================] - 0s 3ms/step - loss: 0.0883 - acc: 0.9759\n",
            "Epoch 5/100\n",
            "83/83 [==============================] - 0s 3ms/step - loss: 0.0859 - acc: 0.9748\n",
            "Epoch 6/100\n",
            "83/83 [==============================] - 0s 3ms/step - loss: 0.0841 - acc: 0.9766\n",
            "Epoch 7/100\n",
            "83/83 [==============================] - 0s 3ms/step - loss: 0.0766 - acc: 0.9775\n",
            "Epoch 8/100\n",
            "83/83 [==============================] - 0s 3ms/step - loss: 0.0831 - acc: 0.9776\n",
            "Epoch 9/100\n",
            "83/83 [==============================] - 0s 3ms/step - loss: 0.0740 - acc: 0.9798\n",
            "Epoch 10/100\n",
            "83/83 [==============================] - 0s 3ms/step - loss: 0.0789 - acc: 0.9781\n",
            "Epoch 11/100\n",
            "83/83 [==============================] - 0s 3ms/step - loss: 0.0745 - acc: 0.9787\n",
            "Epoch 12/100\n",
            "83/83 [==============================] - 0s 3ms/step - loss: 0.0826 - acc: 0.9787\n",
            "Epoch 13/100\n",
            "83/83 [==============================] - 0s 3ms/step - loss: 0.0820 - acc: 0.9768\n",
            "Epoch 14/100\n",
            "83/83 [==============================] - 0s 3ms/step - loss: 0.0706 - acc: 0.9805\n",
            "Epoch 15/100\n",
            "83/83 [==============================] - 0s 3ms/step - loss: 0.0825 - acc: 0.9774\n",
            "Epoch 16/100\n",
            "83/83 [==============================] - 0s 3ms/step - loss: 0.0754 - acc: 0.9792\n",
            "Epoch 17/100\n",
            "83/83 [==============================] - 0s 3ms/step - loss: 0.0639 - acc: 0.9819\n",
            "Epoch 18/100\n",
            "83/83 [==============================] - 0s 3ms/step - loss: 0.0741 - acc: 0.9801\n",
            "Epoch 19/100\n",
            "83/83 [==============================] - 0s 3ms/step - loss: 0.0644 - acc: 0.9816\n",
            "Epoch 20/100\n",
            "83/83 [==============================] - 0s 3ms/step - loss: 0.0688 - acc: 0.9824\n",
            "Epoch 21/100\n",
            "83/83 [==============================] - 0s 3ms/step - loss: 0.0720 - acc: 0.9812\n",
            "Epoch 22/100\n",
            "83/83 [==============================] - 0s 3ms/step - loss: 0.0678 - acc: 0.9811\n",
            "Epoch 23/100\n",
            "83/83 [==============================] - 0s 3ms/step - loss: 0.0634 - acc: 0.9822\n",
            "Epoch 24/100\n",
            "83/83 [==============================] - 0s 3ms/step - loss: 0.0597 - acc: 0.9825\n",
            "Epoch 25/100\n",
            "83/83 [==============================] - 0s 3ms/step - loss: 0.0664 - acc: 0.9810\n",
            "Epoch 26/100\n",
            "83/83 [==============================] - 0s 3ms/step - loss: 0.0715 - acc: 0.9809\n",
            "Epoch 27/100\n",
            "83/83 [==============================] - 0s 3ms/step - loss: 0.0697 - acc: 0.9804\n",
            "Epoch 28/100\n",
            "83/83 [==============================] - 0s 3ms/step - loss: 0.0633 - acc: 0.9825\n",
            "Epoch 29/100\n",
            "83/83 [==============================] - 0s 3ms/step - loss: 0.0603 - acc: 0.9839\n",
            "Epoch 30/100\n",
            "83/83 [==============================] - 0s 3ms/step - loss: 0.0721 - acc: 0.9800\n",
            "Epoch 31/100\n",
            "83/83 [==============================] - 0s 3ms/step - loss: 0.0678 - acc: 0.9808\n",
            "Epoch 32/100\n",
            "83/83 [==============================] - 0s 3ms/step - loss: 0.0625 - acc: 0.9817\n",
            "Epoch 33/100\n",
            "83/83 [==============================] - 0s 3ms/step - loss: 0.0692 - acc: 0.9828\n",
            "Epoch 34/100\n",
            "83/83 [==============================] - 0s 3ms/step - loss: 0.0691 - acc: 0.9807\n",
            "Epoch 35/100\n",
            "83/83 [==============================] - 0s 3ms/step - loss: 0.0655 - acc: 0.9828\n",
            "Epoch 36/100\n",
            "83/83 [==============================] - 0s 3ms/step - loss: 0.0658 - acc: 0.9819\n",
            "Epoch 37/100\n",
            "83/83 [==============================] - 0s 3ms/step - loss: 0.0595 - acc: 0.9834\n",
            "Epoch 38/100\n",
            "83/83 [==============================] - 0s 3ms/step - loss: 0.0625 - acc: 0.9824\n",
            "Epoch 39/100\n",
            "83/83 [==============================] - 0s 3ms/step - loss: 0.0626 - acc: 0.9844\n",
            "Epoch 40/100\n",
            "83/83 [==============================] - 0s 3ms/step - loss: 0.0630 - acc: 0.9823\n",
            "Epoch 41/100\n",
            "83/83 [==============================] - 0s 3ms/step - loss: 0.0606 - acc: 0.9829\n",
            "Epoch 42/100\n",
            "83/83 [==============================] - 0s 3ms/step - loss: 0.0566 - acc: 0.9852\n",
            "Epoch 43/100\n",
            "83/83 [==============================] - 0s 3ms/step - loss: 0.0582 - acc: 0.9829\n",
            "Epoch 44/100\n",
            "83/83 [==============================] - 0s 3ms/step - loss: 0.0638 - acc: 0.9817\n",
            "Epoch 45/100\n",
            "83/83 [==============================] - 0s 3ms/step - loss: 0.0678 - acc: 0.9803\n",
            "Epoch 46/100\n",
            "83/83 [==============================] - 0s 3ms/step - loss: 0.0714 - acc: 0.9808\n",
            "Epoch 47/100\n",
            "83/83 [==============================] - 0s 3ms/step - loss: 0.0621 - acc: 0.9828\n",
            "Epoch 48/100\n",
            "83/83 [==============================] - 0s 3ms/step - loss: 0.0595 - acc: 0.9848\n",
            "Epoch 49/100\n",
            "83/83 [==============================] - 0s 3ms/step - loss: 0.0625 - acc: 0.9824\n",
            "Epoch 50/100\n",
            "83/83 [==============================] - 0s 3ms/step - loss: 0.0615 - acc: 0.9833\n",
            "Epoch 51/100\n",
            "83/83 [==============================] - 0s 3ms/step - loss: 0.0624 - acc: 0.9842\n",
            "Epoch 52/100\n",
            "83/83 [==============================] - 0s 3ms/step - loss: 0.0570 - acc: 0.9847\n",
            "Epoch 53/100\n",
            "83/83 [==============================] - 0s 3ms/step - loss: 0.0507 - acc: 0.9857\n",
            "Epoch 54/100\n",
            "83/83 [==============================] - 0s 3ms/step - loss: 0.0591 - acc: 0.9853\n",
            "Epoch 55/100\n",
            "83/83 [==============================] - 0s 3ms/step - loss: 0.0672 - acc: 0.9831\n",
            "Epoch 56/100\n",
            "83/83 [==============================] - 0s 3ms/step - loss: 0.0525 - acc: 0.9868\n",
            "Epoch 57/100\n",
            "83/83 [==============================] - 0s 3ms/step - loss: 0.0596 - acc: 0.9830\n",
            "Epoch 58/100\n",
            "83/83 [==============================] - 0s 3ms/step - loss: 0.0640 - acc: 0.9829\n",
            "Epoch 59/100\n",
            "83/83 [==============================] - 0s 3ms/step - loss: 0.0537 - acc: 0.9860\n",
            "Epoch 60/100\n",
            "83/83 [==============================] - 0s 3ms/step - loss: 0.0577 - acc: 0.9851\n",
            "Epoch 61/100\n",
            "83/83 [==============================] - 0s 3ms/step - loss: 0.0546 - acc: 0.9854\n",
            "Epoch 62/100\n",
            "83/83 [==============================] - 0s 3ms/step - loss: 0.0464 - acc: 0.9861\n",
            "Epoch 63/100\n",
            "83/83 [==============================] - 0s 3ms/step - loss: 0.0559 - acc: 0.9860\n",
            "Epoch 64/100\n",
            "83/83 [==============================] - 0s 3ms/step - loss: 0.0595 - acc: 0.9845\n",
            "Epoch 65/100\n",
            "83/83 [==============================] - 0s 3ms/step - loss: 0.0568 - acc: 0.9851\n",
            "Epoch 66/100\n",
            "83/83 [==============================] - 0s 3ms/step - loss: 0.0551 - acc: 0.9861\n",
            "Epoch 67/100\n",
            "83/83 [==============================] - 0s 3ms/step - loss: 0.0542 - acc: 0.9849\n",
            "Epoch 68/100\n",
            "83/83 [==============================] - 0s 3ms/step - loss: 0.0526 - acc: 0.9858\n",
            "Epoch 69/100\n",
            "83/83 [==============================] - 0s 3ms/step - loss: 0.0654 - acc: 0.9833\n",
            "Epoch 70/100\n",
            "83/83 [==============================] - 0s 3ms/step - loss: 0.0536 - acc: 0.9857\n",
            "Epoch 71/100\n",
            "83/83 [==============================] - 0s 3ms/step - loss: 0.0605 - acc: 0.9836\n",
            "Epoch 72/100\n",
            "83/83 [==============================] - 0s 3ms/step - loss: 0.0453 - acc: 0.9871\n",
            "Epoch 73/100\n",
            "83/83 [==============================] - 0s 3ms/step - loss: 0.0584 - acc: 0.9845\n",
            "Epoch 74/100\n",
            "83/83 [==============================] - 0s 3ms/step - loss: 0.0521 - acc: 0.9856\n",
            "Epoch 75/100\n",
            "83/83 [==============================] - 0s 3ms/step - loss: 0.0514 - acc: 0.9861\n",
            "Epoch 76/100\n",
            "83/83 [==============================] - 0s 3ms/step - loss: 0.0583 - acc: 0.9843\n",
            "Epoch 77/100\n",
            "83/83 [==============================] - 0s 3ms/step - loss: 0.0446 - acc: 0.9874\n",
            "Epoch 78/100\n",
            "83/83 [==============================] - 0s 3ms/step - loss: 0.0519 - acc: 0.9871\n",
            "Epoch 79/100\n",
            "83/83 [==============================] - 0s 3ms/step - loss: 0.0483 - acc: 0.9863\n",
            "Epoch 80/100\n",
            "83/83 [==============================] - 0s 3ms/step - loss: 0.0571 - acc: 0.9863\n",
            "Epoch 81/100\n",
            "83/83 [==============================] - 0s 3ms/step - loss: 0.0523 - acc: 0.9863\n",
            "Epoch 82/100\n",
            "83/83 [==============================] - 0s 3ms/step - loss: 0.0586 - acc: 0.9857\n",
            "Epoch 83/100\n",
            "83/83 [==============================] - 0s 3ms/step - loss: 0.0501 - acc: 0.9871\n",
            "Epoch 84/100\n",
            "83/83 [==============================] - 0s 3ms/step - loss: 0.0535 - acc: 0.9864\n",
            "Epoch 85/100\n",
            "83/83 [==============================] - 0s 3ms/step - loss: 0.0552 - acc: 0.9850\n",
            "Epoch 86/100\n",
            "83/83 [==============================] - 0s 3ms/step - loss: 0.0545 - acc: 0.9856\n",
            "Epoch 87/100\n",
            "83/83 [==============================] - 0s 3ms/step - loss: 0.0488 - acc: 0.9865\n",
            "Epoch 88/100\n",
            "83/83 [==============================] - 0s 3ms/step - loss: 0.0476 - acc: 0.9877\n",
            "Epoch 89/100\n",
            "83/83 [==============================] - 0s 3ms/step - loss: 0.0390 - acc: 0.9902\n",
            "Epoch 90/100\n",
            "83/83 [==============================] - 0s 3ms/step - loss: 0.0455 - acc: 0.9891\n",
            "Epoch 91/100\n",
            "83/83 [==============================] - 0s 3ms/step - loss: 0.0514 - acc: 0.9868\n",
            "Epoch 92/100\n",
            "83/83 [==============================] - 0s 3ms/step - loss: 0.0516 - acc: 0.9861\n",
            "Epoch 93/100\n",
            "83/83 [==============================] - 0s 3ms/step - loss: 0.0512 - acc: 0.9867\n",
            "Epoch 94/100\n",
            "83/83 [==============================] - 0s 3ms/step - loss: 0.0449 - acc: 0.9884\n",
            "Epoch 95/100\n",
            "83/83 [==============================] - 0s 3ms/step - loss: 0.0540 - acc: 0.9866\n",
            "Epoch 96/100\n",
            "83/83 [==============================] - 0s 3ms/step - loss: 0.0492 - acc: 0.9877\n",
            "Epoch 97/100\n",
            "83/83 [==============================] - 0s 3ms/step - loss: 0.0514 - acc: 0.9879\n",
            "Epoch 98/100\n",
            "83/83 [==============================] - 0s 3ms/step - loss: 0.0464 - acc: 0.9872\n",
            "Epoch 99/100\n",
            "83/83 [==============================] - 0s 3ms/step - loss: 0.0417 - acc: 0.9883\n",
            "Epoch 100/100\n",
            "83/83 [==============================] - 0s 3ms/step - loss: 0.0433 - acc: 0.9884\n",
            "82/82 [==============================] - 0s 2ms/step - loss: 1.6519 - acc: 0.8498\n",
            "tf.Tensor(\n",
            "[[2198   28]\n",
            " [ 363   14]], shape=(2, 2), dtype=int32)\n"
          ],
          "name": "stdout"
        },
        {
          "output_type": "execute_result",
          "data": {
            "text/plain": [
              "Text(69.0, 0.5, 'Truth')"
            ]
          },
          "metadata": {
            "tags": []
          },
          "execution_count": 102
        },
        {
          "output_type": "display_data",
          "data": {
            "image/png": "[encoded data removed]",
            "text/plain": [
              "<Figure size 720x504 with 2 Axes>"
            ]
          },
          "metadata": {
            "tags": []
          }
        }
      ]
    },
    {
      "cell_type": "code",
      "metadata": {
        "colab": {
          "base_uri": "https://localhost:8080/"
        },
        "id": "c9Ji8WHZyWib",
        "outputId": "aeff827d-e917-4dd5-c12d-d770464d2df6"
      },
      "source": [
        "model.evaluate(X_test_NS_tsvd,y_test_NS)"
      ],
      "execution_count": null,
      "outputs": [
        {
          "output_type": "stream",
          "text": [
            "82/82 [==============================] - 0s 2ms/step - loss: 1.6519 - acc: 0.8498\n"
          ],
          "name": "stdout"
        },
        {
          "output_type": "execute_result",
          "data": {
            "text/plain": [
              "[1.6518661975860596, 0.8497887253761292]"
            ]
          },
          "metadata": {
            "tags": []
          },
          "execution_count": 104
        }
      ]
    },
    {
      "cell_type": "code",
      "metadata": {
        "colab": {
          "base_uri": "https://localhost:8080/"
        },
        "id": "OWX-ON3uyFR1",
        "outputId": "7ccf3590-4389-4409-a2cc-15c862d1a370"
      },
      "source": [
        "cm=confusion_matrix(labels=y_test_NS,predictions=y_pred_NS)\n",
        "print(cm)\n"
      ],
      "execution_count": null,
      "outputs": [
        {
          "output_type": "stream",
          "text": [
            "tf.Tensor(\n",
            "[[2198   28]\n",
            " [ 363   14]], shape=(2, 2), dtype=int32)\n"
          ],
          "name": "stdout"
        }
      ]
    },
    {
      "cell_type": "code",
      "metadata": {
        "colab": {
          "base_uri": "https://localhost:8080/"
        },
        "id": "18lvP7sByOYw",
        "outputId": "705d1a13-933c-45fa-96d1-b8675eb53071"
      },
      "source": [
        "print(classification_report(y_test_NS, y_pred_NS))"
      ],
      "execution_count": null,
      "outputs": [
        {
          "output_type": "stream",
          "text": [
            "              precision    recall  f1-score   support\n",
            "\n",
            "           0       0.86      0.99      0.92      2226\n",
            "           1       0.33      0.04      0.07       377\n",
            "\n",
            "    accuracy                           0.85      2603\n",
            "   macro avg       0.60      0.51      0.49      2603\n",
            "weighted avg       0.78      0.85      0.79      2603\n",
            "\n"
          ],
          "name": "stdout"
        }
      ]
    },
    {
      "cell_type": "code",
      "metadata": {
        "colab": {
          "base_uri": "https://localhost:8080/"
        },
        "id": "1oL6d7FAyi5Z",
        "outputId": "41cfcb05-cffc-4dac-e144-74e69c247bb9"
      },
      "source": [
        "sm = SMOTE()\n",
        "Xsm_train_TF_tsvd, ysm_train_TF = sm.fit_sample(X_train_TF_tsvd, y_train_TF)\n",
        "ysm_train_TF=le.fit_transform(ysm_train_TF)\n",
        "\n",
        "history = model.fit(Xsm_train_TF_tsvd, ysm_train_TF, epochs = 100,batch_size=128)\n",
        "y_test_TF=le.fit_transform(y_test_TF)\n",
        "model.evaluate(X_test_TF_tsvd,y_test_TF)\n",
        "y_pred_TF=model.predict(X_test_TF_tsvd)\n",
        "y_pred_TF=[np.argmax(i) for i in y_pred_TF]\n"
      ],
      "execution_count": null,
      "outputs": [
        {
          "output_type": "stream",
          "text": [
            "/usr/local/lib/python3.7/dist-packages/sklearn/utils/deprecation.py:87: FutureWarning: Function safe_indexing is deprecated; safe_indexing is deprecated in version 0.22 and will be removed in version 0.24.\n",
            "  warnings.warn(msg, category=FutureWarning)\n"
          ],
          "name": "stderr"
        },
        {
          "output_type": "stream",
          "text": [
            "Epoch 1/100\n",
            "52/52 [==============================] - 0s 3ms/step - loss: 2.4683 - acc: 0.5366\n",
            "Epoch 2/100\n",
            "52/52 [==============================] - 0s 3ms/step - loss: 0.9526 - acc: 0.5653\n",
            "Epoch 3/100\n",
            "52/52 [==============================] - 0s 3ms/step - loss: 0.8114 - acc: 0.5915\n",
            "Epoch 4/100\n",
            "52/52 [==============================] - 0s 3ms/step - loss: 0.7323 - acc: 0.6156\n",
            "Epoch 5/100\n",
            "52/52 [==============================] - 0s 3ms/step - loss: 0.6925 - acc: 0.6258\n",
            "Epoch 6/100\n",
            "52/52 [==============================] - 0s 3ms/step - loss: 0.6561 - acc: 0.6475\n",
            "Epoch 7/100\n",
            "52/52 [==============================] - 0s 3ms/step - loss: 0.6305 - acc: 0.6631\n",
            "Epoch 8/100\n",
            "52/52 [==============================] - 0s 3ms/step - loss: 0.6183 - acc: 0.6699\n",
            "Epoch 9/100\n",
            "52/52 [==============================] - 0s 3ms/step - loss: 0.5852 - acc: 0.7013\n",
            "Epoch 10/100\n",
            "52/52 [==============================] - 0s 3ms/step - loss: 0.5755 - acc: 0.7018\n",
            "Epoch 11/100\n",
            "52/52 [==============================] - 0s 3ms/step - loss: 0.5772 - acc: 0.6986\n",
            "Epoch 12/100\n",
            "52/52 [==============================] - 0s 3ms/step - loss: 0.5570 - acc: 0.7248\n",
            "Epoch 13/100\n",
            "52/52 [==============================] - 0s 3ms/step - loss: 0.5401 - acc: 0.7337\n",
            "Epoch 14/100\n",
            "52/52 [==============================] - 0s 3ms/step - loss: 0.5381 - acc: 0.7370\n",
            "Epoch 15/100\n",
            "52/52 [==============================] - 0s 3ms/step - loss: 0.5343 - acc: 0.7349\n",
            "Epoch 16/100\n",
            "52/52 [==============================] - 0s 3ms/step - loss: 0.5207 - acc: 0.7451\n",
            "Epoch 17/100\n",
            "52/52 [==============================] - 0s 3ms/step - loss: 0.5045 - acc: 0.7584\n",
            "Epoch 18/100\n",
            "52/52 [==============================] - 0s 3ms/step - loss: 0.4981 - acc: 0.7642\n",
            "Epoch 19/100\n",
            "52/52 [==============================] - 0s 3ms/step - loss: 0.4975 - acc: 0.7646\n",
            "Epoch 20/100\n",
            "52/52 [==============================] - 0s 3ms/step - loss: 0.4930 - acc: 0.7692\n",
            "Epoch 21/100\n",
            "52/52 [==============================] - 0s 3ms/step - loss: 0.4782 - acc: 0.7802\n",
            "Epoch 22/100\n",
            "52/52 [==============================] - 0s 3ms/step - loss: 0.4739 - acc: 0.7883\n",
            "Epoch 23/100\n",
            "52/52 [==============================] - 0s 3ms/step - loss: 0.4651 - acc: 0.7903\n",
            "Epoch 24/100\n",
            "52/52 [==============================] - 0s 3ms/step - loss: 0.4579 - acc: 0.7924\n",
            "Epoch 25/100\n",
            "52/52 [==============================] - 0s 3ms/step - loss: 0.4564 - acc: 0.7916\n",
            "Epoch 26/100\n",
            "52/52 [==============================] - 0s 3ms/step - loss: 0.4415 - acc: 0.8052\n",
            "Epoch 27/100\n",
            "52/52 [==============================] - 0s 3ms/step - loss: 0.4453 - acc: 0.7987\n",
            "Epoch 28/100\n",
            "52/52 [==============================] - 0s 3ms/step - loss: 0.4377 - acc: 0.8083\n",
            "Epoch 29/100\n",
            "52/52 [==============================] - 0s 3ms/step - loss: 0.4331 - acc: 0.8067\n",
            "Epoch 30/100\n",
            "52/52 [==============================] - 0s 3ms/step - loss: 0.4361 - acc: 0.8023\n",
            "Epoch 31/100\n",
            "52/52 [==============================] - 0s 3ms/step - loss: 0.4164 - acc: 0.8173\n",
            "Epoch 32/100\n",
            "52/52 [==============================] - 0s 3ms/step - loss: 0.4085 - acc: 0.8192\n",
            "Epoch 33/100\n",
            "52/52 [==============================] - 0s 3ms/step - loss: 0.4008 - acc: 0.8310\n",
            "Epoch 34/100\n",
            "52/52 [==============================] - 0s 3ms/step - loss: 0.3976 - acc: 0.8276\n",
            "Epoch 35/100\n",
            "52/52 [==============================] - 0s 3ms/step - loss: 0.3941 - acc: 0.8319\n",
            "Epoch 36/100\n",
            "52/52 [==============================] - 0s 3ms/step - loss: 0.3859 - acc: 0.8372\n",
            "Epoch 37/100\n",
            "52/52 [==============================] - 0s 3ms/step - loss: 0.3890 - acc: 0.8279\n",
            "Epoch 38/100\n",
            "52/52 [==============================] - 0s 3ms/step - loss: 0.3756 - acc: 0.8372\n",
            "Epoch 39/100\n",
            "52/52 [==============================] - 0s 3ms/step - loss: 0.3886 - acc: 0.8348\n",
            "Epoch 40/100\n",
            "52/52 [==============================] - 0s 3ms/step - loss: 0.3744 - acc: 0.8443\n",
            "Epoch 41/100\n",
            "52/52 [==============================] - 0s 3ms/step - loss: 0.3606 - acc: 0.8490\n",
            "Epoch 42/100\n",
            "52/52 [==============================] - 0s 3ms/step - loss: 0.3593 - acc: 0.8493\n",
            "Epoch 43/100\n",
            "52/52 [==============================] - 0s 3ms/step - loss: 0.3607 - acc: 0.8490\n",
            "Epoch 44/100\n",
            "52/52 [==============================] - 0s 3ms/step - loss: 0.3559 - acc: 0.8473\n",
            "Epoch 45/100\n",
            "52/52 [==============================] - 0s 3ms/step - loss: 0.3578 - acc: 0.8473\n",
            "Epoch 46/100\n",
            "52/52 [==============================] - 0s 3ms/step - loss: 0.3449 - acc: 0.8519\n",
            "Epoch 47/100\n",
            "52/52 [==============================] - 0s 3ms/step - loss: 0.3446 - acc: 0.8598\n",
            "Epoch 48/100\n",
            "52/52 [==============================] - 0s 3ms/step - loss: 0.3422 - acc: 0.8566\n",
            "Epoch 49/100\n",
            "52/52 [==============================] - 0s 3ms/step - loss: 0.3356 - acc: 0.8610\n",
            "Epoch 50/100\n",
            "52/52 [==============================] - 0s 3ms/step - loss: 0.3373 - acc: 0.8575\n",
            "Epoch 51/100\n",
            "52/52 [==============================] - 0s 3ms/step - loss: 0.3269 - acc: 0.8652\n",
            "Epoch 52/100\n",
            "52/52 [==============================] - 0s 3ms/step - loss: 0.3098 - acc: 0.8731\n",
            "Epoch 53/100\n",
            "52/52 [==============================] - 0s 3ms/step - loss: 0.3143 - acc: 0.8737\n",
            "Epoch 54/100\n",
            "52/52 [==============================] - 0s 3ms/step - loss: 0.3202 - acc: 0.8674\n",
            "Epoch 55/100\n",
            "52/52 [==============================] - 0s 3ms/step - loss: 0.3135 - acc: 0.8760\n",
            "Epoch 56/100\n",
            "52/52 [==============================] - 0s 3ms/step - loss: 0.3157 - acc: 0.8710\n",
            "Epoch 57/100\n",
            "52/52 [==============================] - 0s 3ms/step - loss: 0.3083 - acc: 0.8743\n",
            "Epoch 58/100\n",
            "52/52 [==============================] - 0s 3ms/step - loss: 0.3122 - acc: 0.8754\n",
            "Epoch 59/100\n",
            "52/52 [==============================] - 0s 3ms/step - loss: 0.2987 - acc: 0.8830\n",
            "Epoch 60/100\n",
            "52/52 [==============================] - 0s 3ms/step - loss: 0.3048 - acc: 0.8745\n",
            "Epoch 61/100\n",
            "52/52 [==============================] - 0s 3ms/step - loss: 0.3088 - acc: 0.8736\n",
            "Epoch 62/100\n",
            "52/52 [==============================] - 0s 3ms/step - loss: 0.2986 - acc: 0.8758\n",
            "Epoch 63/100\n",
            "52/52 [==============================] - 0s 3ms/step - loss: 0.3082 - acc: 0.8739\n",
            "Epoch 64/100\n",
            "52/52 [==============================] - 0s 3ms/step - loss: 0.2872 - acc: 0.8824\n",
            "Epoch 65/100\n",
            "52/52 [==============================] - 0s 3ms/step - loss: 0.2963 - acc: 0.8780\n",
            "Epoch 66/100\n",
            "52/52 [==============================] - 0s 3ms/step - loss: 0.2853 - acc: 0.8865\n",
            "Epoch 67/100\n",
            "52/52 [==============================] - 0s 3ms/step - loss: 0.2834 - acc: 0.8853\n",
            "Epoch 68/100\n",
            "52/52 [==============================] - 0s 3ms/step - loss: 0.2887 - acc: 0.8836\n",
            "Epoch 69/100\n",
            "52/52 [==============================] - 0s 3ms/step - loss: 0.2893 - acc: 0.8862\n",
            "Epoch 70/100\n",
            "52/52 [==============================] - 0s 3ms/step - loss: 0.2737 - acc: 0.8874\n",
            "Epoch 71/100\n",
            "52/52 [==============================] - 0s 3ms/step - loss: 0.2703 - acc: 0.8897\n",
            "Epoch 72/100\n",
            "52/52 [==============================] - 0s 3ms/step - loss: 0.2670 - acc: 0.8946\n",
            "Epoch 73/100\n",
            "52/52 [==============================] - 0s 3ms/step - loss: 0.2657 - acc: 0.8914\n",
            "Epoch 74/100\n",
            "52/52 [==============================] - 0s 3ms/step - loss: 0.2694 - acc: 0.8931\n",
            "Epoch 75/100\n",
            "52/52 [==============================] - 0s 3ms/step - loss: 0.2614 - acc: 0.8975\n",
            "Epoch 76/100\n",
            "52/52 [==============================] - 0s 3ms/step - loss: 0.2667 - acc: 0.8903\n",
            "Epoch 77/100\n",
            "52/52 [==============================] - 0s 3ms/step - loss: 0.2583 - acc: 0.8993\n",
            "Epoch 78/100\n",
            "52/52 [==============================] - 0s 3ms/step - loss: 0.2597 - acc: 0.8951\n",
            "Epoch 79/100\n",
            "52/52 [==============================] - 0s 3ms/step - loss: 0.2538 - acc: 0.9002\n",
            "Epoch 80/100\n",
            "52/52 [==============================] - 0s 3ms/step - loss: 0.2429 - acc: 0.9031\n",
            "Epoch 81/100\n",
            "52/52 [==============================] - 0s 3ms/step - loss: 0.2533 - acc: 0.8986\n",
            "Epoch 82/100\n",
            "52/52 [==============================] - 0s 3ms/step - loss: 0.2505 - acc: 0.9012\n",
            "Epoch 83/100\n",
            "52/52 [==============================] - 0s 3ms/step - loss: 0.2420 - acc: 0.9067\n",
            "Epoch 84/100\n",
            "52/52 [==============================] - 0s 3ms/step - loss: 0.2378 - acc: 0.9063\n",
            "Epoch 85/100\n",
            "52/52 [==============================] - 0s 3ms/step - loss: 0.2402 - acc: 0.9082\n",
            "Epoch 86/100\n",
            "52/52 [==============================] - 0s 3ms/step - loss: 0.2492 - acc: 0.9034\n",
            "Epoch 87/100\n",
            "52/52 [==============================] - 0s 3ms/step - loss: 0.2469 - acc: 0.9025\n",
            "Epoch 88/100\n",
            "52/52 [==============================] - 0s 3ms/step - loss: 0.2430 - acc: 0.9022\n",
            "Epoch 89/100\n",
            "52/52 [==============================] - 0s 3ms/step - loss: 0.2471 - acc: 0.8963\n",
            "Epoch 90/100\n",
            "52/52 [==============================] - 0s 3ms/step - loss: 0.2413 - acc: 0.9086\n",
            "Epoch 91/100\n",
            "52/52 [==============================] - 0s 3ms/step - loss: 0.2386 - acc: 0.9092\n",
            "Epoch 92/100\n",
            "52/52 [==============================] - 0s 3ms/step - loss: 0.2361 - acc: 0.9146\n",
            "Epoch 93/100\n",
            "52/52 [==============================] - 0s 3ms/step - loss: 0.2287 - acc: 0.9117\n",
            "Epoch 94/100\n",
            "52/52 [==============================] - 0s 3ms/step - loss: 0.2391 - acc: 0.9063\n",
            "Epoch 95/100\n",
            "52/52 [==============================] - 0s 3ms/step - loss: 0.2289 - acc: 0.9089\n",
            "Epoch 96/100\n",
            "52/52 [==============================] - 0s 3ms/step - loss: 0.2370 - acc: 0.9080\n",
            "Epoch 97/100\n",
            "52/52 [==============================] - 0s 3ms/step - loss: 0.2326 - acc: 0.9137\n",
            "Epoch 98/100\n",
            "52/52 [==============================] - 0s 3ms/step - loss: 0.2208 - acc: 0.9164\n",
            "Epoch 99/100\n",
            "52/52 [==============================] - 0s 3ms/step - loss: 0.2332 - acc: 0.9085\n",
            "Epoch 100/100\n",
            "52/52 [==============================] - 0s 3ms/step - loss: 0.2244 - acc: 0.9111\n",
            "82/82 [==============================] - 0s 2ms/step - loss: 1.0841 - acc: 0.6892\n"
          ],
          "name": "stdout"
        }
      ]
    },
    {
      "cell_type": "code",
      "metadata": {
        "colab": {
          "base_uri": "https://localhost:8080/"
        },
        "id": "8dJM259Ny8I5",
        "outputId": "b4ee2c83-60b1-4323-8923-564734248ba2"
      },
      "source": [
        "model.evaluate(X_test_TF_tsvd,y_test_TF)"
      ],
      "execution_count": null,
      "outputs": [
        {
          "output_type": "stream",
          "text": [
            "82/82 [==============================] - 0s 2ms/step - loss: 1.0841 - acc: 0.6892\n"
          ],
          "name": "stdout"
        },
        {
          "output_type": "execute_result",
          "data": {
            "text/plain": [
              "[1.0841354131698608, 0.689204752445221]"
            ]
          },
          "metadata": {
            "tags": []
          },
          "execution_count": 107
        }
      ]
    },
    {
      "cell_type": "code",
      "metadata": {
        "colab": {
          "base_uri": "https://localhost:8080/"
        },
        "id": "8rKY5tmnzH4F",
        "outputId": "4a14d107-b210-4061-840a-a82ff5b8b863"
      },
      "source": [
        "cm=confusion_matrix(labels=y_test_TF,predictions=y_pred_TF)\n",
        "print(cm)"
      ],
      "execution_count": null,
      "outputs": [
        {
          "output_type": "stream",
          "text": [
            "tf.Tensor(\n",
            "[[1219  197]\n",
            " [ 612  575]], shape=(2, 2), dtype=int32)\n"
          ],
          "name": "stdout"
        }
      ]
    },
    {
      "cell_type": "code",
      "metadata": {
        "colab": {
          "base_uri": "https://localhost:8080/",
          "height": 459
        },
        "id": "UaS9WIfszSLM",
        "outputId": "c3405c45-52d1-430a-ea7c-79465b23c4e7"
      },
      "source": [
        "import seaborn as sn\n",
        "plt.figure(figsize=(10,7))\n",
        "sn.heatmap(cm,annot=True, fmt='d')\n",
        "plt.xlabel('predicted')\n",
        "plt.ylabel('Truth')"
      ],
      "execution_count": null,
      "outputs": [
        {
          "output_type": "execute_result",
          "data": {
            "text/plain": [
              "Text(69.0, 0.5, 'Truth')"
            ]
          },
          "metadata": {
            "tags": []
          },
          "execution_count": 111
        },
        {
          "output_type": "display_data",
          "data": {
            "image/png": "[encoded data removed]",
            "text/plain": [
              "<Figure size 720x504 with 2 Axes>"
            ]
          },
          "metadata": {
            "tags": []
          }
        }
      ]
    },
    {
      "cell_type": "code",
      "metadata": {
        "colab": {
          "base_uri": "https://localhost:8080/"
        },
        "id": "K6uUtij_zd7w",
        "outputId": "05b4c7f1-1319-4c71-cb49-5aca46e5cfeb"
      },
      "source": [
        "print(classification_report(y_test_TF, y_pred_TF))"
      ],
      "execution_count": null,
      "outputs": [
        {
          "output_type": "stream",
          "text": [
            "              precision    recall  f1-score   support\n",
            "\n",
            "           0       0.67      0.86      0.75      1416\n",
            "           1       0.74      0.48      0.59      1187\n",
            "\n",
            "    accuracy                           0.69      2603\n",
            "   macro avg       0.71      0.67      0.67      2603\n",
            "weighted avg       0.70      0.69      0.68      2603\n",
            "\n"
          ],
          "name": "stdout"
        }
      ]
    },
    {
      "cell_type": "code",
      "metadata": {
        "colab": {
          "base_uri": "https://localhost:8080/"
        },
        "id": "dX2ud7vKznZ7",
        "outputId": "29c76372-3ec8-426d-fc19-a5de014a0bd4"
      },
      "source": [
        "sm = SMOTE()\n",
        "Xsm_train_JP_tsvd, ysm_train_JP = sm.fit_sample(X_train_JP_tsvd, y_train_JP)\n",
        "ysm_train_JP=le.fit_transform(ysm_train_JP)\n",
        "\n",
        "history = model.fit(Xsm_train_JP_tsvd, ysm_train_JP, epochs = 100,batch_size=128)\n",
        "y_test_JP=le.fit_transform(y_test_JP)\n",
        "model.evaluate(X_test_JP_tsvd,y_test_JP)\n",
        "y_pred_JP=model.predict(X_test_JP_tsvd)\n",
        "y_pred_JP=[np.argmax(i) for i in y_pred_JP]"
      ],
      "execution_count": null,
      "outputs": [
        {
          "output_type": "stream",
          "text": [
            "/usr/local/lib/python3.7/dist-packages/sklearn/utils/deprecation.py:87: FutureWarning: Function safe_indexing is deprecated; safe_indexing is deprecated in version 0.22 and will be removed in version 0.24.\n",
            "  warnings.warn(msg, category=FutureWarning)\n"
          ],
          "name": "stderr"
        },
        {
          "output_type": "stream",
          "text": [
            "Epoch 1/100\n",
            "58/58 [==============================] - 0s 3ms/step - loss: 0.3680 - acc: 0.8179\n",
            "Epoch 2/100\n",
            "58/58 [==============================] - 0s 3ms/step - loss: 0.3703 - acc: 0.8174\n",
            "Epoch 3/100\n",
            "58/58 [==============================] - 0s 3ms/step - loss: 0.3724 - acc: 0.8130\n",
            "Epoch 4/100\n",
            "58/58 [==============================] - 0s 3ms/step - loss: 0.3617 - acc: 0.8222\n",
            "Epoch 5/100\n",
            "58/58 [==============================] - 0s 3ms/step - loss: 0.3688 - acc: 0.8144\n",
            "Epoch 6/100\n",
            "58/58 [==============================] - 0s 3ms/step - loss: 0.3696 - acc: 0.8202\n",
            "Epoch 7/100\n",
            "58/58 [==============================] - 0s 3ms/step - loss: 0.3557 - acc: 0.8192\n",
            "Epoch 8/100\n",
            "58/58 [==============================] - 0s 3ms/step - loss: 0.3603 - acc: 0.8212\n",
            "Epoch 9/100\n",
            "58/58 [==============================] - 0s 3ms/step - loss: 0.3580 - acc: 0.8246\n",
            "Epoch 10/100\n",
            "58/58 [==============================] - 0s 3ms/step - loss: 0.3508 - acc: 0.8248\n",
            "Epoch 11/100\n",
            "58/58 [==============================] - 0s 3ms/step - loss: 0.3652 - acc: 0.8178\n",
            "Epoch 12/100\n",
            "58/58 [==============================] - 0s 3ms/step - loss: 0.3468 - acc: 0.8311\n",
            "Epoch 13/100\n",
            "58/58 [==============================] - 0s 3ms/step - loss: 0.3478 - acc: 0.8306\n",
            "Epoch 14/100\n",
            "58/58 [==============================] - 0s 3ms/step - loss: 0.3528 - acc: 0.8297\n",
            "Epoch 15/100\n",
            "58/58 [==============================] - 0s 3ms/step - loss: 0.3435 - acc: 0.8371\n",
            "Epoch 16/100\n",
            "58/58 [==============================] - 0s 3ms/step - loss: 0.3484 - acc: 0.8302\n",
            "Epoch 17/100\n",
            "58/58 [==============================] - 0s 3ms/step - loss: 0.3503 - acc: 0.8267\n",
            "Epoch 18/100\n",
            "58/58 [==============================] - 0s 3ms/step - loss: 0.3489 - acc: 0.8302\n",
            "Epoch 19/100\n",
            "58/58 [==============================] - 0s 3ms/step - loss: 0.3483 - acc: 0.8311\n",
            "Epoch 20/100\n",
            "58/58 [==============================] - 0s 3ms/step - loss: 0.3433 - acc: 0.8341\n",
            "Epoch 21/100\n",
            "58/58 [==============================] - 0s 3ms/step - loss: 0.3458 - acc: 0.8369\n",
            "Epoch 22/100\n",
            "58/58 [==============================] - 0s 3ms/step - loss: 0.3518 - acc: 0.8282\n",
            "Epoch 23/100\n",
            "58/58 [==============================] - 0s 3ms/step - loss: 0.3384 - acc: 0.8360\n",
            "Epoch 24/100\n",
            "58/58 [==============================] - 0s 3ms/step - loss: 0.3478 - acc: 0.8279\n",
            "Epoch 25/100\n",
            "58/58 [==============================] - 0s 3ms/step - loss: 0.3377 - acc: 0.8365\n",
            "Epoch 26/100\n",
            "58/58 [==============================] - 0s 3ms/step - loss: 0.3369 - acc: 0.8363\n",
            "Epoch 27/100\n",
            "58/58 [==============================] - 0s 3ms/step - loss: 0.3360 - acc: 0.8368\n",
            "Epoch 28/100\n",
            "58/58 [==============================] - 0s 3ms/step - loss: 0.3372 - acc: 0.8332\n",
            "Epoch 29/100\n",
            "58/58 [==============================] - 0s 3ms/step - loss: 0.3367 - acc: 0.8363\n",
            "Epoch 30/100\n",
            "58/58 [==============================] - 0s 3ms/step - loss: 0.3336 - acc: 0.8335\n",
            "Epoch 31/100\n",
            "58/58 [==============================] - 0s 3ms/step - loss: 0.3314 - acc: 0.8410\n",
            "Epoch 32/100\n",
            "58/58 [==============================] - 0s 3ms/step - loss: 0.3270 - acc: 0.8393\n",
            "Epoch 33/100\n",
            "58/58 [==============================] - 0s 3ms/step - loss: 0.3391 - acc: 0.8347\n",
            "Epoch 34/100\n",
            "58/58 [==============================] - 0s 3ms/step - loss: 0.3339 - acc: 0.8338\n",
            "Epoch 35/100\n",
            "58/58 [==============================] - 0s 3ms/step - loss: 0.3351 - acc: 0.8386\n",
            "Epoch 36/100\n",
            "58/58 [==============================] - 0s 3ms/step - loss: 0.3234 - acc: 0.8432\n",
            "Epoch 37/100\n",
            "58/58 [==============================] - 0s 3ms/step - loss: 0.3247 - acc: 0.8420\n",
            "Epoch 38/100\n",
            "58/58 [==============================] - 0s 3ms/step - loss: 0.3220 - acc: 0.8475\n",
            "Epoch 39/100\n",
            "58/58 [==============================] - 0s 3ms/step - loss: 0.3243 - acc: 0.8461\n",
            "Epoch 40/100\n",
            "58/58 [==============================] - 0s 3ms/step - loss: 0.3342 - acc: 0.8383\n",
            "Epoch 41/100\n",
            "58/58 [==============================] - 0s 3ms/step - loss: 0.3262 - acc: 0.8393\n",
            "Epoch 42/100\n",
            "58/58 [==============================] - 0s 3ms/step - loss: 0.3242 - acc: 0.8440\n",
            "Epoch 43/100\n",
            "58/58 [==============================] - 0s 3ms/step - loss: 0.3368 - acc: 0.8395\n",
            "Epoch 44/100\n",
            "58/58 [==============================] - 0s 3ms/step - loss: 0.3405 - acc: 0.8357\n",
            "Epoch 45/100\n",
            "58/58 [==============================] - 0s 3ms/step - loss: 0.3296 - acc: 0.8383\n",
            "Epoch 46/100\n",
            "58/58 [==============================] - 0s 3ms/step - loss: 0.3176 - acc: 0.8472\n",
            "Epoch 47/100\n",
            "58/58 [==============================] - 0s 3ms/step - loss: 0.3257 - acc: 0.8404\n",
            "Epoch 48/100\n",
            "58/58 [==============================] - 0s 3ms/step - loss: 0.3250 - acc: 0.8421\n",
            "Epoch 49/100\n",
            "58/58 [==============================] - 0s 3ms/step - loss: 0.3213 - acc: 0.8404\n",
            "Epoch 50/100\n",
            "58/58 [==============================] - 0s 3ms/step - loss: 0.3220 - acc: 0.8480\n",
            "Epoch 51/100\n",
            "58/58 [==============================] - 0s 3ms/step - loss: 0.3168 - acc: 0.8419\n",
            "Epoch 52/100\n",
            "58/58 [==============================] - 0s 3ms/step - loss: 0.3150 - acc: 0.8461\n",
            "Epoch 53/100\n",
            "58/58 [==============================] - 0s 3ms/step - loss: 0.3226 - acc: 0.8440\n",
            "Epoch 54/100\n",
            "58/58 [==============================] - 0s 3ms/step - loss: 0.3216 - acc: 0.8432\n",
            "Epoch 55/100\n",
            "58/58 [==============================] - 0s 3ms/step - loss: 0.3145 - acc: 0.8487\n",
            "Epoch 56/100\n",
            "58/58 [==============================] - 0s 3ms/step - loss: 0.3282 - acc: 0.8477\n",
            "Epoch 57/100\n",
            "58/58 [==============================] - 0s 3ms/step - loss: 0.3174 - acc: 0.8439\n",
            "Epoch 58/100\n",
            "58/58 [==============================] - 0s 3ms/step - loss: 0.3182 - acc: 0.8438\n",
            "Epoch 59/100\n",
            "58/58 [==============================] - 0s 3ms/step - loss: 0.3162 - acc: 0.8443\n",
            "Epoch 60/100\n",
            "58/58 [==============================] - 0s 3ms/step - loss: 0.3184 - acc: 0.8451\n",
            "Epoch 61/100\n",
            "58/58 [==============================] - 0s 3ms/step - loss: 0.3227 - acc: 0.8451\n",
            "Epoch 62/100\n",
            "58/58 [==============================] - 0s 3ms/step - loss: 0.3138 - acc: 0.8482\n",
            "Epoch 63/100\n",
            "58/58 [==============================] - 0s 3ms/step - loss: 0.3109 - acc: 0.8480\n",
            "Epoch 64/100\n",
            "58/58 [==============================] - 0s 3ms/step - loss: 0.3149 - acc: 0.8469\n",
            "Epoch 65/100\n",
            "58/58 [==============================] - 0s 3ms/step - loss: 0.3113 - acc: 0.8490\n",
            "Epoch 66/100\n",
            "58/58 [==============================] - 0s 3ms/step - loss: 0.3159 - acc: 0.8453\n",
            "Epoch 67/100\n",
            "58/58 [==============================] - 0s 3ms/step - loss: 0.3126 - acc: 0.8534\n",
            "Epoch 68/100\n",
            "58/58 [==============================] - 0s 3ms/step - loss: 0.3108 - acc: 0.8483\n",
            "Epoch 69/100\n",
            "58/58 [==============================] - 0s 3ms/step - loss: 0.3091 - acc: 0.8503\n",
            "Epoch 70/100\n",
            "58/58 [==============================] - 0s 3ms/step - loss: 0.3034 - acc: 0.8558\n",
            "Epoch 71/100\n",
            "58/58 [==============================] - 0s 3ms/step - loss: 0.3228 - acc: 0.8479\n",
            "Epoch 72/100\n",
            "58/58 [==============================] - 0s 3ms/step - loss: 0.3095 - acc: 0.8534\n",
            "Epoch 73/100\n",
            "58/58 [==============================] - 0s 3ms/step - loss: 0.3008 - acc: 0.8517\n",
            "Epoch 74/100\n",
            "58/58 [==============================] - 0s 3ms/step - loss: 0.3003 - acc: 0.8543\n",
            "Epoch 75/100\n",
            "58/58 [==============================] - 0s 3ms/step - loss: 0.3200 - acc: 0.8475\n",
            "Epoch 76/100\n",
            "58/58 [==============================] - 0s 3ms/step - loss: 0.3016 - acc: 0.8512\n",
            "Epoch 77/100\n",
            "58/58 [==============================] - 0s 3ms/step - loss: 0.3155 - acc: 0.8434\n",
            "Epoch 78/100\n",
            "58/58 [==============================] - 0s 3ms/step - loss: 0.3127 - acc: 0.8536\n",
            "Epoch 79/100\n",
            "58/58 [==============================] - 0s 3ms/step - loss: 0.2994 - acc: 0.8547\n",
            "Epoch 80/100\n",
            "58/58 [==============================] - 0s 3ms/step - loss: 0.3103 - acc: 0.8475\n",
            "Epoch 81/100\n",
            "58/58 [==============================] - 0s 3ms/step - loss: 0.3095 - acc: 0.8523\n",
            "Epoch 82/100\n",
            "58/58 [==============================] - 0s 3ms/step - loss: 0.2980 - acc: 0.8529\n",
            "Epoch 83/100\n",
            "58/58 [==============================] - 0s 3ms/step - loss: 0.3075 - acc: 0.8527\n",
            "Epoch 84/100\n",
            "58/58 [==============================] - 0s 3ms/step - loss: 0.2960 - acc: 0.8609\n",
            "Epoch 85/100\n",
            "58/58 [==============================] - 0s 3ms/step - loss: 0.3129 - acc: 0.8450\n",
            "Epoch 86/100\n",
            "58/58 [==============================] - 0s 3ms/step - loss: 0.2993 - acc: 0.8535\n",
            "Epoch 87/100\n",
            "58/58 [==============================] - 0s 3ms/step - loss: 0.2949 - acc: 0.8538\n",
            "Epoch 88/100\n",
            "58/58 [==============================] - 0s 3ms/step - loss: 0.2991 - acc: 0.8562\n",
            "Epoch 89/100\n",
            "58/58 [==============================] - 0s 3ms/step - loss: 0.3015 - acc: 0.8472\n",
            "Epoch 90/100\n",
            "58/58 [==============================] - 0s 3ms/step - loss: 0.3039 - acc: 0.8497\n",
            "Epoch 91/100\n",
            "58/58 [==============================] - 0s 3ms/step - loss: 0.2953 - acc: 0.8575\n",
            "Epoch 92/100\n",
            "58/58 [==============================] - 0s 3ms/step - loss: 0.3050 - acc: 0.8544\n",
            "Epoch 93/100\n",
            "58/58 [==============================] - 0s 3ms/step - loss: 0.2964 - acc: 0.8572\n",
            "Epoch 94/100\n",
            "58/58 [==============================] - 0s 3ms/step - loss: 0.2993 - acc: 0.8561\n",
            "Epoch 95/100\n",
            "58/58 [==============================] - 0s 3ms/step - loss: 0.3018 - acc: 0.8540\n",
            "Epoch 96/100\n",
            "58/58 [==============================] - 0s 3ms/step - loss: 0.2999 - acc: 0.8611\n",
            "Epoch 97/100\n",
            "58/58 [==============================] - 0s 3ms/step - loss: 0.2999 - acc: 0.8598\n",
            "Epoch 98/100\n",
            "58/58 [==============================] - 0s 3ms/step - loss: 0.3072 - acc: 0.8498\n",
            "Epoch 99/100\n",
            "58/58 [==============================] - 0s 3ms/step - loss: 0.3001 - acc: 0.8516\n",
            "Epoch 100/100\n",
            "58/58 [==============================] - 0s 3ms/step - loss: 0.2987 - acc: 0.8590\n",
            "82/82 [==============================] - 0s 3ms/step - loss: 2.4199 - acc: 0.5328\n"
          ],
          "name": "stdout"
        }
      ]
    },
    {
      "cell_type": "code",
      "metadata": {
        "colab": {
          "base_uri": "https://localhost:8080/",
          "height": 731
        },
        "id": "m1wOIF2Kz-6-",
        "outputId": "3f120368-4e88-434e-9ee9-8034a216ec34"
      },
      "source": [
        "print(model.evaluate(X_test_JP_tsvd,y_test_JP))\n",
        "print(\"_____\")\n",
        "cm=confusion_matrix(labels=y_test_JP,predictions=y_pred_JP)\n",
        "print(cm)\n",
        "print(\"_____\")\n",
        "import seaborn as sn\n",
        "plt.figure(figsize=(10,7))\n",
        "sn.heatmap(cm,annot=True, fmt='d')\n",
        "plt.xlabel('predicted')\n",
        "plt.ylabel('Truth')\n",
        "print(\"_____\")\n",
        "print(classification_report(y_test_JP, y_pred_JP))"
      ],
      "execution_count": null,
      "outputs": [
        {
          "output_type": "stream",
          "text": [
            "82/82 [==============================] - 0s 2ms/step - loss: 2.4199 - acc: 0.5328\n",
            "[2.4199066162109375, 0.5328466892242432]\n",
            "_____\n",
            "tf.Tensor(\n",
            "[[624 393]\n",
            " [823 763]], shape=(2, 2), dtype=int32)\n",
            "_____\n",
            "_____\n",
            "              precision    recall  f1-score   support\n",
            "\n",
            "           0       0.43      0.61      0.51      1017\n",
            "           1       0.66      0.48      0.56      1586\n",
            "\n",
            "    accuracy                           0.53      2603\n",
            "   macro avg       0.55      0.55      0.53      2603\n",
            "weighted avg       0.57      0.53      0.54      2603\n",
            "\n"
          ],
          "name": "stdout"
        },
        {
          "output_type": "display_data",
          "data": {
            "image/png": "[encoded data removed]",
            "text/plain": [
              "<Figure size 720x504 with 2 Axes>"
            ]
          },
          "metadata": {
            "tags": []
          }
        }
      ]
    }
  ]
}