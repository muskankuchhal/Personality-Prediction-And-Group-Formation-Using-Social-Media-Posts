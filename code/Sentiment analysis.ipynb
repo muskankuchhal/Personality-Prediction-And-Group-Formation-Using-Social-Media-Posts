{
 "cells": [
  {
   "cell_type": "code",
   "execution_count": 1,
   "metadata": {},
   "outputs": [],
   "source": [
    "# Import libraries\n",
    "from collections import Counter\n",
    "\n",
    "import numpy as np\n",
    "import pandas as pd\n",
    "import matplotlib.pyplot as plt\n",
    "import seaborn as sns\n",
    "sns.set_style(\"whitegrid\")\n",
    "import scipy.stats as stats\n",
    "\n",
    "import re\n",
    "import string\n",
    "\n",
    "from imblearn.over_sampling import SMOTE\n",
    "\n",
    "from nltk.corpus import stopwords\n",
    "from nltk.stem import PorterStemmer\n",
    "from nltk.stem import WordNetLemmatizer\n",
    "from sklearn import metrics\n",
    "from sklearn.feature_extraction.text import CountVectorizer\n",
    "from sklearn.decomposition import TruncatedSVD\n",
    "from sklearn.ensemble import RandomForestClassifier\n",
    "from sklearn.multiclass import OneVsRestClassifier\n",
    "from sklearn.neighbors import KNeighborsClassifier\n",
    "from sklearn.metrics import confusion_matrix, classification_report\n",
    "from sklearn.model_selection import train_test_split, GridSearchCV\n",
    "from sklearn.pipeline import make_pipeline\n",
    "from sklearn.svm import LinearSVC\n",
    "\n",
    "from statsmodels.stats.multicomp import pairwise_tukeyhsd\n",
    "\n",
    "from textblob import TextBlob"
   ]
  },
  {
   "cell_type": "code",
   "execution_count": 2,
   "metadata": {},
   "outputs": [],
   "source": [
    "df = pd.read_csv('mbti_1.csv')"
   ]
  },
  {
   "cell_type": "code",
   "execution_count": 3,
   "metadata": {},
   "outputs": [
    {
     "data": {
      "text/html": [
       "<div>\n",
       "<style scoped>\n",
       "    .dataframe tbody tr th:only-of-type {\n",
       "        vertical-align: middle;\n",
       "    }\n",
       "\n",
       "    .dataframe tbody tr th {\n",
       "        vertical-align: top;\n",
       "    }\n",
       "\n",
       "    .dataframe thead th {\n",
       "        text-align: right;\n",
       "    }\n",
       "</style>\n",
       "<table border=\"1\" class=\"dataframe\">\n",
       "  <thead>\n",
       "    <tr style=\"text-align: right;\">\n",
       "      <th></th>\n",
       "      <th>type</th>\n",
       "      <th>posts</th>\n",
       "      <th>clean_posts</th>\n",
       "    </tr>\n",
       "  </thead>\n",
       "  <tbody>\n",
       "    <tr>\n",
       "      <th>0</th>\n",
       "      <td>INFJ</td>\n",
       "      <td>'http://www.youtube.com/watch?v=qsXHcwe3krw|||...</td>\n",
       "      <td>'URL URL enfp and intj moments  URL  sportscen...</td>\n",
       "    </tr>\n",
       "    <tr>\n",
       "      <th>1</th>\n",
       "      <td>ENTP</td>\n",
       "      <td>'I'm finding the lack of me in these posts ver...</td>\n",
       "      <td>'I'm finding the lack of me in these posts ver...</td>\n",
       "    </tr>\n",
       "    <tr>\n",
       "      <th>2</th>\n",
       "      <td>INTP</td>\n",
       "      <td>'Good one  _____   https://www.youtube.com/wat...</td>\n",
       "      <td>'Good one  _____   URL Of course, to which I s...</td>\n",
       "    </tr>\n",
       "    <tr>\n",
       "      <th>3</th>\n",
       "      <td>INTJ</td>\n",
       "      <td>'Dear INTP,   I enjoyed our conversation the o...</td>\n",
       "      <td>'Dear INTP,   I enjoyed our conversation the o...</td>\n",
       "    </tr>\n",
       "    <tr>\n",
       "      <th>4</th>\n",
       "      <td>ENTJ</td>\n",
       "      <td>'You're fired.|||That's another silly misconce...</td>\n",
       "      <td>'You're fired. That's another silly misconcept...</td>\n",
       "    </tr>\n",
       "  </tbody>\n",
       "</table>\n",
       "</div>"
      ],
      "text/plain": [
       "   type                                              posts  \\\n",
       "0  INFJ  'http://www.youtube.com/watch?v=qsXHcwe3krw|||...   \n",
       "1  ENTP  'I'm finding the lack of me in these posts ver...   \n",
       "2  INTP  'Good one  _____   https://www.youtube.com/wat...   \n",
       "3  INTJ  'Dear INTP,   I enjoyed our conversation the o...   \n",
       "4  ENTJ  'You're fired.|||That's another silly misconce...   \n",
       "\n",
       "                                         clean_posts  \n",
       "0  'URL URL enfp and intj moments  URL  sportscen...  \n",
       "1  'I'm finding the lack of me in these posts ver...  \n",
       "2  'Good one  _____   URL Of course, to which I s...  \n",
       "3  'Dear INTP,   I enjoyed our conversation the o...  \n",
       "4  'You're fired. That's another silly misconcept...  "
      ]
     },
     "execution_count": 3,
     "metadata": {},
     "output_type": "execute_result"
    }
   ],
   "source": [
    "\n",
    "# create new column with revised posts text\n",
    "df['clean_posts'] = df['posts'].copy()\n",
    "\n",
    "# replaces post separators with empty space\n",
    "df['clean_posts'] = df['clean_posts'].apply(lambda x: x.replace('|||', ' '))\n",
    "\n",
    "\n",
    "# replace hyperlinks with 'URL'\n",
    "df['clean_posts'] = df['clean_posts'].apply(lambda x: re.sub\\\n",
    "                                                  (r'\\bhttps?:\\/\\/.*?[\\r\\n]*? ', 'URL ', x, flags=re.MULTILINE))\n",
    "\n",
    "df.head()"
   ]
  },
  {
   "cell_type": "code",
   "execution_count": 4,
   "metadata": {},
   "outputs": [
    {
     "data": {
      "text/html": [
       "<div>\n",
       "<style scoped>\n",
       "    .dataframe tbody tr th:only-of-type {\n",
       "        vertical-align: middle;\n",
       "    }\n",
       "\n",
       "    .dataframe tbody tr th {\n",
       "        vertical-align: top;\n",
       "    }\n",
       "\n",
       "    .dataframe thead th {\n",
       "        text-align: right;\n",
       "    }\n",
       "</style>\n",
       "<table border=\"1\" class=\"dataframe\">\n",
       "  <thead>\n",
       "    <tr style=\"text-align: right;\">\n",
       "      <th></th>\n",
       "      <th>type</th>\n",
       "      <th>posts</th>\n",
       "      <th>clean_posts</th>\n",
       "      <th>total_words</th>\n",
       "      <th>avg_words_per_post</th>\n",
       "    </tr>\n",
       "  </thead>\n",
       "  <tbody>\n",
       "    <tr>\n",
       "      <th>0</th>\n",
       "      <td>INFJ</td>\n",
       "      <td>'http://www.youtube.com/watch?v=qsXHcwe3krw|||...</td>\n",
       "      <td>'URL URL enfp and intj moments  URL  sportscen...</td>\n",
       "      <td>624</td>\n",
       "      <td>12.48</td>\n",
       "    </tr>\n",
       "    <tr>\n",
       "      <th>1</th>\n",
       "      <td>ENTP</td>\n",
       "      <td>'I'm finding the lack of me in these posts ver...</td>\n",
       "      <td>'I'm finding the lack of me in these posts ver...</td>\n",
       "      <td>1268</td>\n",
       "      <td>25.36</td>\n",
       "    </tr>\n",
       "    <tr>\n",
       "      <th>2</th>\n",
       "      <td>INTP</td>\n",
       "      <td>'Good one  _____   https://www.youtube.com/wat...</td>\n",
       "      <td>'Good one  _____   URL Of course, to which I s...</td>\n",
       "      <td>913</td>\n",
       "      <td>18.26</td>\n",
       "    </tr>\n",
       "    <tr>\n",
       "      <th>3</th>\n",
       "      <td>INTJ</td>\n",
       "      <td>'Dear INTP,   I enjoyed our conversation the o...</td>\n",
       "      <td>'Dear INTP,   I enjoyed our conversation the o...</td>\n",
       "      <td>1164</td>\n",
       "      <td>23.28</td>\n",
       "    </tr>\n",
       "    <tr>\n",
       "      <th>4</th>\n",
       "      <td>ENTJ</td>\n",
       "      <td>'You're fired.|||That's another silly misconce...</td>\n",
       "      <td>'You're fired. That's another silly misconcept...</td>\n",
       "      <td>1049</td>\n",
       "      <td>20.98</td>\n",
       "    </tr>\n",
       "  </tbody>\n",
       "</table>\n",
       "</div>"
      ],
      "text/plain": [
       "   type                                              posts  \\\n",
       "0  INFJ  'http://www.youtube.com/watch?v=qsXHcwe3krw|||...   \n",
       "1  ENTP  'I'm finding the lack of me in these posts ver...   \n",
       "2  INTP  'Good one  _____   https://www.youtube.com/wat...   \n",
       "3  INTJ  'Dear INTP,   I enjoyed our conversation the o...   \n",
       "4  ENTJ  'You're fired.|||That's another silly misconce...   \n",
       "\n",
       "                                         clean_posts  total_words  \\\n",
       "0  'URL URL enfp and intj moments  URL  sportscen...          624   \n",
       "1  'I'm finding the lack of me in these posts ver...         1268   \n",
       "2  'Good one  _____   URL Of course, to which I s...          913   \n",
       "3  'Dear INTP,   I enjoyed our conversation the o...         1164   \n",
       "4  'You're fired. That's another silly misconcept...         1049   \n",
       "\n",
       "   avg_words_per_post  \n",
       "0               12.48  \n",
       "1               25.36  \n",
       "2               18.26  \n",
       "3               23.28  \n",
       "4               20.98  "
      ]
     },
     "execution_count": 4,
     "metadata": {},
     "output_type": "execute_result"
    }
   ],
   "source": [
    "# Add columns for the total number of words (across 50 posts), and average words per post\n",
    "df['total_words'] = df['clean_posts'].apply(lambda x: len(re.findall(r'\\w+', x)))\n",
    "df['avg_words_per_post'] = df['total_words'] / 50\n",
    "df.head()"
   ]
  },
  {
   "cell_type": "code",
   "execution_count": 6,
   "metadata": {},
   "outputs": [
    {
     "data": {
      "text/plain": [
       "26.424853025936596"
      ]
     },
     "execution_count": 6,
     "metadata": {},
     "output_type": "execute_result"
    }
   ],
   "source": [
    "# Average length of post overall\n",
    "df['avg_words_per_post'].mean()"
   ]
  },
  {
   "cell_type": "code",
   "execution_count": 8,
   "metadata": {},
   "outputs": [
    {
     "data": {
      "text/plain": [
       "type\n",
       "ENFJ    27.650632\n",
       "ENFP    27.116948\n",
       "ENTJ    26.211515\n",
       "ENTP    26.042336\n",
       "ESFJ    27.770952\n",
       "ESFP    22.192083\n",
       "ESTJ    26.428205\n",
       "ESTP    25.071910\n",
       "INFJ    27.495510\n",
       "INFP    26.801070\n",
       "INTJ    25.722970\n",
       "INTP    25.860966\n",
       "ISFJ    26.789036\n",
       "ISFP    24.605166\n",
       "ISTJ    26.185463\n",
       "ISTP    25.231632\n",
       "Name: avg_words_per_post, dtype: float64"
      ]
     },
     "execution_count": 8,
     "metadata": {},
     "output_type": "execute_result"
    }
   ],
   "source": [
    "# Average length of post, by 16 types\n",
    "df['avg_words_per_post'].groupby(df['type']).mean()"
   ]
  },
  {
   "cell_type": "code",
   "execution_count": 9,
   "metadata": {},
   "outputs": [
    {
     "data": {
      "image/png": "[encoded data removed]",
      "text/plain": [
       "<Figure size 1080x288 with 1 Axes>"
      ]
     },
     "metadata": {},
     "output_type": "display_data"
    }
   ],
   "source": [
    "# Bar graph of length of post, by 16 types\n",
    "dims1 = (15.0, 4.0)\n",
    "fig, ax = plt.subplots(figsize=dims1)\n",
    "coolwarm = sns.color_palette(\"coolwarm\", 16)\n",
    "sns.set_palette(coolwarm)\n",
    "sns.barplot(x=\"type\", y=\"avg_words_per_post\", data=df, \\\n",
    "              order=[\"ENFJ\",\"ENFP\",\"ENTJ\",\"ENTP\",\"ESFJ\",\"ESFP\",\"ESTJ\",\"ESTP\",\\\n",
    "                     \"INFJ\",\"INFP\",\"INTJ\",\"INTP\",\"ISFJ\",\"ISFP\",\"ISTJ\",\"ISTP\"]);\n",
    "plt.title(\"Avg. # of Words per Post, by Myers-Briggs Type\", fontsize=16)\n",
    "plt.xticks(fontsize=12)\n",
    "plt.yticks(fontsize=12);"
   ]
  },
  {
   "cell_type": "code",
   "execution_count": 10,
   "metadata": {},
   "outputs": [],
   "source": [
    "def polarity(text):\n",
    "    text = TextBlob(text)\n",
    "    return text.sentiment.polarity"
   ]
  },
  {
   "cell_type": "code",
   "execution_count": 12,
   "metadata": {},
   "outputs": [
    {
     "data": {
      "text/html": [
       "<div>\n",
       "<style scoped>\n",
       "    .dataframe tbody tr th:only-of-type {\n",
       "        vertical-align: middle;\n",
       "    }\n",
       "\n",
       "    .dataframe tbody tr th {\n",
       "        vertical-align: top;\n",
       "    }\n",
       "\n",
       "    .dataframe thead th {\n",
       "        text-align: right;\n",
       "    }\n",
       "</style>\n",
       "<table border=\"1\" class=\"dataframe\">\n",
       "  <thead>\n",
       "    <tr style=\"text-align: right;\">\n",
       "      <th></th>\n",
       "      <th>type</th>\n",
       "      <th>posts</th>\n",
       "      <th>clean_posts</th>\n",
       "      <th>total_words</th>\n",
       "      <th>avg_words_per_post</th>\n",
       "      <th>polarity</th>\n",
       "    </tr>\n",
       "  </thead>\n",
       "  <tbody>\n",
       "    <tr>\n",
       "      <th>0</th>\n",
       "      <td>INFJ</td>\n",
       "      <td>'http://www.youtube.com/watch?v=qsXHcwe3krw|||...</td>\n",
       "      <td>'URL URL enfp and intj moments  URL  sportscen...</td>\n",
       "      <td>624</td>\n",
       "      <td>12.48</td>\n",
       "      <td>0.174200</td>\n",
       "    </tr>\n",
       "    <tr>\n",
       "      <th>1</th>\n",
       "      <td>ENTP</td>\n",
       "      <td>'I'm finding the lack of me in these posts ver...</td>\n",
       "      <td>'I'm finding the lack of me in these posts ver...</td>\n",
       "      <td>1268</td>\n",
       "      <td>25.36</td>\n",
       "      <td>0.174525</td>\n",
       "    </tr>\n",
       "    <tr>\n",
       "      <th>2</th>\n",
       "      <td>INTP</td>\n",
       "      <td>'Good one  _____   https://www.youtube.com/wat...</td>\n",
       "      <td>'Good one  _____   URL Of course, to which I s...</td>\n",
       "      <td>913</td>\n",
       "      <td>18.26</td>\n",
       "      <td>0.188119</td>\n",
       "    </tr>\n",
       "    <tr>\n",
       "      <th>3</th>\n",
       "      <td>INTJ</td>\n",
       "      <td>'Dear INTP,   I enjoyed our conversation the o...</td>\n",
       "      <td>'Dear INTP,   I enjoyed our conversation the o...</td>\n",
       "      <td>1164</td>\n",
       "      <td>23.28</td>\n",
       "      <td>0.123478</td>\n",
       "    </tr>\n",
       "    <tr>\n",
       "      <th>4</th>\n",
       "      <td>ENTJ</td>\n",
       "      <td>'You're fired.|||That's another silly misconce...</td>\n",
       "      <td>'You're fired. That's another silly misconcept...</td>\n",
       "      <td>1049</td>\n",
       "      <td>20.98</td>\n",
       "      <td>0.068665</td>\n",
       "    </tr>\n",
       "  </tbody>\n",
       "</table>\n",
       "</div>"
      ],
      "text/plain": [
       "   type                                              posts  \\\n",
       "0  INFJ  'http://www.youtube.com/watch?v=qsXHcwe3krw|||...   \n",
       "1  ENTP  'I'm finding the lack of me in these posts ver...   \n",
       "2  INTP  'Good one  _____   https://www.youtube.com/wat...   \n",
       "3  INTJ  'Dear INTP,   I enjoyed our conversation the o...   \n",
       "4  ENTJ  'You're fired.|||That's another silly misconce...   \n",
       "\n",
       "                                         clean_posts  total_words  \\\n",
       "0  'URL URL enfp and intj moments  URL  sportscen...          624   \n",
       "1  'I'm finding the lack of me in these posts ver...         1268   \n",
       "2  'Good one  _____   URL Of course, to which I s...          913   \n",
       "3  'Dear INTP,   I enjoyed our conversation the o...         1164   \n",
       "4  'You're fired. That's another silly misconcept...         1049   \n",
       "\n",
       "   avg_words_per_post  polarity  \n",
       "0               12.48  0.174200  \n",
       "1               25.36  0.174525  \n",
       "2               18.26  0.188119  \n",
       "3               23.28  0.123478  \n",
       "4               20.98  0.068665  "
      ]
     },
     "execution_count": 12,
     "metadata": {},
     "output_type": "execute_result"
    }
   ],
   "source": [
    "df['polarity'] = df['clean_posts'].apply(polarity)\n",
    "df.head()\n"
   ]
  },
  {
   "cell_type": "code",
   "execution_count": 13,
   "metadata": {},
   "outputs": [
    {
     "data": {
      "text/plain": [
       "0.1331329227098038"
      ]
     },
     "execution_count": 13,
     "metadata": {},
     "output_type": "execute_result"
    }
   ],
   "source": [
    "df['polarity'].mean()"
   ]
  },
  {
   "cell_type": "code",
   "execution_count": 14,
   "metadata": {},
   "outputs": [
    {
     "data": {
      "text/plain": [
       "type\n",
       "ENFJ    0.171106\n",
       "ENFP    0.161090\n",
       "ENTJ    0.131794\n",
       "ENTP    0.128875\n",
       "ESFJ    0.156516\n",
       "ESFP    0.133279\n",
       "ESTJ    0.132034\n",
       "ESTP    0.131005\n",
       "INFJ    0.140826\n",
       "INFP    0.136957\n",
       "INTJ    0.119186\n",
       "INTP    0.112073\n",
       "ISFJ    0.149495\n",
       "ISFP    0.152779\n",
       "ISTJ    0.125746\n",
       "ISTP    0.115987\n",
       "Name: polarity, dtype: float64"
      ]
     },
     "execution_count": 14,
     "metadata": {},
     "output_type": "execute_result"
    }
   ],
   "source": [
    "# Average polarity of posts, by 16 types\n",
    "df['polarity'].groupby(df['type']).mean()"
   ]
  },
  {
   "cell_type": "code",
   "execution_count": 15,
   "metadata": {},
   "outputs": [
    {
     "data": {
      "image/png": "[encoded data removed]",
      "text/plain": [
       "<Figure size 1080x288 with 1 Axes>"
      ]
     },
     "metadata": {},
     "output_type": "display_data"
    }
   ],
   "source": [
    "# Bar graph of polarity, by 16 types\n",
    "dims1 = (15.0, 4.0)\n",
    "fig, ax = plt.subplots(figsize=dims1)\n",
    "coolwarm = sns.color_palette(\"coolwarm\", 16)\n",
    "sns.set_palette(coolwarm)\n",
    "sns.barplot(x=\"type\", y=\"polarity\", data=df, \\\n",
    "              order=[\"ENFJ\",\"ENFP\",\"ENTJ\",\"ENTP\",\"ESFJ\",\"ESFP\",\"ESTJ\",\"ESTP\",\\\n",
    "                     \"INFJ\",\"INFP\",\"INTJ\",\"INTP\",\"ISFJ\",\"ISFP\",\"ISTJ\",\"ISTP\"])\n",
    "plt.title(\"Polarity of Posts, by Myers-Briggs Type\", fontsize=16)\n",
    "plt.ylim(-1, 1)\n",
    "plt.xticks(fontsize=12)\n",
    "plt.yticks(fontsize=12);"
   ]
  },
  {
   "cell_type": "code",
   "execution_count": 16,
   "metadata": {},
   "outputs": [],
   "source": [
    "def subjectivity(text):\n",
    "    text = TextBlob(text)\n",
    "    return text.sentiment.subjectivity"
   ]
  },
  {
   "cell_type": "code",
   "execution_count": 17,
   "metadata": {},
   "outputs": [
    {
     "data": {
      "text/html": [
       "<div>\n",
       "<style scoped>\n",
       "    .dataframe tbody tr th:only-of-type {\n",
       "        vertical-align: middle;\n",
       "    }\n",
       "\n",
       "    .dataframe tbody tr th {\n",
       "        vertical-align: top;\n",
       "    }\n",
       "\n",
       "    .dataframe thead th {\n",
       "        text-align: right;\n",
       "    }\n",
       "</style>\n",
       "<table border=\"1\" class=\"dataframe\">\n",
       "  <thead>\n",
       "    <tr style=\"text-align: right;\">\n",
       "      <th></th>\n",
       "      <th>type</th>\n",
       "      <th>posts</th>\n",
       "      <th>clean_posts</th>\n",
       "      <th>total_words</th>\n",
       "      <th>avg_words_per_post</th>\n",
       "      <th>polarity</th>\n",
       "      <th>subjectivity</th>\n",
       "    </tr>\n",
       "  </thead>\n",
       "  <tbody>\n",
       "    <tr>\n",
       "      <th>0</th>\n",
       "      <td>INFJ</td>\n",
       "      <td>'http://www.youtube.com/watch?v=qsXHcwe3krw|||...</td>\n",
       "      <td>'URL URL enfp and intj moments  URL  sportscen...</td>\n",
       "      <td>624</td>\n",
       "      <td>12.48</td>\n",
       "      <td>0.174200</td>\n",
       "      <td>0.502012</td>\n",
       "    </tr>\n",
       "    <tr>\n",
       "      <th>1</th>\n",
       "      <td>ENTP</td>\n",
       "      <td>'I'm finding the lack of me in these posts ver...</td>\n",
       "      <td>'I'm finding the lack of me in these posts ver...</td>\n",
       "      <td>1268</td>\n",
       "      <td>25.36</td>\n",
       "      <td>0.174525</td>\n",
       "      <td>0.551938</td>\n",
       "    </tr>\n",
       "    <tr>\n",
       "      <th>2</th>\n",
       "      <td>INTP</td>\n",
       "      <td>'Good one  _____   https://www.youtube.com/wat...</td>\n",
       "      <td>'Good one  _____   URL Of course, to which I s...</td>\n",
       "      <td>913</td>\n",
       "      <td>18.26</td>\n",
       "      <td>0.188119</td>\n",
       "      <td>0.615378</td>\n",
       "    </tr>\n",
       "    <tr>\n",
       "      <th>3</th>\n",
       "      <td>INTJ</td>\n",
       "      <td>'Dear INTP,   I enjoyed our conversation the o...</td>\n",
       "      <td>'Dear INTP,   I enjoyed our conversation the o...</td>\n",
       "      <td>1164</td>\n",
       "      <td>23.28</td>\n",
       "      <td>0.123478</td>\n",
       "      <td>0.546078</td>\n",
       "    </tr>\n",
       "    <tr>\n",
       "      <th>4</th>\n",
       "      <td>ENTJ</td>\n",
       "      <td>'You're fired.|||That's another silly misconce...</td>\n",
       "      <td>'You're fired. That's another silly misconcept...</td>\n",
       "      <td>1049</td>\n",
       "      <td>20.98</td>\n",
       "      <td>0.068665</td>\n",
       "      <td>0.513298</td>\n",
       "    </tr>\n",
       "  </tbody>\n",
       "</table>\n",
       "</div>"
      ],
      "text/plain": [
       "   type                                              posts  \\\n",
       "0  INFJ  'http://www.youtube.com/watch?v=qsXHcwe3krw|||...   \n",
       "1  ENTP  'I'm finding the lack of me in these posts ver...   \n",
       "2  INTP  'Good one  _____   https://www.youtube.com/wat...   \n",
       "3  INTJ  'Dear INTP,   I enjoyed our conversation the o...   \n",
       "4  ENTJ  'You're fired.|||That's another silly misconce...   \n",
       "\n",
       "                                         clean_posts  total_words  \\\n",
       "0  'URL URL enfp and intj moments  URL  sportscen...          624   \n",
       "1  'I'm finding the lack of me in these posts ver...         1268   \n",
       "2  'Good one  _____   URL Of course, to which I s...          913   \n",
       "3  'Dear INTP,   I enjoyed our conversation the o...         1164   \n",
       "4  'You're fired. That's another silly misconcept...         1049   \n",
       "\n",
       "   avg_words_per_post  polarity  subjectivity  \n",
       "0               12.48  0.174200      0.502012  \n",
       "1               25.36  0.174525      0.551938  \n",
       "2               18.26  0.188119      0.615378  \n",
       "3               23.28  0.123478      0.546078  \n",
       "4               20.98  0.068665      0.513298  "
      ]
     },
     "execution_count": 17,
     "metadata": {},
     "output_type": "execute_result"
    }
   ],
   "source": [
    "df['subjectivity'] = df['clean_posts'].apply(subjectivity)\n",
    "df.head()"
   ]
  },
  {
   "cell_type": "code",
   "execution_count": 18,
   "metadata": {},
   "outputs": [
    {
     "data": {
      "text/plain": [
       "0.5401621653498002"
      ]
     },
     "execution_count": 18,
     "metadata": {},
     "output_type": "execute_result"
    }
   ],
   "source": [
    "# Average subjectivity of posts, overall\n",
    "df['subjectivity'].mean()"
   ]
  },
  {
   "cell_type": "code",
   "execution_count": 19,
   "metadata": {},
   "outputs": [
    {
     "data": {
      "text/plain": [
       "type\n",
       "ENFJ    0.556873\n",
       "ENFP    0.559246\n",
       "ENTJ    0.534690\n",
       "ENTP    0.540593\n",
       "ESFJ    0.547430\n",
       "ESFP    0.551374\n",
       "ESTJ    0.536098\n",
       "ESTP    0.540242\n",
       "INFJ    0.541934\n",
       "INFP    0.546770\n",
       "INTJ    0.529273\n",
       "INTP    0.528651\n",
       "ISFJ    0.550440\n",
       "ISFP    0.548526\n",
       "ISTJ    0.524557\n",
       "ISTP    0.527188\n",
       "Name: subjectivity, dtype: float64"
      ]
     },
     "execution_count": 19,
     "metadata": {},
     "output_type": "execute_result"
    }
   ],
   "source": [
    "df['subjectivity'].groupby(df['type']).mean()"
   ]
  },
  {
   "cell_type": "code",
   "execution_count": 20,
   "metadata": {},
   "outputs": [
    {
     "data": {
      "image/png": "[encoded data removed]",
      "text/plain": [
       "<Figure size 1080x288 with 1 Axes>"
      ]
     },
     "metadata": {},
     "output_type": "display_data"
    }
   ],
   "source": [
    "# Bar graph of subjectivity, by 16 types\n",
    "dims1 = (15.0, 4.0)\n",
    "fig, ax = plt.subplots(figsize=dims1)\n",
    "coolwarm = sns.color_palette(\"coolwarm\", 16)\n",
    "sns.set_palette(coolwarm)\n",
    "sns.barplot(x=\"type\", y=\"subjectivity\", data=df, \\\n",
    "              order=[\"ENFJ\",\"ENFP\",\"ENTJ\",\"ENTP\",\"ESFJ\",\"ESFP\",\"ESTJ\",\"ESTP\",\\\n",
    "                     \"INFJ\",\"INFP\",\"INTJ\",\"INTP\",\"ISFJ\",\"ISFP\",\"ISTJ\",\"ISTP\"])\n",
    "plt.title(\"Subjectivity of Posts, by Myers-Briggs Type\", fontsize=16)\n",
    "plt.ylim(0, 1)\n",
    "plt.xticks(fontsize=12)\n",
    "plt.yticks(fontsize=12);"
   ]
  },
  {
   "cell_type": "code",
   "execution_count": null,
   "metadata": {},
   "outputs": [],
   "source": []
  }
 ],
 "metadata": {
  "kernelspec": {
   "display_name": "Python 3",
   "language": "python",
   "name": "python3"
  },
  "language_info": {
   "codemirror_mode": {
    "name": "ipython",
    "version": 3
   },
   "file_extension": ".py",
   "mimetype": "text/x-python",
   "name": "python",
   "nbconvert_exporter": "python",
   "pygments_lexer": "ipython3",
   "version": "3.7.9"
  }
 },
 "nbformat": 4,
 "nbformat_minor": 4
}
