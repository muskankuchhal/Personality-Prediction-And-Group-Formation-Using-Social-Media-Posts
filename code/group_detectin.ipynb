{
  "nbformat": 4,
  "nbformat_minor": 0,
  "metadata": {
    "colab": {
      "name": "group detectin.ipynb",
      "provenance": [],
      "collapsed_sections": []
    },
    "kernelspec": {
      "display_name": "Python 3",
      "name": "python3"
    }
  },
  "cells": [
    {
      "cell_type": "code",
      "metadata": {
        "id": "c2JvqWa0-mJt",
        "colab": {
          "base_uri": "https://localhost:8080/"
        },
        "outputId": "5ce08348-4931-4121-be0a-cba0fadb7ae1"
      },
      "source": [
        "# Import libraries\n",
        "from collections import Counter\n",
        "\n",
        "import numpy as np\n",
        "import pandas as pd\n",
        "import matplotlib.pyplot as plt\n",
        "import seaborn as sns\n",
        "sns.set_style(\"whitegrid\")\n",
        "import scipy.stats as stats\n",
        "\n",
        "import re\n",
        "import string\n",
        "\n",
        "from imblearn.over_sampling import SMOTE\n",
        "\n",
        "from nltk.corpus import stopwords\n",
        "from nltk.stem import PorterStemmer\n",
        "from nltk.stem import WordNetLemmatizer\n",
        "from sklearn import metrics\n",
        "from sklearn.feature_extraction.text import CountVectorizer\n",
        "from sklearn.decomposition import TruncatedSVD\n",
        "from sklearn.ensemble import RandomForestClassifier\n",
        "from sklearn.multiclass import OneVsRestClassifier\n",
        "from sklearn.neighbors import KNeighborsClassifier\n",
        "from sklearn.metrics import confusion_matrix, classification_report\n",
        "from sklearn.model_selection import train_test_split, GridSearchCV\n",
        "from sklearn.pipeline import make_pipeline\n",
        "from sklearn.svm import LinearSVC\n",
        "\n",
        "from statsmodels.stats.multicomp import pairwise_tukeyhsd\n",
        "\n",
        "from textblob import TextBlob"
      ],
      "execution_count": null,
      "outputs": [
        {
          "output_type": "stream",
          "text": [
            "/usr/local/lib/python3.7/dist-packages/sklearn/externals/six.py:31: FutureWarning: The module is deprecated in version 0.21 and will be removed in version 0.23 since we've dropped support for Python 2.7. Please rely on the official version of six (https://pypi.org/project/six/).\n",
            "  \"(https://pypi.org/project/six/).\", FutureWarning)\n",
            "/usr/local/lib/python3.7/dist-packages/sklearn/utils/deprecation.py:144: FutureWarning: The sklearn.neighbors.base module is  deprecated in version 0.22 and will be removed in version 0.24. The corresponding classes / functions should instead be imported from sklearn.neighbors. Anything that cannot be imported from sklearn.neighbors is now part of the private API.\n",
            "  warnings.warn(message, FutureWarning)\n",
            "/usr/local/lib/python3.7/dist-packages/statsmodels/tools/_testing.py:19: FutureWarning: pandas.util.testing is deprecated. Use the functions in the public API at pandas.testing instead.\n",
            "  import pandas.util.testing as tm\n"
          ],
          "name": "stderr"
        }
      ]
    },
    {
      "cell_type": "code",
      "metadata": {
        "colab": {
          "resources": {
            "http://localhost:8080/nbextensions/google.colab/files.js": {
              "data": "Ly8gQ29weXJpZ2h0IDIwMTcgR29vZ2xlIExMQwovLwovLyBMaWNlbnNlZCB1bmRlciB0aGUgQXBhY2hlIExpY2Vuc2UsIFZlcnNpb24gMi4wICh0aGUgIkxpY2Vuc2UiKTsKLy8geW91IG1heSBub3QgdXNlIHRoaXMgZmlsZSBleGNlcHQgaW4gY29tcGxpYW5jZSB3aXRoIHRoZSBMaWNlbnNlLgovLyBZb3UgbWF5IG9idGFpbiBhIGNvcHkgb2YgdGhlIExpY2Vuc2UgYXQKLy8KLy8gICAgICBodHRwOi8vd3d3LmFwYWNoZS5vcmcvbGljZW5zZXMvTElDRU5TRS0yLjAKLy8KLy8gVW5sZXNzIHJlcXVpcmVkIGJ5IGFwcGxpY2FibGUgbGF3IG9yIGFncmVlZCB0byBpbiB3cml0aW5nLCBzb2Z0d2FyZQovLyBkaXN0cmlidXRlZCB1bmRlciB0aGUgTGljZW5zZSBpcyBkaXN0cmlidXRlZCBvbiBhbiAiQVMgSVMiIEJBU0lTLAovLyBXSVRIT1VUIFdBUlJBTlRJRVMgT1IgQ09ORElUSU9OUyBPRiBBTlkgS0lORCwgZWl0aGVyIGV4cHJlc3Mgb3IgaW1wbGllZC4KLy8gU2VlIHRoZSBMaWNlbnNlIGZvciB0aGUgc3BlY2lmaWMgbGFuZ3VhZ2UgZ292ZXJuaW5nIHBlcm1pc3Npb25zIGFuZAovLyBsaW1pdGF0aW9ucyB1bmRlciB0aGUgTGljZW5zZS4KCi8qKgogKiBAZmlsZW92ZXJ2aWV3IEhlbHBlcnMgZm9yIGdvb2dsZS5jb2xhYiBQeXRob24gbW9kdWxlLgogKi8KKGZ1bmN0aW9uKHNjb3BlKSB7CmZ1bmN0aW9uIHNwYW4odGV4dCwgc3R5bGVBdHRyaWJ1dGVzID0ge30pIHsKICBjb25zdCBlbGVtZW50ID0gZG9jdW1lbnQuY3JlYXRlRWxlbWVudCgnc3BhbicpOwogIGVsZW1lbnQudGV4dENvbnRlbnQgPSB0ZXh0OwogIGZvciAoY29uc3Qga2V5IG9mIE9iamVjdC5rZXlzKHN0eWxlQXR0cmlidXRlcykpIHsKICAgIGVsZW1lbnQuc3R5bGVba2V5XSA9IHN0eWxlQXR0cmlidXRlc1trZXldOwogIH0KICByZXR1cm4gZWxlbWVudDsKfQoKLy8gTWF4IG51bWJlciBvZiBieXRlcyB3aGljaCB3aWxsIGJlIHVwbG9hZGVkIGF0IGEgdGltZS4KY29uc3QgTUFYX1BBWUxPQURfU0laRSA9IDEwMCAqIDEwMjQ7CgpmdW5jdGlvbiBfdXBsb2FkRmlsZXMoaW5wdXRJZCwgb3V0cHV0SWQpIHsKICBjb25zdCBzdGVwcyA9IHVwbG9hZEZpbGVzU3RlcChpbnB1dElkLCBvdXRwdXRJZCk7CiAgY29uc3Qgb3V0cHV0RWxlbWVudCA9IGRvY3VtZW50LmdldEVsZW1lbnRCeUlkKG91dHB1dElkKTsKICAvLyBDYWNoZSBzdGVwcyBvbiB0aGUgb3V0cHV0RWxlbWVudCB0byBtYWtlIGl0IGF2YWlsYWJsZSBmb3IgdGhlIG5leHQgY2FsbAogIC8vIHRvIHVwbG9hZEZpbGVzQ29udGludWUgZnJvbSBQeXRob24uCiAgb3V0cHV0RWxlbWVudC5zdGVwcyA9IHN0ZXBzOwoKICByZXR1cm4gX3VwbG9hZEZpbGVzQ29udGludWUob3V0cHV0SWQpOwp9CgovLyBUaGlzIGlzIHJvdWdobHkgYW4gYXN5bmMgZ2VuZXJhdG9yIChub3Qgc3VwcG9ydGVkIGluIHRoZSBicm93c2VyIHlldCksCi8vIHdoZXJlIHRoZXJlIGFyZSBtdWx0aXBsZSBhc3luY2hyb25vdXMgc3RlcHMgYW5kIHRoZSBQeXRob24gc2lkZSBpcyBnb2luZwovLyB0byBwb2xsIGZvciBjb21wbGV0aW9uIG9mIGVhY2ggc3RlcC4KLy8gVGhpcyB1c2VzIGEgUHJvbWlzZSB0byBibG9jayB0aGUgcHl0aG9uIHNpZGUgb24gY29tcGxldGlvbiBvZiBlYWNoIHN0ZXAsCi8vIHRoZW4gcGFzc2VzIHRoZSByZXN1bHQgb2YgdGhlIHByZXZpb3VzIHN0ZXAgYXMgdGhlIGlucHV0IHRvIHRoZSBuZXh0IHN0ZXAuCmZ1bmN0aW9uIF91cGxvYWRGaWxlc0NvbnRpbnVlKG91dHB1dElkKSB7CiAgY29uc3Qgb3V0cHV0RWxlbWVudCA9IGRvY3VtZW50LmdldEVsZW1lbnRCeUlkKG91dHB1dElkKTsKICBjb25zdCBzdGVwcyA9IG91dHB1dEVsZW1lbnQuc3RlcHM7CgogIGNvbnN0IG5leHQgPSBzdGVwcy5uZXh0KG91dHB1dEVsZW1lbnQubGFzdFByb21pc2VWYWx1ZSk7CiAgcmV0dXJuIFByb21pc2UucmVzb2x2ZShuZXh0LnZhbHVlLnByb21pc2UpLnRoZW4oKHZhbHVlKSA9PiB7CiAgICAvLyBDYWNoZSB0aGUgbGFzdCBwcm9taXNlIHZhbHVlIHRvIG1ha2UgaXQgYXZhaWxhYmxlIHRvIHRoZSBuZXh0CiAgICAvLyBzdGVwIG9mIHRoZSBnZW5lcmF0b3IuCiAgICBvdXRwdXRFbGVtZW50Lmxhc3RQcm9taXNlVmFsdWUgPSB2YWx1ZTsKICAgIHJldHVybiBuZXh0LnZhbHVlLnJlc3BvbnNlOwogIH0pOwp9CgovKioKICogR2VuZXJhdG9yIGZ1bmN0aW9uIHdoaWNoIGlzIGNhbGxlZCBiZXR3ZWVuIGVhY2ggYXN5bmMgc3RlcCBvZiB0aGUgdXBsb2FkCiAqIHByb2Nlc3MuCiAqIEBwYXJhbSB7c3RyaW5nfSBpbnB1dElkIEVsZW1lbnQgSUQgb2YgdGhlIGlucHV0IGZpbGUgcGlja2VyIGVsZW1lbnQuCiAqIEBwYXJhbSB7c3RyaW5nfSBvdXRwdXRJZCBFbGVtZW50IElEIG9mIHRoZSBvdXRwdXQgZGlzcGxheS4KICogQHJldHVybiB7IUl0ZXJhYmxlPCFPYmplY3Q+fSBJdGVyYWJsZSBvZiBuZXh0IHN0ZXBzLgogKi8KZnVuY3Rpb24qIHVwbG9hZEZpbGVzU3RlcChpbnB1dElkLCBvdXRwdXRJZCkgewogIGNvbnN0IGlucHV0RWxlbWVudCA9IGRvY3VtZW50LmdldEVsZW1lbnRCeUlkKGlucHV0SWQpOwogIGlucHV0RWxlbWVudC5kaXNhYmxlZCA9IGZhbHNlOwoKICBjb25zdCBvdXRwdXRFbGVtZW50ID0gZG9jdW1lbnQuZ2V0RWxlbWVudEJ5SWQob3V0cHV0SWQpOwogIG91dHB1dEVsZW1lbnQuaW5uZXJIVE1MID0gJyc7CgogIGNvbnN0IHBpY2tlZFByb21pc2UgPSBuZXcgUHJvbWlzZSgocmVzb2x2ZSkgPT4gewogICAgaW5wdXRFbGVtZW50LmFkZEV2ZW50TGlzdGVuZXIoJ2NoYW5nZScsIChlKSA9PiB7CiAgICAgIHJlc29sdmUoZS50YXJnZXQuZmlsZXMpOwogICAgfSk7CiAgfSk7CgogIGNvbnN0IGNhbmNlbCA9IGRvY3VtZW50LmNyZWF0ZUVsZW1lbnQoJ2J1dHRvbicpOwogIGlucHV0RWxlbWVudC5wYXJlbnRFbGVtZW50LmFwcGVuZENoaWxkKGNhbmNlbCk7CiAgY2FuY2VsLnRleHRDb250ZW50ID0gJ0NhbmNlbCB1cGxvYWQnOwogIGNvbnN0IGNhbmNlbFByb21pc2UgPSBuZXcgUHJvbWlzZSgocmVzb2x2ZSkgPT4gewogICAgY2FuY2VsLm9uY2xpY2sgPSAoKSA9PiB7CiAgICAgIHJlc29sdmUobnVsbCk7CiAgICB9OwogIH0pOwoKICAvLyBXYWl0IGZvciB0aGUgdXNlciB0byBwaWNrIHRoZSBmaWxlcy4KICBjb25zdCBmaWxlcyA9IHlpZWxkIHsKICAgIHByb21pc2U6IFByb21pc2UucmFjZShbcGlja2VkUHJvbWlzZSwgY2FuY2VsUHJvbWlzZV0pLAogICAgcmVzcG9uc2U6IHsKICAgICAgYWN0aW9uOiAnc3RhcnRpbmcnLAogICAgfQogIH07CgogIGNhbmNlbC5yZW1vdmUoKTsKCiAgLy8gRGlzYWJsZSB0aGUgaW5wdXQgZWxlbWVudCBzaW5jZSBmdXJ0aGVyIHBpY2tzIGFyZSBub3QgYWxsb3dlZC4KICBpbnB1dEVsZW1lbnQuZGlzYWJsZWQgPSB0cnVlOwoKICBpZiAoIWZpbGVzKSB7CiAgICByZXR1cm4gewogICAgICByZXNwb25zZTogewogICAgICAgIGFjdGlvbjogJ2NvbXBsZXRlJywKICAgICAgfQogICAgfTsKICB9CgogIGZvciAoY29uc3QgZmlsZSBvZiBmaWxlcykgewogICAgY29uc3QgbGkgPSBkb2N1bWVudC5jcmVhdGVFbGVtZW50KCdsaScpOwogICAgbGkuYXBwZW5kKHNwYW4oZmlsZS5uYW1lLCB7Zm9udFdlaWdodDogJ2JvbGQnfSkpOwogICAgbGkuYXBwZW5kKHNwYW4oCiAgICAgICAgYCgke2ZpbGUudHlwZSB8fCAnbi9hJ30pIC0gJHtmaWxlLnNpemV9IGJ5dGVzLCBgICsKICAgICAgICBgbGFzdCBtb2RpZmllZDogJHsKICAgICAgICAgICAgZmlsZS5sYXN0TW9kaWZpZWREYXRlID8gZmlsZS5sYXN0TW9kaWZpZWREYXRlLnRvTG9jYWxlRGF0ZVN0cmluZygpIDoKICAgICAgICAgICAgICAgICAgICAgICAgICAgICAgICAgICAgJ24vYSd9IC0gYCkpOwogICAgY29uc3QgcGVyY2VudCA9IHNwYW4oJzAlIGRvbmUnKTsKICAgIGxpLmFwcGVuZENoaWxkKHBlcmNlbnQpOwoKICAgIG91dHB1dEVsZW1lbnQuYXBwZW5kQ2hpbGQobGkpOwoKICAgIGNvbnN0IGZpbGVEYXRhUHJvbWlzZSA9IG5ldyBQcm9taXNlKChyZXNvbHZlKSA9PiB7CiAgICAgIGNvbnN0IHJlYWRlciA9IG5ldyBGaWxlUmVhZGVyKCk7CiAgICAgIHJlYWRlci5vbmxvYWQgPSAoZSkgPT4gewogICAgICAgIHJlc29sdmUoZS50YXJnZXQucmVzdWx0KTsKICAgICAgfTsKICAgICAgcmVhZGVyLnJlYWRBc0FycmF5QnVmZmVyKGZpbGUpOwogICAgfSk7CiAgICAvLyBXYWl0IGZvciB0aGUgZGF0YSB0byBiZSByZWFkeS4KICAgIGxldCBmaWxlRGF0YSA9IHlpZWxkIHsKICAgICAgcHJvbWlzZTogZmlsZURhdGFQcm9taXNlLAogICAgICByZXNwb25zZTogewogICAgICAgIGFjdGlvbjogJ2NvbnRpbnVlJywKICAgICAgfQogICAgfTsKCiAgICAvLyBVc2UgYSBjaHVua2VkIHNlbmRpbmcgdG8gYXZvaWQgbWVzc2FnZSBzaXplIGxpbWl0cy4gU2VlIGIvNjIxMTU2NjAuCiAgICBsZXQgcG9zaXRpb24gPSAwOwogICAgd2hpbGUgKHBvc2l0aW9uIDwgZmlsZURhdGEuYnl0ZUxlbmd0aCkgewogICAgICBjb25zdCBsZW5ndGggPSBNYXRoLm1pbihmaWxlRGF0YS5ieXRlTGVuZ3RoIC0gcG9zaXRpb24sIE1BWF9QQVlMT0FEX1NJWkUpOwogICAgICBjb25zdCBjaHVuayA9IG5ldyBVaW50OEFycmF5KGZpbGVEYXRhLCBwb3NpdGlvbiwgbGVuZ3RoKTsKICAgICAgcG9zaXRpb24gKz0gbGVuZ3RoOwoKICAgICAgY29uc3QgYmFzZTY0ID0gYnRvYShTdHJpbmcuZnJvbUNoYXJDb2RlLmFwcGx5KG51bGwsIGNodW5rKSk7CiAgICAgIHlpZWxkIHsKICAgICAgICByZXNwb25zZTogewogICAgICAgICAgYWN0aW9uOiAnYXBwZW5kJywKICAgICAgICAgIGZpbGU6IGZpbGUubmFtZSwKICAgICAgICAgIGRhdGE6IGJhc2U2NCwKICAgICAgICB9LAogICAgICB9OwogICAgICBwZXJjZW50LnRleHRDb250ZW50ID0KICAgICAgICAgIGAke01hdGgucm91bmQoKHBvc2l0aW9uIC8gZmlsZURhdGEuYnl0ZUxlbmd0aCkgKiAxMDApfSUgZG9uZWA7CiAgICB9CiAgfQoKICAvLyBBbGwgZG9uZS4KICB5aWVsZCB7CiAgICByZXNwb25zZTogewogICAgICBhY3Rpb246ICdjb21wbGV0ZScsCiAgICB9CiAgfTsKfQoKc2NvcGUuZ29vZ2xlID0gc2NvcGUuZ29vZ2xlIHx8IHt9OwpzY29wZS5nb29nbGUuY29sYWIgPSBzY29wZS5nb29nbGUuY29sYWIgfHwge307CnNjb3BlLmdvb2dsZS5jb2xhYi5fZmlsZXMgPSB7CiAgX3VwbG9hZEZpbGVzLAogIF91cGxvYWRGaWxlc0NvbnRpbnVlLAp9Owp9KShzZWxmKTsK",
              "ok": true,
              "headers": [
                [
                  "content-type",
                  "application/javascript"
                ]
              ],
              "status": 200,
              "status_text": ""
            }
          },
          "base_uri": "https://localhost:8080/",
          "height": 72
        },
        "id": "RMEdQEQ1-ot0",
        "outputId": "11952442-98fd-4a6c-e06b-1a2f763b3ff5"
      },
      "source": [
        "from google.colab import files\n",
        "files=files.upload()"
      ],
      "execution_count": null,
      "outputs": [
        {
          "output_type": "display_data",
          "data": {
            "text/html": [
              "\n",
              "     <input type=\"file\" id=\"files-f9321a25-35ba-4378-9304-ef010a838cea\" name=\"files[]\" multiple disabled\n",
              "        style=\"border:none\" />\n",
              "     <output id=\"result-f9321a25-35ba-4378-9304-ef010a838cea\">\n",
              "      Upload widget is only available when the cell has been executed in the\n",
              "      current browser session. Please rerun this cell to enable.\n",
              "      </output>\n",
              "      <script src=\"/nbextensions/google.colab/files.js\"></script> "
            ],
            "text/plain": [
              "<IPython.core.display.HTML object>"
            ]
          },
          "metadata": {
            "tags": []
          }
        },
        {
          "output_type": "stream",
          "text": [
            "Saving mbti_1.csv to mbti_1.csv\n"
          ],
          "name": "stdout"
        }
      ]
    },
    {
      "cell_type": "code",
      "metadata": {
        "id": "9_fC3AH__vWg"
      },
      "source": [
        "df = pd.read_csv('mbti_1.csv')"
      ],
      "execution_count": null,
      "outputs": []
    },
    {
      "cell_type": "code",
      "metadata": {
        "colab": {
          "base_uri": "https://localhost:8080/"
        },
        "id": "ShuaSzX8FJgp",
        "outputId": "983710d3-974b-4d6a-f159-4b292393e4c0"
      },
      "source": [
        "df.shape"
      ],
      "execution_count": null,
      "outputs": [
        {
          "output_type": "execute_result",
          "data": {
            "text/plain": [
              "(8675, 2)"
            ]
          },
          "metadata": {
            "tags": []
          },
          "execution_count": 5
        }
      ]
    },
    {
      "cell_type": "code",
      "metadata": {
        "colab": {
          "base_uri": "https://localhost:8080/"
        },
        "id": "XTdsJVw9EKBR",
        "outputId": "0ea7a7fb-0746-429f-aa04-f3a8b6640cea"
      },
      "source": [
        "print(df.iloc[0,1])"
      ],
      "execution_count": null,
      "outputs": [
        {
          "output_type": "stream",
          "text": [
            "'http://www.youtube.com/watch?v=qsXHcwe3krw|||http://41.media.tumblr.com/tumblr_lfouy03PMA1qa1rooo1_500.jpg|||enfp and intj moments  https://www.youtube.com/watch?v=iz7lE1g4XM4  sportscenter not top ten plays  https://www.youtube.com/watch?v=uCdfze1etec  pranks|||What has been the most life-changing experience in your life?|||http://www.youtube.com/watch?v=vXZeYwwRDw8   http://www.youtube.com/watch?v=u8ejam5DP3E  On repeat for most of today.|||May the PerC Experience immerse you.|||The last thing my INFJ friend posted on his facebook before committing suicide the next day. Rest in peace~   http://vimeo.com/22842206|||Hello ENFJ7. Sorry to hear of your distress. It's only natural for a relationship to not be perfection all the time in every moment of existence. Try to figure the hard times as times of growth, as...|||84389  84390  http://wallpaperpassion.com/upload/23700/friendship-boy-and-girl-wallpaper.jpg  http://assets.dornob.com/wp-content/uploads/2010/04/round-home-design.jpg ...|||Welcome and stuff.|||http://playeressence.com/wp-content/uploads/2013/08/RED-red-the-pokemon-master-32560474-450-338.jpg  Game. Set. Match.|||Prozac, wellbrutin, at least thirty minutes of moving your legs (and I don't mean moving them while sitting in your same desk chair), weed in moderation (maybe try edibles as a healthier alternative...|||Basically come up with three items you've determined that each type (or whichever types you want to do) would more than likely use, given each types' cognitive functions and whatnot, when left by...|||All things in moderation.  Sims is indeed a video game, and a good one at that. Note: a good one at that is somewhat subjective in that I am not completely promoting the death of any given Sim...|||Dear ENFP:  What were your favorite video games growing up and what are your now, current favorite video games? :cool:|||https://www.youtube.com/watch?v=QyPqT8umzmY|||It appears to be too late. :sad:|||There's someone out there for everyone.|||Wait... I thought confidence was a good thing.|||I just cherish the time of solitude b/c i revel within my inner world more whereas most other time i'd be workin... just enjoy the me time while you can. Don't worry, people will always be around to...|||Yo entp ladies... if you're into a complimentary personality,well, hey.|||... when your main social outlet is xbox live conversations and even then you verbally fatigue quickly.|||http://www.youtube.com/watch?v=gDhy7rdfm14  I really dig the part from 1:46 to 2:50|||http://www.youtube.com/watch?v=msqXffgh7b8|||Banned because this thread requires it of me.|||Get high in backyard, roast and eat marshmellows in backyard while conversing over something intellectual, followed by massages and kisses.|||http://www.youtube.com/watch?v=Mw7eoU3BMbE|||http://www.youtube.com/watch?v=4V2uYORhQOk|||http://www.youtube.com/watch?v=SlVmgFQQ0TI|||Banned for too many b's in that sentence. How could you! Think of the B!|||Banned for watching movies in the corner with the dunces.|||Banned because Health class clearly taught you nothing about peer pressure.|||Banned for a whole host of reasons!|||http://www.youtube.com/watch?v=IRcrv41hgz4|||1) Two baby deer on left and right munching on a beetle in the middle.  2) Using their own blood, two cavemen diary today's latest happenings on their designated cave diary wall.  3) I see it as...|||a pokemon world  an infj society  everyone becomes an optimist|||49142|||http://www.youtube.com/watch?v=ZRCEq_JFeFM|||http://discovermagazine.com/2012/jul-aug/20-things-you-didnt-know-about-deserts/desert.jpg|||http://oyster.ignimgs.com/mediawiki/apis.ign.com/pokemon-silver-version/d/dd/Ditto.gif|||http://www.serebii.net/potw-dp/Scizor.jpg|||Not all artists are artists because they draw. It's the idea that counts in forming something of your own... like a signature.|||Welcome to the robot ranks, person who downed my self-esteem cuz I'm not an avid signature artist like herself. :proud:|||Banned for taking all the room under my bed. Ya gotta learn to share with the roaches.|||http://www.youtube.com/watch?v=w8IgImn57aQ|||Banned for being too much of a thundering, grumbling kind of storm... yep.|||Ahh... old high school music I haven't heard in ages.   http://www.youtube.com/watch?v=dcCRUPCdB1w|||I failed a public speaking class a few years ago and I've sort of learned what I could do better were I to be in that position again. A big part of my failure was just overloading myself with too...|||I like this person's mentality. He's a confirmed INTJ by the way. http://www.youtube.com/watch?v=hGKLI-GEc6M|||Move to the Denver area and start a new life for myself.'\n"
          ],
          "name": "stdout"
        }
      ]
    },
    {
      "cell_type": "code",
      "metadata": {
        "colab": {
          "base_uri": "https://localhost:8080/"
        },
        "id": "hn4GOZcnFBbR",
        "outputId": "f9dbd05f-0789-46bd-f574-165bd2e1a08a"
      },
      "source": [
        "df.isnull().sum()"
      ],
      "execution_count": null,
      "outputs": [
        {
          "output_type": "execute_result",
          "data": {
            "text/plain": [
              "type     0\n",
              "posts    0\n",
              "dtype: int64"
            ]
          },
          "metadata": {
            "tags": []
          },
          "execution_count": 7
        }
      ]
    },
    {
      "cell_type": "code",
      "metadata": {
        "colab": {
          "base_uri": "https://localhost:8080/"
        },
        "id": "aWxmyxKWFj1I",
        "outputId": "9331f220-2da7-4a6f-b45c-241cd7079973"
      },
      "source": [
        "df['type'].unique()"
      ],
      "execution_count": null,
      "outputs": [
        {
          "output_type": "execute_result",
          "data": {
            "text/plain": [
              "array(['INFJ', 'ENTP', 'INTP', 'INTJ', 'ENTJ', 'ENFJ', 'INFP', 'ENFP',\n",
              "       'ISFP', 'ISTP', 'ISFJ', 'ISTJ', 'ESTP', 'ESFP', 'ESTJ', 'ESFJ'],\n",
              "      dtype=object)"
            ]
          },
          "metadata": {
            "tags": []
          },
          "execution_count": 8
        }
      ]
    },
    {
      "cell_type": "code",
      "metadata": {
        "colab": {
          "base_uri": "https://localhost:8080/"
        },
        "id": "ro481CeFFuPZ",
        "outputId": "e569a50a-0e28-4460-ff29-cf8ce1cf514a"
      },
      "source": [
        "df['type'].value_counts()\n"
      ],
      "execution_count": null,
      "outputs": [
        {
          "output_type": "execute_result",
          "data": {
            "text/plain": [
              "INFP    1832\n",
              "INFJ    1470\n",
              "INTP    1304\n",
              "INTJ    1091\n",
              "ENTP     685\n",
              "ENFP     675\n",
              "ISTP     337\n",
              "ISFP     271\n",
              "ENTJ     231\n",
              "ISTJ     205\n",
              "ENFJ     190\n",
              "ISFJ     166\n",
              "ESTP      89\n",
              "ESFP      48\n",
              "ESFJ      42\n",
              "ESTJ      39\n",
              "Name: type, dtype: int64"
            ]
          },
          "metadata": {
            "tags": []
          },
          "execution_count": 9
        }
      ]
    },
    {
      "cell_type": "code",
      "metadata": {
        "colab": {
          "base_uri": "https://localhost:8080/",
          "height": 300
        },
        "id": "6eZ2CmoAFyrr",
        "outputId": "17444641-9703-4a0b-8d7d-ef08320bf41c"
      },
      "source": [
        "dims1 = (15.0, 4.0)\n",
        "fig, ax = plt.subplots(figsize=dims1)\n",
        "coolwarm = sns.color_palette(\"coolwarm\", 16)\n",
        "sns.set_palette(coolwarm)\n",
        "sns.countplot(x=\"type\", data=df, \\\n",
        "              order=[\"ENFJ\",\"ENFP\",\"ENTJ\",\"ENTP\",\"ESFJ\",\"ESFP\",\"ESTJ\",\"ESTP\",\\\n",
        "                     \"INFJ\",\"INFP\",\"INTJ\",\"INTP\",\"ISFJ\",\"ISFP\",\"ISTJ\",\"ISTP\"])\n",
        "plt.title(\"Distribution of Myers-Briggs Types in the Dataset\", fontsize=16)\n",
        "plt.xticks(fontsize=12)\n",
        "plt.yticks(fontsize=12);"
      ],
      "execution_count": null,
      "outputs": [
        {
          "output_type": "display_data",
          "data": {
            "image/png": "[encoded data removed]",
            "text/plain": [
              "<Figure size 1080x288 with 1 Axes>"
            ]
          },
          "metadata": {
            "tags": []
          }
        }
      ]
    },
    {
      "cell_type": "code",
      "metadata": {
        "colab": {
          "base_uri": "https://localhost:8080/"
        },
        "id": "jsIvpiEkGA54",
        "outputId": "ef66b18d-27a5-44ae-a153-e3ca750248ab"
      },
      "source": [
        "print('Introversion (I) – Extroversion (E)', '\\n', df['type'].map(lambda x: x[0]).value_counts(), '\\n')\n",
        "print('Intuition (N) – Sensing (S)', '\\n', df['type'].map(lambda x: x[1]).value_counts(), '\\n')\n",
        "print('Thinking (T) – Feeling (F)', '\\n', df['type'].map(lambda x: x[2]).value_counts(), '\\n')\n",
        "print('Judging (J) – Perceiving (P)', '\\n', df['type'].map(lambda x: x[3]).value_counts(), '\\n')"
      ],
      "execution_count": null,
      "outputs": [
        {
          "output_type": "stream",
          "text": [
            "Introversion (I) – Extroversion (E) \n",
            " I    6676\n",
            "E    1999\n",
            "Name: type, dtype: int64 \n",
            "\n",
            "Intuition (N) – Sensing (S) \n",
            " N    7478\n",
            "S    1197\n",
            "Name: type, dtype: int64 \n",
            "\n",
            "Thinking (T) – Feeling (F) \n",
            " F    4694\n",
            "T    3981\n",
            "Name: type, dtype: int64 \n",
            "\n",
            "Judging (J) – Perceiving (P) \n",
            " P    5241\n",
            "J    3434\n",
            "Name: type, dtype: int64 \n",
            "\n"
          ],
          "name": "stdout"
        }
      ]
    },
    {
      "cell_type": "markdown",
      "metadata": {
        "id": "I0XTDG4LH6F3"
      },
      "source": [
        "**Preprocessing**"
      ]
    },
    {
      "cell_type": "code",
      "metadata": {
        "colab": {
          "base_uri": "https://localhost:8080/",
          "height": 204
        },
        "id": "Fj9hQ4qfH8z_",
        "outputId": "70e7ee9d-f00c-4d04-fc59-7dc5b0194c6e"
      },
      "source": [
        "df_working = df.copy()\n",
        "df_working.head()"
      ],
      "execution_count": null,
      "outputs": [
        {
          "output_type": "execute_result",
          "data": {
            "text/html": [
              "<div>\n",
              "<style scoped>\n",
              "    .dataframe tbody tr th:only-of-type {\n",
              "        vertical-align: middle;\n",
              "    }\n",
              "\n",
              "    .dataframe tbody tr th {\n",
              "        vertical-align: top;\n",
              "    }\n",
              "\n",
              "    .dataframe thead th {\n",
              "        text-align: right;\n",
              "    }\n",
              "</style>\n",
              "<table border=\"1\" class=\"dataframe\">\n",
              "  <thead>\n",
              "    <tr style=\"text-align: right;\">\n",
              "      <th></th>\n",
              "      <th>type</th>\n",
              "      <th>posts</th>\n",
              "    </tr>\n",
              "  </thead>\n",
              "  <tbody>\n",
              "    <tr>\n",
              "      <th>0</th>\n",
              "      <td>INFJ</td>\n",
              "      <td>'http://www.youtube.com/watch?v=qsXHcwe3krw|||...</td>\n",
              "    </tr>\n",
              "    <tr>\n",
              "      <th>1</th>\n",
              "      <td>ENTP</td>\n",
              "      <td>'I'm finding the lack of me in these posts ver...</td>\n",
              "    </tr>\n",
              "    <tr>\n",
              "      <th>2</th>\n",
              "      <td>INTP</td>\n",
              "      <td>'Good one  _____   https://www.youtube.com/wat...</td>\n",
              "    </tr>\n",
              "    <tr>\n",
              "      <th>3</th>\n",
              "      <td>INTJ</td>\n",
              "      <td>'Dear INTP,   I enjoyed our conversation the o...</td>\n",
              "    </tr>\n",
              "    <tr>\n",
              "      <th>4</th>\n",
              "      <td>ENTJ</td>\n",
              "      <td>'You're fired.|||That's another silly misconce...</td>\n",
              "    </tr>\n",
              "  </tbody>\n",
              "</table>\n",
              "</div>"
            ],
            "text/plain": [
              "   type                                              posts\n",
              "0  INFJ  'http://www.youtube.com/watch?v=qsXHcwe3krw|||...\n",
              "1  ENTP  'I'm finding the lack of me in these posts ver...\n",
              "2  INTP  'Good one  _____   https://www.youtube.com/wat...\n",
              "3  INTJ  'Dear INTP,   I enjoyed our conversation the o...\n",
              "4  ENTJ  'You're fired.|||That's another silly misconce..."
            ]
          },
          "metadata": {
            "tags": []
          },
          "execution_count": 12
        }
      ]
    },
    {
      "cell_type": "code",
      "metadata": {
        "colab": {
          "base_uri": "https://localhost:8080/",
          "height": 204
        },
        "id": "rDt9P3X8IApZ",
        "outputId": "e52ccb1e-b7a9-41cc-ba5f-995b95b0fd7d"
      },
      "source": [
        "df_working['I-E'] = df_working['type'].map(lambda x: 'Introversion' if x[0] == 'I' else 'Extroversion')\n",
        "df_working['N-S'] = df_working['type'].map(lambda x: 'Intuition' if x[1] == 'N' else 'Sensing')\n",
        "df_working['T-F'] = df_working['type'].map(lambda x: 'Thinking' if x[2] == 'T' else 'Feeling')\n",
        "df_working['J-P'] = df_working['type'].map(lambda x: 'Judging' if x[3] == 'J' else 'Perceiving')\n",
        "\n",
        "df_working.head()"
      ],
      "execution_count": null,
      "outputs": [
        {
          "output_type": "execute_result",
          "data": {
            "text/html": [
              "<div>\n",
              "<style scoped>\n",
              "    .dataframe tbody tr th:only-of-type {\n",
              "        vertical-align: middle;\n",
              "    }\n",
              "\n",
              "    .dataframe tbody tr th {\n",
              "        vertical-align: top;\n",
              "    }\n",
              "\n",
              "    .dataframe thead th {\n",
              "        text-align: right;\n",
              "    }\n",
              "</style>\n",
              "<table border=\"1\" class=\"dataframe\">\n",
              "  <thead>\n",
              "    <tr style=\"text-align: right;\">\n",
              "      <th></th>\n",
              "      <th>type</th>\n",
              "      <th>posts</th>\n",
              "      <th>I-E</th>\n",
              "      <th>N-S</th>\n",
              "      <th>T-F</th>\n",
              "      <th>J-P</th>\n",
              "    </tr>\n",
              "  </thead>\n",
              "  <tbody>\n",
              "    <tr>\n",
              "      <th>0</th>\n",
              "      <td>INFJ</td>\n",
              "      <td>'http://www.youtube.com/watch?v=qsXHcwe3krw|||...</td>\n",
              "      <td>Introversion</td>\n",
              "      <td>Intuition</td>\n",
              "      <td>Feeling</td>\n",
              "      <td>Judging</td>\n",
              "    </tr>\n",
              "    <tr>\n",
              "      <th>1</th>\n",
              "      <td>ENTP</td>\n",
              "      <td>'I'm finding the lack of me in these posts ver...</td>\n",
              "      <td>Extroversion</td>\n",
              "      <td>Intuition</td>\n",
              "      <td>Thinking</td>\n",
              "      <td>Perceiving</td>\n",
              "    </tr>\n",
              "    <tr>\n",
              "      <th>2</th>\n",
              "      <td>INTP</td>\n",
              "      <td>'Good one  _____   https://www.youtube.com/wat...</td>\n",
              "      <td>Introversion</td>\n",
              "      <td>Intuition</td>\n",
              "      <td>Thinking</td>\n",
              "      <td>Perceiving</td>\n",
              "    </tr>\n",
              "    <tr>\n",
              "      <th>3</th>\n",
              "      <td>INTJ</td>\n",
              "      <td>'Dear INTP,   I enjoyed our conversation the o...</td>\n",
              "      <td>Introversion</td>\n",
              "      <td>Intuition</td>\n",
              "      <td>Thinking</td>\n",
              "      <td>Judging</td>\n",
              "    </tr>\n",
              "    <tr>\n",
              "      <th>4</th>\n",
              "      <td>ENTJ</td>\n",
              "      <td>'You're fired.|||That's another silly misconce...</td>\n",
              "      <td>Extroversion</td>\n",
              "      <td>Intuition</td>\n",
              "      <td>Thinking</td>\n",
              "      <td>Judging</td>\n",
              "    </tr>\n",
              "  </tbody>\n",
              "</table>\n",
              "</div>"
            ],
            "text/plain": [
              "   type  ...         J-P\n",
              "0  INFJ  ...     Judging\n",
              "1  ENTP  ...  Perceiving\n",
              "2  INTP  ...  Perceiving\n",
              "3  INTJ  ...     Judging\n",
              "4  ENTJ  ...     Judging\n",
              "\n",
              "[5 rows x 6 columns]"
            ]
          },
          "metadata": {
            "tags": []
          },
          "execution_count": 13
        }
      ]
    },
    {
      "cell_type": "code",
      "metadata": {
        "colab": {
          "base_uri": "https://localhost:8080/",
          "height": 300
        },
        "id": "qVIRrwrqAeHt",
        "outputId": "f7210355-7a23-42e5-b5aa-e46bbf088123"
      },
      "source": [
        "\n",
        "# Countplot of Introversion - Extroversion axis\n",
        "IEcolors = sns.xkcd_palette([\"red\", \"soft pink\"])\n",
        "sns.set_palette(IEcolors)\n",
        "sns.countplot(x=\"I-E\", data=df_working, order=[\"Introversion\", \"Extroversion\"])\n",
        "plt.title(\"Distribution of Introversion vs. Extroversion in the Dataset\", fontsize=16)\n",
        "plt.ylim(0, 8000)\n",
        "plt.xticks(fontsize=12)\n",
        "plt.yticks(fontsize=12);"
      ],
      "execution_count": null,
      "outputs": [
        {
          "output_type": "display_data",
          "data": {
            "image/png": "[encoded data removed]",
            "text/plain": [
              "<Figure size 432x288 with 1 Axes>"
            ]
          },
          "metadata": {
            "tags": []
          }
        }
      ]
    },
    {
      "cell_type": "code",
      "metadata": {
        "colab": {
          "base_uri": "https://localhost:8080/",
          "height": 300
        },
        "id": "ASKmnxydAhHO",
        "outputId": "9faf339c-f187-49f5-d917-07220c82f253"
      },
      "source": [
        "NScolors = sns.xkcd_palette([\"blue\", \"light blue\"])\n",
        "sns.set_palette(NScolors)\n",
        "sns.countplot(x=\"N-S\", data=df_working, order=[\"Intuition\", \"Sensing\"])\n",
        "plt.title(\"Distribution of Intuition vs. Sensing in the Dataset\", fontsize=16)\n",
        "plt.ylim(0, 8000)\n",
        "plt.xticks(fontsize=12)\n",
        "plt.yticks(fontsize=12);"
      ],
      "execution_count": null,
      "outputs": [
        {
          "output_type": "display_data",
          "data": {
            "image/png": "[encoded data removed]",
            "text/plain": [
              "<Figure size 432x288 with 1 Axes>"
            ]
          },
          "metadata": {
            "tags": []
          }
        }
      ]
    },
    {
      "cell_type": "code",
      "metadata": {
        "colab": {
          "base_uri": "https://localhost:8080/",
          "height": 300
        },
        "id": "kzOk6bp9Al0f",
        "outputId": "63b7f332-efb3-40b2-84b1-b339583fcdb8"
      },
      "source": [
        "TFcolors = sns.xkcd_palette([\"green\", \"pale green\"])\n",
        "sns.set_palette(TFcolors)\n",
        "sns.countplot(x=\"T-F\", data=df_working, order=[\"Thinking\", \"Feeling\"])\n",
        "plt.title(\"Distribution of Thinking vs. Feeling in the Dataset\", fontsize=16)\n",
        "plt.ylim(0, 8000)\n",
        "plt.xticks(fontsize=12)\n",
        "plt.yticks(fontsize=12);"
      ],
      "execution_count": null,
      "outputs": [
        {
          "output_type": "display_data",
          "data": {
            "image/png": "[encoded data removed]",
            "text/plain": [
              "<Figure size 432x288 with 1 Axes>"
            ]
          },
          "metadata": {
            "tags": []
          }
        }
      ]
    },
    {
      "cell_type": "code",
      "metadata": {
        "colab": {
          "base_uri": "https://localhost:8080/",
          "height": 300
        },
        "id": "n2Woq_r-AnzZ",
        "outputId": "0c72c388-f0ae-4be7-e66d-dedbb4692ed4"
      },
      "source": [
        "JPcolors = sns.xkcd_palette([\"purple\", \"lavender\"])\n",
        "sns.set_palette(JPcolors)\n",
        "sns.countplot(x=\"J-P\", data=df_working, order=[\"Judging\", \"Perceiving\"])\n",
        "plt.title(\"Distribution of Judging vs. Perceiving in the Dataset\", fontsize=16)\n",
        "plt.ylim(0, 8000)\n",
        "plt.xticks(fontsize=12)\n",
        "plt.yticks(fontsize=12);"
      ],
      "execution_count": null,
      "outputs": [
        {
          "output_type": "display_data",
          "data": {
            "image/png": "[encoded data removed]",
            "text/plain": [
              "<Figure size 432x288 with 1 Axes>"
            ]
          },
          "metadata": {
            "tags": []
          }
        }
      ]
    },
    {
      "cell_type": "code",
      "metadata": {
        "colab": {
          "base_uri": "https://localhost:8080/"
        },
        "id": "PTNR-olTAqqX",
        "outputId": "614c6ee3-e0da-4a59-a40c-a494c1d2af16"
      },
      "source": [
        "posts = df_working['posts'].copy()\n",
        "posts = posts.apply(lambda x: x.replace('|||', ' ')) # replaces post separators with empty space\n",
        "posts.head()"
      ],
      "execution_count": null,
      "outputs": [
        {
          "output_type": "execute_result",
          "data": {
            "text/plain": [
              "0    'http://www.youtube.com/watch?v=qsXHcwe3krw ht...\n",
              "1    'I'm finding the lack of me in these posts ver...\n",
              "2    'Good one  _____   https://www.youtube.com/wat...\n",
              "3    'Dear INTP,   I enjoyed our conversation the o...\n",
              "4    'You're fired. That's another silly misconcept...\n",
              "Name: posts, dtype: object"
            ]
          },
          "metadata": {
            "tags": []
          },
          "execution_count": 18
        }
      ]
    },
    {
      "cell_type": "code",
      "metadata": {
        "colab": {
          "base_uri": "https://localhost:8080/"
        },
        "id": "so0helKcDwIC",
        "outputId": "7a796d3a-5bcd-4708-c0a6-c51eb7c413f6"
      },
      "source": [
        "from nltk.corpus import stopwords\n",
        "import nltk\n",
        "nltk.download('stopwords')\n",
        "nltk.download('wordnet')"
      ],
      "execution_count": null,
      "outputs": [
        {
          "output_type": "stream",
          "text": [
            "[nltk_data] Downloading package stopwords to /root/nltk_data...\n",
            "[nltk_data]   Unzipping corpora/stopwords.zip.\n",
            "[nltk_data] Downloading package wordnet to /root/nltk_data...\n",
            "[nltk_data]   Unzipping corpora/wordnet.zip.\n"
          ],
          "name": "stdout"
        },
        {
          "output_type": "execute_result",
          "data": {
            "text/plain": [
              "True"
            ]
          },
          "metadata": {
            "tags": []
          },
          "execution_count": 19
        }
      ]
    },
    {
      "cell_type": "code",
      "metadata": {
        "colab": {
          "base_uri": "https://localhost:8080/"
        },
        "id": "t-undaggA0Ux",
        "outputId": "13ee66fb-73ed-4e7e-ae13-9a2e81828aa5"
      },
      "source": [
        "types = ['infj', 'entp', 'intp', 'intj', 'entj', 'enfj', 'infp', 'enfp', 'isfp',\n",
        "         'istp', 'isfj', 'istj', 'estp', 'esfp', 'estj', 'esfj']\n",
        "stop = stopwords.words('english')\n",
        "\n",
        "for type in types:\n",
        "    stop.append(type)\n",
        "stop.append(\"url\")\n",
        "stop_rev = stop    \n",
        "print(stop_rev)"
      ],
      "execution_count": null,
      "outputs": [
        {
          "output_type": "stream",
          "text": [
            "['i', 'me', 'my', 'myself', 'we', 'our', 'ours', 'ourselves', 'you', \"you're\", \"you've\", \"you'll\", \"you'd\", 'your', 'yours', 'yourself', 'yourselves', 'he', 'him', 'his', 'himself', 'she', \"she's\", 'her', 'hers', 'herself', 'it', \"it's\", 'its', 'itself', 'they', 'them', 'their', 'theirs', 'themselves', 'what', 'which', 'who', 'whom', 'this', 'that', \"that'll\", 'these', 'those', 'am', 'is', 'are', 'was', 'were', 'be', 'been', 'being', 'have', 'has', 'had', 'having', 'do', 'does', 'did', 'doing', 'a', 'an', 'the', 'and', 'but', 'if', 'or', 'because', 'as', 'until', 'while', 'of', 'at', 'by', 'for', 'with', 'about', 'against', 'between', 'into', 'through', 'during', 'before', 'after', 'above', 'below', 'to', 'from', 'up', 'down', 'in', 'out', 'on', 'off', 'over', 'under', 'again', 'further', 'then', 'once', 'here', 'there', 'when', 'where', 'why', 'how', 'all', 'any', 'both', 'each', 'few', 'more', 'most', 'other', 'some', 'such', 'no', 'nor', 'not', 'only', 'own', 'same', 'so', 'than', 'too', 'very', 's', 't', 'can', 'will', 'just', 'don', \"don't\", 'should', \"should've\", 'now', 'd', 'll', 'm', 'o', 're', 've', 'y', 'ain', 'aren', \"aren't\", 'couldn', \"couldn't\", 'didn', \"didn't\", 'doesn', \"doesn't\", 'hadn', \"hadn't\", 'hasn', \"hasn't\", 'haven', \"haven't\", 'isn', \"isn't\", 'ma', 'mightn', \"mightn't\", 'mustn', \"mustn't\", 'needn', \"needn't\", 'shan', \"shan't\", 'shouldn', \"shouldn't\", 'wasn', \"wasn't\", 'weren', \"weren't\", 'won', \"won't\", 'wouldn', \"wouldn't\", 'infj', 'entp', 'intp', 'intj', 'entj', 'enfj', 'infp', 'enfp', 'isfp', 'istp', 'isfj', 'istj', 'estp', 'esfp', 'estj', 'esfj', 'url']\n"
          ],
          "name": "stdout"
        }
      ]
    },
    {
      "cell_type": "code",
      "metadata": {
        "id": "SxjuLmMXG6Eq"
      },
      "source": [
        "def cleaner(text):\n",
        "    stemmer=PorterStemmer()                                      \n",
        "    text = text.replace('|||', ' ')                                  \n",
        "    text = re.sub(r'\\bhttps?:\\/\\/.*?[\\r\\n]*? ', 'URL ', text, flags=re.MULTILINE)  \n",
        "    text = text.translate(str.maketrans('', '', string.punctuation))\n",
        "    text = text.translate(str.maketrans('', '', string.digits))      \n",
        "    text = text.lower().strip()                                      \n",
        "    final_text = []\n",
        "    for w in text.split():\n",
        "        if w not in stop:\n",
        "            final_text.append(stemmer.stem(w.strip()))\n",
        "    return ' '.join(final_text)"
      ],
      "execution_count": null,
      "outputs": []
    },
    {
      "cell_type": "code",
      "metadata": {
        "colab": {
          "base_uri": "https://localhost:8080/",
          "height": 137
        },
        "id": "09sV4POcF5b0",
        "outputId": "6265a468-3a66-42b3-d21d-9ba971d88723"
      },
      "source": [
        "df.posts.iloc[0]"
      ],
      "execution_count": null,
      "outputs": [
        {
          "output_type": "execute_result",
          "data": {
            "application/vnd.google.colaboratory.intrinsic+json": {
              "type": "string"
            },
            "text/plain": [
              "\"'http://www.youtube.com/watch?v=qsXHcwe3krw|||http://41.media.tumblr.com/tumblr_lfouy03PMA1qa1rooo1_500.jpg|||enfp and intj moments  https://www.youtube.com/watch?v=iz7lE1g4XM4  sportscenter not top ten plays  https://www.youtube.com/watch?v=uCdfze1etec  pranks|||What has been the most life-changing experience in your life?|||http://www.youtube.com/watch?v=vXZeYwwRDw8   http://www.youtube.com/watch?v=u8ejam5DP3E  On repeat for most of today.|||May the PerC Experience immerse you.|||The last thing my INFJ friend posted on his facebook before committing suicide the next day. Rest in peace~   http://vimeo.com/22842206|||Hello ENFJ7. Sorry to hear of your distress. It's only natural for a relationship to not be perfection all the time in every moment of existence. Try to figure the hard times as times of growth, as...|||84389  84390  http://wallpaperpassion.com/upload/23700/friendship-boy-and-girl-wallpaper.jpg  http://assets.dornob.com/wp-content/uploads/2010/04/round-home-design.jpg ...|||Welcome and stuff.|||http://playeressence.com/wp-content/uploads/2013/08/RED-red-the-pokemon-master-32560474-450-338.jpg  Game. Set. Match.|||Prozac, wellbrutin, at least thirty minutes of moving your legs (and I don't mean moving them while sitting in your same desk chair), weed in moderation (maybe try edibles as a healthier alternative...|||Basically come up with three items you've determined that each type (or whichever types you want to do) would more than likely use, given each types' cognitive functions and whatnot, when left by...|||All things in moderation.  Sims is indeed a video game, and a good one at that. Note: a good one at that is somewhat subjective in that I am not completely promoting the death of any given Sim...|||Dear ENFP:  What were your favorite video games growing up and what are your now, current favorite video games? :cool:|||https://www.youtube.com/watch?v=QyPqT8umzmY|||It appears to be too late. :sad:|||There's someone out there for everyone.|||Wait... I thought confidence was a good thing.|||I just cherish the time of solitude b/c i revel within my inner world more whereas most other time i'd be workin... just enjoy the me time while you can. Don't worry, people will always be around to...|||Yo entp ladies... if you're into a complimentary personality,well, hey.|||... when your main social outlet is xbox live conversations and even then you verbally fatigue quickly.|||http://www.youtube.com/watch?v=gDhy7rdfm14  I really dig the part from 1:46 to 2:50|||http://www.youtube.com/watch?v=msqXffgh7b8|||Banned because this thread requires it of me.|||Get high in backyard, roast and eat marshmellows in backyard while conversing over something intellectual, followed by massages and kisses.|||http://www.youtube.com/watch?v=Mw7eoU3BMbE|||http://www.youtube.com/watch?v=4V2uYORhQOk|||http://www.youtube.com/watch?v=SlVmgFQQ0TI|||Banned for too many b's in that sentence. How could you! Think of the B!|||Banned for watching movies in the corner with the dunces.|||Banned because Health class clearly taught you nothing about peer pressure.|||Banned for a whole host of reasons!|||http://www.youtube.com/watch?v=IRcrv41hgz4|||1) Two baby deer on left and right munching on a beetle in the middle.  2) Using their own blood, two cavemen diary today's latest happenings on their designated cave diary wall.  3) I see it as...|||a pokemon world  an infj society  everyone becomes an optimist|||49142|||http://www.youtube.com/watch?v=ZRCEq_JFeFM|||http://discovermagazine.com/2012/jul-aug/20-things-you-didnt-know-about-deserts/desert.jpg|||http://oyster.ignimgs.com/mediawiki/apis.ign.com/pokemon-silver-version/d/dd/Ditto.gif|||http://www.serebii.net/potw-dp/Scizor.jpg|||Not all artists are artists because they draw. It's the idea that counts in forming something of your own... like a signature.|||Welcome to the robot ranks, person who downed my self-esteem cuz I'm not an avid signature artist like herself. :proud:|||Banned for taking all the room under my bed. Ya gotta learn to share with the roaches.|||http://www.youtube.com/watch?v=w8IgImn57aQ|||Banned for being too much of a thundering, grumbling kind of storm... yep.|||Ahh... old high school music I haven't heard in ages.   http://www.youtube.com/watch?v=dcCRUPCdB1w|||I failed a public speaking class a few years ago and I've sort of learned what I could do better were I to be in that position again. A big part of my failure was just overloading myself with too...|||I like this person's mentality. He's a confirmed INTJ by the way. http://www.youtube.com/watch?v=hGKLI-GEc6M|||Move to the Denver area and start a new life for myself.'\""
            ]
          },
          "metadata": {
            "tags": []
          },
          "execution_count": 22
        }
      ]
    },
    {
      "cell_type": "code",
      "metadata": {
        "colab": {
          "base_uri": "https://localhost:8080/",
          "height": 137
        },
        "id": "RGaywcKRHohZ",
        "outputId": "f09ee007-31ba-45d9-fb54-2227fd6b6e8a"
      },
      "source": [
        "cleaner(df.posts.iloc[0])"
      ],
      "execution_count": null,
      "outputs": [
        {
          "output_type": "execute_result",
          "data": {
            "application/vnd.google.colaboratory.intrinsic+json": {
              "type": "string"
            },
            "text/plain": [
              "'moment sportscent top ten play prank lifechang experi life repeat today may perc experi immers last thing friend post facebook commit suicid next day rest peac hello sorri hear distress natur relationship perfect time everi moment exist tri figur hard time time growth welcom stuff game set match prozac wellbrutin least thirti minut move leg dont mean move sit desk chair weed moder mayb tri edibl healthier altern basic come three item youv determin type whichev type want would like use given type cognit function whatnot left thing moder sim inde video game good one note good one somewhat subject complet promot death given sim dear favorit video game grow current favorit video game cool appear late sad there someon everyon wait thought confid good thing cherish time solitud bc revel within inner world wherea time id workin enjoy time dont worri peopl alway around yo ladi your complimentari personalitywel hey main social outlet xbox live convers even verbal fatigu quickli realli dig part ban thread requir get high backyard roast eat marshmellow backyard convers someth intellectu follow massag kiss ban mani bs sentenc could think b ban watch movi corner dunc ban health class clearli taught noth peer pressur ban whole host reason two babi deer left right munch beetl middl use blood two cavemen diari today latest happen design cave diari wall see pokemon world societi everyon becom optimist artist artist draw idea count form someth like signatur welcom robot rank person down selfesteem cuz im avid signatur artist like proud ban take room bed ya gotta learn share roach ban much thunder grumbl kind storm yep ahh old high school music havent heard age fail public speak class year ago ive sort learn could better posit big part failur overload like person mental he confirm way move denver area start new life'"
            ]
          },
          "metadata": {
            "tags": []
          },
          "execution_count": 23
        }
      ]
    },
    {
      "cell_type": "code",
      "metadata": {
        "colab": {
          "base_uri": "https://localhost:8080/",
          "height": 304
        },
        "id": "Ki8hICcCIMdB",
        "outputId": "bac49544-d403-4971-e4af-3b11521918cd"
      },
      "source": [
        "from sklearn.feature_extraction.text import TfidfVectorizer\n",
        "cv = TfidfVectorizer(preprocessor=cleaner, stop_words=stop_rev, ngram_range=(1,2), max_features=1000)\n",
        "cv.fit_transform(posts)\n",
        "\n",
        "cv.transform(posts).todense()\n",
        "df_posts = pd.DataFrame(cv.transform(posts).todense(), \n",
        "             columns=cv.get_feature_names())\n",
        "df_posts.head()\n"
      ],
      "execution_count": null,
      "outputs": [
        {
          "output_type": "stream",
          "text": [
            "/usr/local/lib/python3.7/dist-packages/sklearn/feature_extraction/text.py:385: UserWarning: Your stop_words may be inconsistent with your preprocessing. Tokenizing the stop words generated tokens ['arent', 'couldnt', 'didnt', 'doesnt', 'dont', 'hadnt', 'hasnt', 'havent', 'isnt', 'mightnt', 'mustnt', 'neednt', 'shant', 'shouldnt', 'shouldv', 'thatll', 'wasnt', 'werent', 'wont', 'wouldnt', 'youd', 'youll', 'youv'] not in stop_words.\n",
            "  'stop_words.' % sorted(inconsistent))\n"
          ],
          "name": "stderr"
        },
        {
          "output_type": "execute_result",
          "data": {
            "text/html": [
              "<div>\n",
              "<style scoped>\n",
              "    .dataframe tbody tr th:only-of-type {\n",
              "        vertical-align: middle;\n",
              "    }\n",
              "\n",
              "    .dataframe tbody tr th {\n",
              "        vertical-align: top;\n",
              "    }\n",
              "\n",
              "    .dataframe thead th {\n",
              "        text-align: right;\n",
              "    }\n",
              "</style>\n",
              "<table border=\"1\" class=\"dataframe\">\n",
              "  <thead>\n",
              "    <tr style=\"text-align: right;\">\n",
              "      <th></th>\n",
              "      <th>abil</th>\n",
              "      <th>abl</th>\n",
              "      <th>absolut</th>\n",
              "      <th>accept</th>\n",
              "      <th>account</th>\n",
              "      <th>accur</th>\n",
              "      <th>across</th>\n",
              "      <th>act</th>\n",
              "      <th>action</th>\n",
              "      <th>activ</th>\n",
              "      <th>actual</th>\n",
              "      <th>add</th>\n",
              "      <th>admit</th>\n",
              "      <th>advic</th>\n",
              "      <th>affect</th>\n",
              "      <th>afraid</th>\n",
              "      <th>age</th>\n",
              "      <th>ago</th>\n",
              "      <th>agre</th>\n",
              "      <th>ah</th>\n",
              "      <th>allow</th>\n",
              "      <th>almost</th>\n",
              "      <th>alon</th>\n",
              "      <th>along</th>\n",
              "      <th>alreadi</th>\n",
              "      <th>also</th>\n",
              "      <th>although</th>\n",
              "      <th>alway</th>\n",
              "      <th>amaz</th>\n",
              "      <th>amount</th>\n",
              "      <th>angri</th>\n",
              "      <th>anim</th>\n",
              "      <th>annoy</th>\n",
              "      <th>anoth</th>\n",
              "      <th>answer</th>\n",
              "      <th>answer question</th>\n",
              "      <th>anxieti</th>\n",
              "      <th>anymor</th>\n",
              "      <th>anyon</th>\n",
              "      <th>anyon els</th>\n",
              "      <th>...</th>\n",
              "      <th>win</th>\n",
              "      <th>wink</th>\n",
              "      <th>wish</th>\n",
              "      <th>within</th>\n",
              "      <th>without</th>\n",
              "      <th>woman</th>\n",
              "      <th>women</th>\n",
              "      <th>wonder</th>\n",
              "      <th>wont</th>\n",
              "      <th>word</th>\n",
              "      <th>work</th>\n",
              "      <th>world</th>\n",
              "      <th>worri</th>\n",
              "      <th>wors</th>\n",
              "      <th>worst</th>\n",
              "      <th>worth</th>\n",
              "      <th>would</th>\n",
              "      <th>would like</th>\n",
              "      <th>would say</th>\n",
              "      <th>wouldnt</th>\n",
              "      <th>wow</th>\n",
              "      <th>write</th>\n",
              "      <th>written</th>\n",
              "      <th>wrong</th>\n",
              "      <th>wrote</th>\n",
              "      <th>xd</th>\n",
              "      <th>ye</th>\n",
              "      <th>yeah</th>\n",
              "      <th>year</th>\n",
              "      <th>year ago</th>\n",
              "      <th>year old</th>\n",
              "      <th>yep</th>\n",
              "      <th>yesterday</th>\n",
              "      <th>yet</th>\n",
              "      <th>youd</th>\n",
              "      <th>youll</th>\n",
              "      <th>young</th>\n",
              "      <th>younger</th>\n",
              "      <th>youtub</th>\n",
              "      <th>youv</th>\n",
              "    </tr>\n",
              "  </thead>\n",
              "  <tbody>\n",
              "    <tr>\n",
              "      <th>0</th>\n",
              "      <td>0.000000</td>\n",
              "      <td>0.000000</td>\n",
              "      <td>0.000000</td>\n",
              "      <td>0.000000</td>\n",
              "      <td>0.0</td>\n",
              "      <td>0.000000</td>\n",
              "      <td>0.0</td>\n",
              "      <td>0.0</td>\n",
              "      <td>0.000000</td>\n",
              "      <td>0.0</td>\n",
              "      <td>0.000000</td>\n",
              "      <td>0.0</td>\n",
              "      <td>0.000000</td>\n",
              "      <td>0.000000</td>\n",
              "      <td>0.0</td>\n",
              "      <td>0.0</td>\n",
              "      <td>0.065257</td>\n",
              "      <td>0.055776</td>\n",
              "      <td>0.000000</td>\n",
              "      <td>0.0</td>\n",
              "      <td>0.0</td>\n",
              "      <td>0.00000</td>\n",
              "      <td>0.000000</td>\n",
              "      <td>0.0</td>\n",
              "      <td>0.000000</td>\n",
              "      <td>0.000000</td>\n",
              "      <td>0.0</td>\n",
              "      <td>0.034277</td>\n",
              "      <td>0.000000</td>\n",
              "      <td>0.0</td>\n",
              "      <td>0.000000</td>\n",
              "      <td>0.000000</td>\n",
              "      <td>0.000000</td>\n",
              "      <td>0.000000</td>\n",
              "      <td>0.000000</td>\n",
              "      <td>0.0</td>\n",
              "      <td>0.0</td>\n",
              "      <td>0.0</td>\n",
              "      <td>0.0</td>\n",
              "      <td>0.0</td>\n",
              "      <td>...</td>\n",
              "      <td>0.0</td>\n",
              "      <td>0.0</td>\n",
              "      <td>0.000000</td>\n",
              "      <td>0.082461</td>\n",
              "      <td>0.00000</td>\n",
              "      <td>0.000000</td>\n",
              "      <td>0.000000</td>\n",
              "      <td>0.00000</td>\n",
              "      <td>0.000000</td>\n",
              "      <td>0.000000</td>\n",
              "      <td>0.000000</td>\n",
              "      <td>0.088824</td>\n",
              "      <td>0.067600</td>\n",
              "      <td>0.0</td>\n",
              "      <td>0.000000</td>\n",
              "      <td>0.00000</td>\n",
              "      <td>0.029328</td>\n",
              "      <td>0.072676</td>\n",
              "      <td>0.000000</td>\n",
              "      <td>0.000000</td>\n",
              "      <td>0.000000</td>\n",
              "      <td>0.000000</td>\n",
              "      <td>0.000000</td>\n",
              "      <td>0.000000</td>\n",
              "      <td>0.0</td>\n",
              "      <td>0.000000</td>\n",
              "      <td>0.000000</td>\n",
              "      <td>0.000000</td>\n",
              "      <td>0.037492</td>\n",
              "      <td>0.075113</td>\n",
              "      <td>0.000000</td>\n",
              "      <td>0.091883</td>\n",
              "      <td>0.0</td>\n",
              "      <td>0.0</td>\n",
              "      <td>0.0</td>\n",
              "      <td>0.000000</td>\n",
              "      <td>0.0</td>\n",
              "      <td>0.0</td>\n",
              "      <td>0.0</td>\n",
              "      <td>0.066060</td>\n",
              "    </tr>\n",
              "    <tr>\n",
              "      <th>1</th>\n",
              "      <td>0.000000</td>\n",
              "      <td>0.035780</td>\n",
              "      <td>0.000000</td>\n",
              "      <td>0.000000</td>\n",
              "      <td>0.0</td>\n",
              "      <td>0.000000</td>\n",
              "      <td>0.0</td>\n",
              "      <td>0.0</td>\n",
              "      <td>0.000000</td>\n",
              "      <td>0.0</td>\n",
              "      <td>0.000000</td>\n",
              "      <td>0.0</td>\n",
              "      <td>0.052075</td>\n",
              "      <td>0.041318</td>\n",
              "      <td>0.0</td>\n",
              "      <td>0.0</td>\n",
              "      <td>0.000000</td>\n",
              "      <td>0.000000</td>\n",
              "      <td>0.000000</td>\n",
              "      <td>0.0</td>\n",
              "      <td>0.0</td>\n",
              "      <td>0.00000</td>\n",
              "      <td>0.000000</td>\n",
              "      <td>0.0</td>\n",
              "      <td>0.034615</td>\n",
              "      <td>0.062900</td>\n",
              "      <td>0.0</td>\n",
              "      <td>0.042963</td>\n",
              "      <td>0.000000</td>\n",
              "      <td>0.0</td>\n",
              "      <td>0.000000</td>\n",
              "      <td>0.044165</td>\n",
              "      <td>0.000000</td>\n",
              "      <td>0.000000</td>\n",
              "      <td>0.000000</td>\n",
              "      <td>0.0</td>\n",
              "      <td>0.0</td>\n",
              "      <td>0.0</td>\n",
              "      <td>0.0</td>\n",
              "      <td>0.0</td>\n",
              "      <td>...</td>\n",
              "      <td>0.0</td>\n",
              "      <td>0.0</td>\n",
              "      <td>0.000000</td>\n",
              "      <td>0.000000</td>\n",
              "      <td>0.00000</td>\n",
              "      <td>0.000000</td>\n",
              "      <td>0.000000</td>\n",
              "      <td>0.00000</td>\n",
              "      <td>0.038363</td>\n",
              "      <td>0.030008</td>\n",
              "      <td>0.065598</td>\n",
              "      <td>0.000000</td>\n",
              "      <td>0.000000</td>\n",
              "      <td>0.0</td>\n",
              "      <td>0.052153</td>\n",
              "      <td>0.00000</td>\n",
              "      <td>0.073520</td>\n",
              "      <td>0.000000</td>\n",
              "      <td>0.000000</td>\n",
              "      <td>0.033959</td>\n",
              "      <td>0.000000</td>\n",
              "      <td>0.000000</td>\n",
              "      <td>0.000000</td>\n",
              "      <td>0.000000</td>\n",
              "      <td>0.0</td>\n",
              "      <td>0.000000</td>\n",
              "      <td>0.000000</td>\n",
              "      <td>0.000000</td>\n",
              "      <td>0.023496</td>\n",
              "      <td>0.000000</td>\n",
              "      <td>0.000000</td>\n",
              "      <td>0.000000</td>\n",
              "      <td>0.0</td>\n",
              "      <td>0.0</td>\n",
              "      <td>0.0</td>\n",
              "      <td>0.000000</td>\n",
              "      <td>0.0</td>\n",
              "      <td>0.0</td>\n",
              "      <td>0.0</td>\n",
              "      <td>0.000000</td>\n",
              "    </tr>\n",
              "    <tr>\n",
              "      <th>2</th>\n",
              "      <td>0.134089</td>\n",
              "      <td>0.048485</td>\n",
              "      <td>0.108886</td>\n",
              "      <td>0.000000</td>\n",
              "      <td>0.0</td>\n",
              "      <td>0.067243</td>\n",
              "      <td>0.0</td>\n",
              "      <td>0.0</td>\n",
              "      <td>0.000000</td>\n",
              "      <td>0.0</td>\n",
              "      <td>0.061743</td>\n",
              "      <td>0.0</td>\n",
              "      <td>0.000000</td>\n",
              "      <td>0.000000</td>\n",
              "      <td>0.0</td>\n",
              "      <td>0.0</td>\n",
              "      <td>0.000000</td>\n",
              "      <td>0.000000</td>\n",
              "      <td>0.000000</td>\n",
              "      <td>0.0</td>\n",
              "      <td>0.0</td>\n",
              "      <td>0.00000</td>\n",
              "      <td>0.000000</td>\n",
              "      <td>0.0</td>\n",
              "      <td>0.046905</td>\n",
              "      <td>0.000000</td>\n",
              "      <td>0.0</td>\n",
              "      <td>0.087327</td>\n",
              "      <td>0.061394</td>\n",
              "      <td>0.0</td>\n",
              "      <td>0.066902</td>\n",
              "      <td>0.059846</td>\n",
              "      <td>0.000000</td>\n",
              "      <td>0.000000</td>\n",
              "      <td>0.000000</td>\n",
              "      <td>0.0</td>\n",
              "      <td>0.0</td>\n",
              "      <td>0.0</td>\n",
              "      <td>0.0</td>\n",
              "      <td>0.0</td>\n",
              "      <td>...</td>\n",
              "      <td>0.0</td>\n",
              "      <td>0.0</td>\n",
              "      <td>0.048938</td>\n",
              "      <td>0.000000</td>\n",
              "      <td>0.00000</td>\n",
              "      <td>0.000000</td>\n",
              "      <td>0.058983</td>\n",
              "      <td>0.04291</td>\n",
              "      <td>0.000000</td>\n",
              "      <td>0.081327</td>\n",
              "      <td>0.118519</td>\n",
              "      <td>0.037716</td>\n",
              "      <td>0.000000</td>\n",
              "      <td>0.0</td>\n",
              "      <td>0.000000</td>\n",
              "      <td>0.00000</td>\n",
              "      <td>0.049812</td>\n",
              "      <td>0.000000</td>\n",
              "      <td>0.000000</td>\n",
              "      <td>0.046017</td>\n",
              "      <td>0.000000</td>\n",
              "      <td>0.045845</td>\n",
              "      <td>0.000000</td>\n",
              "      <td>0.000000</td>\n",
              "      <td>0.0</td>\n",
              "      <td>0.000000</td>\n",
              "      <td>0.033160</td>\n",
              "      <td>0.000000</td>\n",
              "      <td>0.127357</td>\n",
              "      <td>0.000000</td>\n",
              "      <td>0.000000</td>\n",
              "      <td>0.000000</td>\n",
              "      <td>0.0</td>\n",
              "      <td>0.0</td>\n",
              "      <td>0.0</td>\n",
              "      <td>0.000000</td>\n",
              "      <td>0.0</td>\n",
              "      <td>0.0</td>\n",
              "      <td>0.0</td>\n",
              "      <td>0.000000</td>\n",
              "    </tr>\n",
              "    <tr>\n",
              "      <th>3</th>\n",
              "      <td>0.000000</td>\n",
              "      <td>0.068667</td>\n",
              "      <td>0.038552</td>\n",
              "      <td>0.041127</td>\n",
              "      <td>0.0</td>\n",
              "      <td>0.000000</td>\n",
              "      <td>0.0</td>\n",
              "      <td>0.0</td>\n",
              "      <td>0.090761</td>\n",
              "      <td>0.0</td>\n",
              "      <td>0.065583</td>\n",
              "      <td>0.0</td>\n",
              "      <td>0.000000</td>\n",
              "      <td>0.000000</td>\n",
              "      <td>0.0</td>\n",
              "      <td>0.0</td>\n",
              "      <td>0.000000</td>\n",
              "      <td>0.000000</td>\n",
              "      <td>0.027085</td>\n",
              "      <td>0.0</td>\n",
              "      <td>0.0</td>\n",
              "      <td>0.03252</td>\n",
              "      <td>0.035136</td>\n",
              "      <td>0.0</td>\n",
              "      <td>0.066430</td>\n",
              "      <td>0.080474</td>\n",
              "      <td>0.0</td>\n",
              "      <td>0.000000</td>\n",
              "      <td>0.000000</td>\n",
              "      <td>0.0</td>\n",
              "      <td>0.000000</td>\n",
              "      <td>0.000000</td>\n",
              "      <td>0.039972</td>\n",
              "      <td>0.028698</td>\n",
              "      <td>0.030421</td>\n",
              "      <td>0.0</td>\n",
              "      <td>0.0</td>\n",
              "      <td>0.0</td>\n",
              "      <td>0.0</td>\n",
              "      <td>0.0</td>\n",
              "      <td>...</td>\n",
              "      <td>0.0</td>\n",
              "      <td>0.0</td>\n",
              "      <td>0.034654</td>\n",
              "      <td>0.000000</td>\n",
              "      <td>0.00000</td>\n",
              "      <td>0.000000</td>\n",
              "      <td>0.000000</td>\n",
              "      <td>0.00000</td>\n",
              "      <td>0.000000</td>\n",
              "      <td>0.000000</td>\n",
              "      <td>0.020981</td>\n",
              "      <td>0.000000</td>\n",
              "      <td>0.040652</td>\n",
              "      <td>0.0</td>\n",
              "      <td>0.000000</td>\n",
              "      <td>0.00000</td>\n",
              "      <td>0.070547</td>\n",
              "      <td>0.000000</td>\n",
              "      <td>0.044217</td>\n",
              "      <td>0.000000</td>\n",
              "      <td>0.121705</td>\n",
              "      <td>0.000000</td>\n",
              "      <td>0.000000</td>\n",
              "      <td>0.000000</td>\n",
              "      <td>0.0</td>\n",
              "      <td>0.000000</td>\n",
              "      <td>0.000000</td>\n",
              "      <td>0.028372</td>\n",
              "      <td>0.000000</td>\n",
              "      <td>0.000000</td>\n",
              "      <td>0.000000</td>\n",
              "      <td>0.000000</td>\n",
              "      <td>0.0</td>\n",
              "      <td>0.0</td>\n",
              "      <td>0.0</td>\n",
              "      <td>0.044659</td>\n",
              "      <td>0.0</td>\n",
              "      <td>0.0</td>\n",
              "      <td>0.0</td>\n",
              "      <td>0.079451</td>\n",
              "    </tr>\n",
              "    <tr>\n",
              "      <th>4</th>\n",
              "      <td>0.000000</td>\n",
              "      <td>0.000000</td>\n",
              "      <td>0.000000</td>\n",
              "      <td>0.000000</td>\n",
              "      <td>0.0</td>\n",
              "      <td>0.000000</td>\n",
              "      <td>0.0</td>\n",
              "      <td>0.0</td>\n",
              "      <td>0.000000</td>\n",
              "      <td>0.0</td>\n",
              "      <td>0.024555</td>\n",
              "      <td>0.0</td>\n",
              "      <td>0.000000</td>\n",
              "      <td>0.000000</td>\n",
              "      <td>0.0</td>\n",
              "      <td>0.0</td>\n",
              "      <td>0.000000</td>\n",
              "      <td>0.000000</td>\n",
              "      <td>0.000000</td>\n",
              "      <td>0.0</td>\n",
              "      <td>0.0</td>\n",
              "      <td>0.00000</td>\n",
              "      <td>0.000000</td>\n",
              "      <td>0.0</td>\n",
              "      <td>0.000000</td>\n",
              "      <td>0.022598</td>\n",
              "      <td>0.0</td>\n",
              "      <td>0.023153</td>\n",
              "      <td>0.000000</td>\n",
              "      <td>0.0</td>\n",
              "      <td>0.000000</td>\n",
              "      <td>0.000000</td>\n",
              "      <td>0.044898</td>\n",
              "      <td>0.032235</td>\n",
              "      <td>0.034170</td>\n",
              "      <td>0.0</td>\n",
              "      <td>0.0</td>\n",
              "      <td>0.0</td>\n",
              "      <td>0.0</td>\n",
              "      <td>0.0</td>\n",
              "      <td>...</td>\n",
              "      <td>0.0</td>\n",
              "      <td>0.0</td>\n",
              "      <td>0.000000</td>\n",
              "      <td>0.000000</td>\n",
              "      <td>0.03405</td>\n",
              "      <td>0.053327</td>\n",
              "      <td>0.000000</td>\n",
              "      <td>0.00000</td>\n",
              "      <td>0.000000</td>\n",
              "      <td>0.000000</td>\n",
              "      <td>0.023567</td>\n",
              "      <td>0.000000</td>\n",
              "      <td>0.000000</td>\n",
              "      <td>0.0</td>\n",
              "      <td>0.000000</td>\n",
              "      <td>0.05317</td>\n",
              "      <td>0.099051</td>\n",
              "      <td>0.000000</td>\n",
              "      <td>0.000000</td>\n",
              "      <td>0.036602</td>\n",
              "      <td>0.000000</td>\n",
              "      <td>0.000000</td>\n",
              "      <td>0.059002</td>\n",
              "      <td>0.035143</td>\n",
              "      <td>0.0</td>\n",
              "      <td>0.056978</td>\n",
              "      <td>0.052751</td>\n",
              "      <td>0.000000</td>\n",
              "      <td>0.025325</td>\n",
              "      <td>0.000000</td>\n",
              "      <td>0.057365</td>\n",
              "      <td>0.000000</td>\n",
              "      <td>0.0</td>\n",
              "      <td>0.0</td>\n",
              "      <td>0.0</td>\n",
              "      <td>0.000000</td>\n",
              "      <td>0.0</td>\n",
              "      <td>0.0</td>\n",
              "      <td>0.0</td>\n",
              "      <td>0.000000</td>\n",
              "    </tr>\n",
              "  </tbody>\n",
              "</table>\n",
              "<p>5 rows × 1000 columns</p>\n",
              "</div>"
            ],
            "text/plain": [
              "       abil       abl   absolut    accept  ...  young  younger  youtub      youv\n",
              "0  0.000000  0.000000  0.000000  0.000000  ...    0.0      0.0     0.0  0.066060\n",
              "1  0.000000  0.035780  0.000000  0.000000  ...    0.0      0.0     0.0  0.000000\n",
              "2  0.134089  0.048485  0.108886  0.000000  ...    0.0      0.0     0.0  0.000000\n",
              "3  0.000000  0.068667  0.038552  0.041127  ...    0.0      0.0     0.0  0.079451\n",
              "4  0.000000  0.000000  0.000000  0.000000  ...    0.0      0.0     0.0  0.000000\n",
              "\n",
              "[5 rows x 1000 columns]"
            ]
          },
          "metadata": {
            "tags": []
          },
          "execution_count": 24
        }
      ]
    },
    {
      "cell_type": "code",
      "metadata": {
        "colab": {
          "base_uri": "https://localhost:8080/"
        },
        "id": "gGs98yWeJc2P",
        "outputId": "4388325e-da20-4b94-8f93-b01fe3b19da6"
      },
      "source": [
        "df_posts.shape"
      ],
      "execution_count": null,
      "outputs": [
        {
          "output_type": "execute_result",
          "data": {
            "text/plain": [
              "(8675, 1000)"
            ]
          },
          "metadata": {
            "tags": []
          },
          "execution_count": 25
        }
      ]
    },
    {
      "cell_type": "code",
      "metadata": {
        "colab": {
          "base_uri": "https://localhost:8080/"
        },
        "id": "J6X1WfKoJmgC",
        "outputId": "757f0e40-36b3-4823-8c41-a15c9287e30d"
      },
      "source": [
        "print(df_posts.sum().sort_values(ascending=False).head(10))"
      ],
      "execution_count": null,
      "outputs": [
        {
          "output_type": "stream",
          "text": [
            "im        1265.769936\n",
            "like      1155.477329\n",
            "think      891.134800\n",
            "dont       818.336254\n",
            "peopl      751.443689\n",
            "one        628.374461\n",
            "know       620.878488\n",
            "get        617.492215\n",
            "feel       605.201579\n",
            "realli     573.758069\n",
            "dtype: float64\n"
          ],
          "name": "stdout"
        }
      ]
    },
    {
      "cell_type": "code",
      "metadata": {
        "colab": {
          "base_uri": "https://localhost:8080/"
        },
        "id": "FOWLt7MfJ6Rh",
        "outputId": "e5eb2e4e-d3ac-40a7-81ab-42b6118f75be"
      },
      "source": [
        "\n",
        "with pd.option_context('display.max_rows', 1, 'display.max_columns', None):\n",
        "    print(df_posts)"
      ],
      "execution_count": null,
      "outputs": [
        {
          "output_type": "stream",
          "text": [
            "    abil  abl  absolut  accept  account  accur  across  act  action  activ  \\\n",
            "0    0.0  0.0      0.0     0.0      0.0    0.0     0.0  0.0     0.0    0.0   \n",
            "..   ...  ...      ...     ...      ...    ...     ...  ...     ...    ...   \n",
            "\n",
            "    actual  add  admit  advic  affect  afraid       age       ago  agre   ah  \\\n",
            "0      0.0  0.0    0.0    0.0     0.0     0.0  0.065257  0.055776   0.0  0.0   \n",
            "..     ...  ...    ...    ...     ...     ...       ...       ...   ...  ...   \n",
            "\n",
            "    allow  almost  alon  along  alreadi  also  although     alway  amaz  \\\n",
            "0     0.0     0.0   0.0    0.0      0.0   0.0       0.0  0.034277   0.0   \n",
            "..    ...     ...   ...    ...      ...   ...       ...       ...   ...   \n",
            "\n",
            "    amount  angri  anim  annoy  anoth  answer  answer question  anxieti  \\\n",
            "0      0.0    0.0   0.0    0.0    0.0     0.0              0.0      0.0   \n",
            "..     ...    ...   ...    ...    ...     ...              ...      ...   \n",
            "\n",
            "    anymor  anyon  anyon els  anyth  anyway  apart  apolog  appar    appear  \\\n",
            "0      0.0    0.0        0.0    0.0     0.0    0.0     0.0    0.0  0.077091   \n",
            "..     ...    ...        ...    ...     ...    ...     ...    ...       ...   \n",
            "\n",
            "    appli  appreci  approach      area  arent  argu  argument    around  art  \\\n",
            "0     0.0      0.0       0.0  0.084405    0.0   0.0       0.0  0.040565  0.0   \n",
            "..    ...      ...       ...       ...    ...   ...       ...       ...  ...   \n",
            "\n",
            "    articl    artist  ask  aspect  ass  assum  attempt  attent  attract  \\\n",
            "0      0.0  0.259496  0.0     0.0  0.0    0.0      0.0     0.0      0.0   \n",
            "..     ...       ...  ...     ...  ...    ...      ...     ...      ...   \n",
            "\n",
            "    avatar  averag  avoid   aw  awar  away  awesom  awkward      babi  back  \\\n",
            "0      0.0     0.0    0.0  0.0   0.0   0.0     0.0      0.0  0.090265   0.0   \n",
            "..     ...     ...    ...  ...   ...   ...     ...      ...       ...   ...   \n",
            "\n",
            "    bad  balanc  base     basic  beauti     becom      bed  begin  behavior  \\\n",
            "0   0.0     0.0   0.0  0.063231     0.0  0.053617  0.08581    0.0       0.0   \n",
            "..  ...     ...   ...       ...     ...       ...      ...    ...       ...   \n",
            "\n",
            "    behind  belief  believ  best  best friend    better       big  bit  black  \\\n",
            "0      0.0     0.0     0.0   0.0          0.0  0.042346  0.055812  0.0    0.0   \n",
            "..     ...     ...     ...   ...          ...       ...       ...  ...    ...   \n",
            "\n",
            "    blue  bodi  book  bore  born  bother  boy  boyfriend  brain  break  bring  \\\n",
            "0    0.0   0.0   0.0   0.0   0.0     0.0  0.0        0.0    0.0    0.0    0.0   \n",
            "..   ...   ...   ...   ...   ...     ...  ...        ...    ...    ...    ...   \n",
            "\n",
            "    brother  build  bunch  busi  buy  call  calm  came  cannot  cant  car  \\\n",
            "0       0.0    0.0    0.0   0.0  0.0   0.0   0.0   0.0     0.0   0.0  0.0   \n",
            "..      ...    ...    ...   ...  ...   ...   ...   ...     ...   ...  ...   \n",
            "\n",
            "    care  career  case  cat  caus  certain  certainli  challeng  chanc  chang  \\\n",
            "0    0.0     0.0   0.0  0.0   0.0      0.0        0.0       0.0    0.0    0.0   \n",
            "..   ...     ...   ...  ...   ...      ...        ...       ...    ...    ...   \n",
            "\n",
            "    charact  check  child  children  choic  choos  christian  citi  claim  \\\n",
            "0       0.0    0.0    0.0       0.0    0.0    0.0        0.0   0.0    0.0   \n",
            "..      ...    ...    ...       ...    ...    ...        ...   ...    ...   \n",
            "\n",
            "       class  clean  clear   clearli  close  close friend  cloth  coffe  \\\n",
            "0   0.134126    0.0    0.0  0.087234    0.0           0.0    0.0    0.0   \n",
            "..       ...    ...    ...       ...    ...           ...    ...    ...   \n",
            "\n",
            "      cognit  cognit function  cold  colleg  color  combin      come  comfort  \\\n",
            "0   0.079438         0.087755   0.0     0.0    0.0     0.0  0.035335      0.0   \n",
            "..       ...              ...   ...     ...    ...     ...       ...      ...   \n",
            "\n",
            "    comment  common  commun  compani  compar  complet  compliment  comput  \\\n",
            "0       0.0     0.0     0.0      0.0     0.0  0.05232         0.0     0.0   \n",
            "..      ...     ...     ...      ...     ...      ...         ...     ...   \n",
            "\n",
            "    concept  concern  conclus    confid  conflict  confus  connect  consid  \\\n",
            "0       0.0      0.0      0.0  0.077051       0.0     0.0      0.0     0.0   \n",
            "..      ...      ...      ...       ...       ...     ...      ...     ...   \n",
            "\n",
            "    constantli  contact  continu  control   convers  convinc      cool  \\\n",
            "0          0.0      0.0      0.0      0.0  0.116579      0.0  0.061147   \n",
            "..         ...      ...      ...      ...       ...      ...       ...   \n",
            "\n",
            "    correct     could  couldnt     count  countri  coupl  cours  crazi  creat  \\\n",
            "0       0.0  0.069424      0.0  0.083119      0.0    0.0    0.0    0.0    0.0   \n",
            "..      ...       ...      ...       ...      ...    ...    ...    ...    ...   \n",
            "\n",
            "    creativ  cri  critic  crush  cultur  curiou   current  cut  cute  dad  \\\n",
            "0       0.0  0.0     0.0    0.0     0.0     0.0  0.063445  0.0   0.0  0.0   \n",
            "..      ...  ...     ...    ...     ...     ...       ...  ...   ...  ...   \n",
            "\n",
            "    damn  danc  dark  date       day  dead  deal      dear     death  debat  \\\n",
            "0    0.0   0.0   0.0   0.0  0.039262   0.0   0.0  0.081262  0.077468    0.0   \n",
            "..   ...   ...   ...   ...       ...   ...   ...       ...       ...    ...   \n",
            "\n",
            "    decid  decis  deep  defin  definit  degre  depend  depress  describ  \\\n",
            "0     0.0    0.0   0.0    0.0      0.0    0.0     0.0      0.0      0.0   \n",
            "..    ...    ...   ...    ...      ...    ...     ...      ...      ...   \n",
            "\n",
            "    descript  desir  detail  develop  didnt  die  differ  difficult  direct  \\\n",
            "0        0.0    0.0     0.0      0.0    0.0  0.0     0.0        0.0     0.0   \n",
            "..       ...    ...     ...      ...    ...  ...     ...        ...     ...   \n",
            "\n",
            "    disagre  discov  discuss  dislik  doesnt  dog  domin  done      dont  \\\n",
            "0       0.0     0.0      0.0     0.0     0.0  0.0    0.0   0.0  0.055996   \n",
            "..      ...     ...      ...     ...     ...  ...    ...   ...       ...   \n",
            "\n",
            "    dont care  dont even  dont feel  dont get  dont know  dont like  \\\n",
            "0         0.0        0.0        0.0       0.0        0.0        0.0   \n",
            "..        ...        ...        ...       ...        ...        ...   \n",
            "\n",
            "    dont realli  dont see  dont think  dont understand  dont want  doubt  \\\n",
            "0           0.0       0.0         0.0              0.0        0.0    0.0   \n",
            "..          ...       ...         ...              ...        ...    ...   \n",
            "\n",
            "        draw  dream  drink  drive  drug  dude  due  earli  easi  easier  \\\n",
            "0   0.082032    0.0    0.0    0.0   0.0   0.0  0.0    0.0   0.0     0.0   \n",
            "..       ...    ...    ...    ...   ...   ...  ...    ...   ...     ...   \n",
            "\n",
            "    easili       eat  edit  effect  effort  either  els  emot  end  energi  \\\n",
            "0      0.0  0.068205   0.0     0.0     0.0     0.0  0.0   0.0  0.0     0.0   \n",
            "..     ...       ...   ...     ...     ...     ...  ...   ...  ...     ...   \n",
            "\n",
            "    english     enjoy  enneagram  enough  entir  environ  equal  especi  etc  \\\n",
            "0       0.0  0.049675        0.0     0.0    0.0      0.0    0.0     0.0  0.0   \n",
            "..      ...       ...        ...     ...    ...      ...    ...     ...  ...   \n",
            "\n",
            "        even  even though  event  eventu  ever     everi   everyon  everyth  \\\n",
            "0   0.033149          0.0    0.0     0.0   0.0  0.045541  0.090469      0.0   \n",
            "..       ...          ...    ...     ...   ...       ...       ...      ...   \n",
            "\n",
            "    evil   ex  exact  exactli  exampl  except  excit    exist  expect  \\\n",
            "0    0.0  0.0    0.0      0.0     0.0     0.0    0.0  0.06977     0.0   \n",
            "..   ...  ...    ...      ...     ...     ...    ...      ...     ...   \n",
            "\n",
            "      experi  experienc  explain  express  extravert  extrem  extrovert  eye  \\\n",
            "0   0.095632        0.0      0.0      0.0        0.0     0.0        0.0  0.0   \n",
            "..       ...        ...      ...      ...        ...     ...        ...  ...   \n",
            "\n",
            "    face  facebook  fact      fail  fair  fairli  fall  famili  fan  far  \\\n",
            "0    0.0  0.091578   0.0  0.081938   0.0     0.0   0.0     0.0  0.0  0.0   \n",
            "..   ...       ...   ...       ...   ...     ...   ...     ...  ...  ...   \n",
            "\n",
            "    fast  father   favorit  favourit   fe  fear  feel  feel like  fellow  \\\n",
            "0    0.0     0.0  0.127731       0.0  0.0   0.0   0.0        0.0     0.0   \n",
            "..   ...     ...       ...       ...  ...   ...   ...        ...     ...   \n",
            "\n",
            "    felt  femal   fi  fight     figur  film  final  find  fine  finish  first  \\\n",
            "0    0.0    0.0  0.0    0.0  0.058888   0.0    0.0   0.0   0.0     0.0    0.0   \n",
            "..   ...    ...  ...    ...       ...   ...    ...   ...   ...     ...    ...   \n",
            "\n",
            "    first time  fit  five  fix  focu  focus    follow  food  forc  forget  \\\n",
            "0          0.0  0.0   0.0  0.0   0.0    0.0  0.063338   0.0   0.0     0.0   \n",
            "..         ...  ...   ...  ...   ...    ...       ...   ...   ...     ...   \n",
            "\n",
            "        form  forum  found  four  freak  free    friend  friendship  front  \\\n",
            "0   0.073099    0.0    0.0   0.0    0.0   0.0  0.034412         0.0    0.0   \n",
            "..       ...    ...    ...   ...    ...   ...       ...         ...    ...   \n",
            "\n",
            "    frustrat  fuck  full  fun  function  funni  futur      game  gave  gender  \\\n",
            "0        0.0   0.0   0.0  0.0  0.055794    0.0    0.0  0.234787   0.0     0.0   \n",
            "..       ...   ...   ...  ...       ...    ...    ...       ...   ...     ...   \n",
            "\n",
            "    gener  genuin      get  get along  gift  girl  girlfriend  give     given  \\\n",
            "0     0.0     0.0  0.02848        0.0   0.0   0.0         0.0   0.0  0.148993   \n",
            "..    ...     ...      ...        ...   ...   ...         ...   ...       ...   \n",
            "\n",
            "    glad   go  goal  god  goe  gone  gonna      good  got  gotten  grade  \\\n",
            "0    0.0  0.0   0.0  0.0  0.0   0.0    0.0  0.094362  0.0     0.0    0.0   \n",
            "..   ...  ...   ...  ...  ...   ...    ...       ...  ...     ...    ...   \n",
            "\n",
            "    great  group      grow  guess  guy   ha  haha  hahaha  hair  half  hand  \\\n",
            "0     0.0    0.0  0.075186    0.0  0.0  0.0   0.0     0.0   0.0   0.0   0.0   \n",
            "..    ...    ...       ...    ...  ...  ...   ...     ...   ...   ...   ...   \n",
            "\n",
            "    handl  hang    happen  happi      hard  hate    havent  head  healthi  \\\n",
            "0     0.0   0.0  0.045845    0.0  0.044919   0.0  0.055561   0.0      0.0   \n",
            "..    ...   ...       ...    ...       ...   ...       ...   ...      ...   \n",
            "\n",
            "        hear     heard  heart  hell     hello  help       hey   hi  hide  \\\n",
            "0   0.059686  0.067434    0.0   0.0  0.074318   0.0  0.064865  0.0   0.0   \n",
            "..       ...       ...    ...   ...       ...   ...       ...  ...   ...   \n",
            "\n",
            "      high  high school  highli  histori  hit  hmm  hold  home  honest  \\\n",
            "0   0.1077     0.073859     0.0      0.0  0.0  0.0   0.0   0.0     0.0   \n",
            "..     ...          ...     ...      ...  ...  ...   ...   ...     ...   \n",
            "\n",
            "    honestli  hope  horribl  hot  hour  hous  howev  hug  huge  human  humor  \\\n",
            "0        0.0   0.0      0.0  0.0   0.0   0.0    0.0  0.0   0.0    0.0    0.0   \n",
            "..       ...   ...      ...  ...   ...   ...    ...  ...   ...    ...    ...   \n",
            "\n",
            "    hurt  husband        id  id like  id say      idea  ideal  identifi  \\\n",
            "0    0.0      0.0  0.042766      0.0     0.0  0.043717    0.0       0.0   \n",
            "..   ...      ...       ...      ...     ...       ...    ...       ...   \n",
            "\n",
            "    ignor  ill        im  im go  im pretti  im realli  im sorri  im still  \\\n",
            "0     0.0  0.0  0.028635    0.0        0.0        0.0       0.0       0.0   \n",
            "..    ...  ...       ...    ...        ...        ...       ...       ...   \n",
            "\n",
            "    im sure  im tri  imag  imagin  import  impress  includ  incred      inde  \\\n",
            "0       0.0     0.0   0.0     0.0     0.0      0.0     0.0     0.0  0.090979   \n",
            "..      ...     ...   ...     ...     ...      ...     ...     ...       ...   \n",
            "\n",
            "    individu  inferior  inform  initi  insid  insight  inspir  instead  \\\n",
            "0        0.0       0.0     0.0    0.0    0.0      0.0     0.0      0.0   \n",
            "..       ...       ...     ...    ...    ...      ...     ...      ...   \n",
            "\n",
            "    intellig  intens  intent  interact  interest  intern  internet  introvert  \\\n",
            "0        0.0     0.0     0.0       0.0       0.0     0.0       0.0        0.0   \n",
            "..       ...     ...     ...       ...       ...     ...       ...        ...   \n",
            "\n",
            "    intuit  involv  isnt  issu       ive  ive alway  ive never  ive seen  job  \\\n",
            "0      0.0     0.0   0.0   0.0  0.032459        0.0        0.0       0.0  0.0   \n",
            "..     ...     ...   ...   ...       ...        ...        ...       ...  ...   \n",
            "\n",
            "    join  joke  judg  jump  keep  kid  kill      kind  kinda  knew  know  \\\n",
            "0    0.0   0.0   0.0   0.0   0.0  0.0   0.0  0.042522    0.0   0.0   0.0   \n",
            "..   ...   ...   ...   ...   ...  ...   ...       ...    ...   ...   ...   \n",
            "\n",
            "    know im  knowledg  known  lack  languag  larg      last      late  later  \\\n",
            "0       0.0       0.0    0.0   0.0      0.0   0.0  0.046971  0.062426    0.0   \n",
            "..      ...       ...    ...   ...      ...   ...       ...       ...    ...   \n",
            "\n",
            "    laugh  law  lazi  lead     learn     least  leav      left  less  let  \\\n",
            "0     0.0  0.0   0.0   0.0  0.096742  0.049877   0.0  0.140482   0.0  0.0   \n",
            "..    ...  ...   ...   ...       ...       ...   ...       ...   ...  ...   \n",
            "\n",
            "    letter  level  lie      life  light     like  like im  limit  line  link  \\\n",
            "0      0.0    0.0  0.0  0.070687    0.0  0.10968      0.0    0.0   0.0   0.0   \n",
            "..     ...    ...  ...       ...    ...      ...      ...    ...   ...   ...   \n",
            "\n",
            "    list  listen  liter  littl      live  logic  lol  long  long time  longer  \\\n",
            "0    0.0     0.0    0.0    0.0  0.043017    0.0  0.0   0.0        0.0     0.0   \n",
            "..   ...     ...    ...    ...       ...    ...  ...   ...        ...     ...   \n",
            "\n",
            "    look  look like  lose  lost  lot  lot peopl  loud  love  low  made  \\\n",
            "0    0.0        0.0   0.0   0.0  0.0        0.0   0.0   0.0  0.0   0.0   \n",
            "..   ...        ...   ...   ...  ...        ...   ...   ...  ...   ...   \n",
            "\n",
            "        main  major  make  make feel  make sens  male  man  manag      mani  \\\n",
            "0   0.080402    0.0   0.0        0.0        0.0   0.0  0.0    0.0  0.040218   \n",
            "..       ...    ...   ...        ...        ...   ...  ...    ...       ...   \n",
            "\n",
            "    mani peopl  manipul  marri     match  math  matter  matur       may  \\\n",
            "0          0.0      0.0    0.0  0.088586   0.0     0.0    0.0  0.046854   \n",
            "..         ...      ...    ...       ...   ...     ...    ...       ...   \n",
            "\n",
            "        mayb  mbti      mean  meant  meet  member  memori  men    mental  \\\n",
            "0   0.041879   0.0  0.036282    0.0   0.0     0.0     0.0  0.0  0.072828   \n",
            "..       ...   ...       ...    ...   ...     ...     ...  ...       ...   \n",
            "\n",
            "    mention  mess  messag  met     middl  might  mind  mine     minut  miss  \\\n",
            "0       0.0   0.0     0.0  0.0  0.081424    0.0   0.0   0.0  0.076933   0.0   \n",
            "..      ...   ...     ...  ...       ...    ...   ...   ...       ...   ...   \n",
            "\n",
            "    mistak  mix  mom    moment  money  month  mood  moral  morn  mostli  \\\n",
            "0      0.0  0.0  0.0  0.122338    0.0    0.0   0.0    0.0   0.0     0.0   \n",
            "..     ...  ...  ...       ...    ...    ...   ...    ...   ...     ...   \n",
            "\n",
            "    mother  motiv      move     movi     much     music  must  name     natur  \\\n",
            "0      0.0    0.0  0.175581  0.06222  0.03078  0.055902   0.0   0.0  0.056102   \n",
            "..     ...    ...       ...      ...      ...       ...   ...   ...       ...   \n",
            "\n",
            "     ne  necessarili  need  neg  never       new      next   nf   ni  nice  \\\n",
            "0   0.0          0.0   0.0  0.0    0.0  0.045932  0.065219  0.0  0.0   0.0   \n",
            "..  ...          ...   ...  ...    ...       ...       ...  ...  ...   ...   \n",
            "\n",
            "    night  nobodi  none  normal     note      noth  notic   nt  number  \\\n",
            "0     0.0     0.0   0.0     0.0  0.07715  0.050513    0.0  0.0     0.0   \n",
            "..    ...     ...   ...     ...      ...       ...    ...  ...     ...   \n",
            "\n",
            "    object  observ  obsess  obviou  obvious  odd  offer  often   oh   ok  \\\n",
            "0      0.0     0.0     0.0     0.0      0.0  0.0    0.0    0.0  0.0  0.0   \n",
            "..     ...     ...     ...     ...      ...  ...    ...    ...  ...  ...   \n",
            "\n",
            "    okay       old  older       one  one thing  onlin   op  open  opinion  \\\n",
            "0    0.0  0.055767    0.0  0.056242        0.0    0.0  0.0   0.0      0.0   \n",
            "..   ...       ...    ...       ...        ...    ...  ...   ...      ...   \n",
            "\n",
            "    opposit  option  order  organ  origin  otherwis  outsid  page  pain  \\\n",
            "0       0.0     0.0    0.0    0.0     0.0       0.0     0.0   0.0   0.0   \n",
            "..      ...     ...    ...    ...     ...       ...     ...   ...   ...   \n",
            "\n",
            "    parent      part  parti  particular  particularli  partner  pass  passion  \\\n",
            "0      0.0  0.093541    0.0         0.0           0.0      0.0   0.0      0.0   \n",
            "..     ...       ...    ...         ...           ...      ...   ...      ...   \n",
            "\n",
            "    past  pattern  pay      peac    peopl  peopl dont  peopl like  \\\n",
            "0    0.0      0.0  0.0  0.091344  0.02832         0.0         0.0   \n",
            "..   ...      ...  ...       ...      ...         ...         ...   \n",
            "\n",
            "    peopl think      perc  perceiv  perfect  perhap  period    person  \\\n",
            "0           0.0  0.085974      0.0  0.07083     0.0     0.0  0.060801   \n",
            "..          ...       ...      ...      ...     ...     ...       ...   \n",
            "\n",
            "    person type  perspect  phone  physic  pick  pictur  piec  piss  place  \\\n",
            "0           0.0       0.0    0.0     0.0   0.0     0.0   0.0   0.0    0.0   \n",
            "..          ...       ...    ...     ...   ...     ...   ...   ...    ...   \n",
            "\n",
            "    plan      play  pleas  plu  point  polit     posit  possibl     post  \\\n",
            "0    0.0  0.048031    0.0  0.0    0.0    0.0  0.068049      0.0  0.03775   \n",
            "..   ...       ...    ...  ...    ...    ...       ...      ...      ...   \n",
            "\n",
            "    potenti  power  practic  prefer  present  pretti  pretti much  \\\n",
            "0       0.0    0.0      0.0     0.0      0.0     0.0          0.0   \n",
            "..      ...    ...      ...     ...      ...     ...          ...   \n",
            "\n",
            "    pretti sure  probabl  problem  process  profil  project     proud  provid  \\\n",
            "0           0.0      0.0      0.0      0.0     0.0      0.0  0.081914     0.0   \n",
            "..          ...      ...      ...      ...     ...      ...       ...     ...   \n",
            "\n",
            "    psycholog    public  pull  purpos  push  put  qualiti  question   quickli  \\\n",
            "0         0.0  0.086056   0.0     0.0   0.0  0.0      0.0       0.0  0.087407   \n",
            "..        ...       ...   ...     ...   ...  ...      ...       ...       ...   \n",
            "\n",
            "    quiet  quit  quot  rais  random  rare  rather  ration  reach  reaction  \\\n",
            "0     0.0   0.0   0.0   0.0     0.0   0.0     0.0     0.0    0.0       0.0   \n",
            "..    ...   ...   ...   ...     ...   ...     ...     ...    ...       ...   \n",
            "\n",
            "    read  real  real life  realiti  realiz    realli  realli good  \\\n",
            "0    0.0   0.0        0.0      0.0     0.0  0.029828          0.0   \n",
            "..   ...   ...        ...      ...     ...       ...          ...   \n",
            "\n",
            "    realli like    reason  recent  recommend  red  refer  regard  relat  \\\n",
            "0           0.0  0.044176     0.0        0.0  0.0    0.0     0.0    0.0   \n",
            "..          ...       ...     ...        ...  ...    ...     ...    ...   \n",
            "\n",
            "    relationship  religi  religion  rememb  remind  repli    requir  research  \\\n",
            "0       0.046354     0.0       0.0     0.0     0.0    0.0  0.083716       0.0   \n",
            "..           ...     ...       ...     ...     ...    ...       ...       ...   \n",
            "\n",
            "    respect  respond  respons      rest  result     right  rock  romant  \\\n",
            "0       0.0      0.0      0.0  0.077051     0.0  0.036458   0.0     0.0   \n",
            "..      ...      ...      ...       ...     ...       ...   ...     ...   \n",
            "\n",
            "        room  rule  run       sad  said  save  saw  say  say im  scare  \\\n",
            "0   0.072343   0.0  0.0  0.066644   0.0   0.0  0.0  0.0     0.0    0.0   \n",
            "..       ...   ...  ...       ...   ...   ...  ...  ...     ...    ...   \n",
            "\n",
            "     school  scienc  score   se  search  second       see  seek  seem  \\\n",
            "0   0.04992     0.0    0.0  0.0     0.0     0.0  0.031366   0.0   0.0   \n",
            "..      ...     ...    ...  ...     ...     ...       ...   ...   ...   \n",
            "\n",
            "    seem like  seen  self  sens  sensit  sensor  sent  seri  seriou  serious  \\\n",
            "0         0.0   0.0   0.0   0.0     0.0     0.0   0.0   0.0     0.0      0.0   \n",
            "..        ...   ...   ...   ...     ...     ...   ...   ...     ...      ...   \n",
            "\n",
            "         set  sever  sex  sexual    share  shi  shit  shock  short  shouldnt  \\\n",
            "0   0.068162    0.0  0.0     0.0  0.05827  0.0   0.0    0.0    0.0       0.0   \n",
            "..       ...    ...  ...     ...      ...  ...   ...    ...    ...       ...   \n",
            "\n",
            "    show   si  side  sign  silli  similar  simpl  simpli  sinc  singl  sister  \\\n",
            "0    0.0  0.0   0.0   0.0    0.0      0.0    0.0     0.0   0.0    0.0     0.0   \n",
            "..   ...  ...   ...   ...    ...      ...    ...     ...   ...    ...     ...   \n",
            "\n",
            "         sit  site  situat  skill  sleep  slightli  small  smart  smile  \\\n",
            "0   0.070549   0.0     0.0    0.0    0.0       0.0    0.0    0.0    0.0   \n",
            "..       ...   ...     ...    ...    ...       ...    ...    ...    ...   \n",
            "\n",
            "    smoke    social   societi  somebodi  somehow    someon  someon els  \\\n",
            "0     0.0  0.051112  0.079894       0.0      0.0  0.035124         0.0   \n",
            "..    ...       ...       ...       ...      ...       ...         ...   \n",
            "\n",
            "      someth  someth like  sometim  somewhat  somewher  song  soon     sorri  \\\n",
            "0   0.064531     0.083217      0.0  0.082947       0.0   0.0   0.0  0.052742   \n",
            "..       ...          ...      ...       ...       ...   ...   ...       ...   \n",
            "\n",
            "        sort  soul  sound  sound like  space     speak  special  specif  \\\n",
            "0   0.058787   0.0    0.0         0.0    0.0  0.058979      0.0     0.0   \n",
            "..       ...   ...    ...         ...    ...       ...      ...     ...   \n",
            "\n",
            "    spend  spent  sport  spot  stand     start  state  statement  stay  step  \\\n",
            "0     0.0    0.0    0.0   0.0    0.0  0.039617    0.0        0.0   0.0   0.0   \n",
            "..    ...    ...    ...   ...    ...       ...    ...        ...   ...   ...   \n",
            "\n",
            "    stereotyp  stick  still  stop  stori  straight  strang  stranger  stress  \\\n",
            "0         0.0    0.0    0.0   0.0    0.0       0.0     0.0       0.0     0.0   \n",
            "..        ...    ...    ...   ...    ...       ...     ...       ...     ...   \n",
            "\n",
            "    strong  struggl  stuck  student  studi     stuff  stupid  style   subject  \\\n",
            "0      0.0      0.0    0.0      0.0    0.0  0.053909     0.0    0.0  0.069861   \n",
            "..     ...      ...    ...      ...    ...       ...     ...    ...       ...   \n",
            "\n",
            "    success  suck  suggest  super  support  suppos  sure  surpris  sweet  \\\n",
            "0       0.0   0.0      0.0    0.0      0.0     0.0   0.0      0.0    0.0   \n",
            "..      ...   ...      ...    ...      ...     ...   ...      ...    ...   \n",
            "\n",
            "    system      take  taken  talk  tapatalk  tast   te  teach  teacher  tell  \\\n",
            "0      0.0  0.034514    0.0   0.0       0.0   0.0  0.0    0.0      0.0   0.0   \n",
            "..     ...       ...    ...   ...       ...   ...  ...    ...      ...   ...   \n",
            "\n",
            "    tend  tendenc  term  terribl  test  text   th  thank  theori  theyr  \\\n",
            "0    0.0      0.0   0.0      0.0   0.0   0.0  0.0    0.0     0.0    0.0   \n",
            "..   ...      ...   ...      ...   ...   ...  ...    ...     ...    ...   \n",
            "\n",
            "       thing  thing like     think  think im  think would  though   thought  \\\n",
            "0   0.087558         0.0  0.027844       0.0          0.0     0.0  0.035445   \n",
            "..       ...         ...       ...       ...          ...     ...       ...   \n",
            "\n",
            "      thread    three  throw   ti      time  tire  titl     today  togeth  \\\n",
            "0   0.041579  0.07208    0.0  0.0  0.172387   0.0   0.0  0.122098     0.0   \n",
            "..       ...      ...    ...  ...       ...   ...   ...       ...     ...   \n",
            "\n",
            "    told  tongu  took       top  topic  total  touch  toward  train  trait  \\\n",
            "0    0.0    0.0   0.0  0.076641    0.0    0.0    0.0     0.0    0.0    0.0   \n",
            "..   ...    ...   ...       ...    ...    ...    ...     ...    ...    ...   \n",
            "\n",
            "    travel  treat       tri  troubl  true  truli  trust  truth  turn   tv  \\\n",
            "0      0.0    0.0  0.064297     0.0   0.0    0.0    0.0    0.0   0.0  0.0   \n",
            "..     ...    ...       ...     ...   ...    ...    ...    ...   ...  ...   \n",
            "\n",
            "         two      type  typic  understand  unfortun  unhealthi  univers  \\\n",
            "0   0.086316  0.100746    0.0         0.0       0.0        0.0      0.0   \n",
            "..       ...       ...    ...         ...       ...        ...      ...   \n",
            "\n",
            "    unless  unsur  upon  upset   us       use  use tapatalk  user  usual  \\\n",
            "0      0.0    0.0   0.0    0.0  0.0  0.067164           0.0   0.0    0.0   \n",
            "..     ...    ...   ...    ...  ...       ...           ...   ...    ...   \n",
            "\n",
            "    valu  version     video  view  voic  vote   vs     wait  walk      wall  \\\n",
            "0    0.0      0.0  0.191997   0.0   0.0   0.0  0.0  0.06479   0.0  0.090815   \n",
            "..   ...      ...       ...   ...   ...   ...  ...      ...   ...       ...   \n",
            "\n",
            "    wanna      want  warm  wasnt  wast     watch  water       way  weak  wear  \\\n",
            "0     0.0  0.030517   0.0    0.0   0.0  0.050226    0.0  0.031173   0.0   0.0   \n",
            "..    ...       ...   ...    ...   ...       ...    ...       ...   ...   ...   \n",
            "\n",
            "    week  weird    welcom  well  went  whatev  whenev  whether  white  \\\n",
            "0    0.0    0.0  0.129229   0.0   0.0     0.0     0.0      0.0    0.0   \n",
            "..   ...    ...       ...   ...   ...     ...     ...      ...    ...   \n",
            "\n",
            "       whole  win  wink  wish    within  without  woman  women  wonder  wont  \\\n",
            "0   0.057093  0.0   0.0   0.0  0.082461      0.0    0.0    0.0     0.0   0.0   \n",
            "..       ...  ...   ...   ...       ...      ...    ...    ...     ...   ...   \n",
            "\n",
            "    word  work     world   worri  wors  worst  worth     would  would like  \\\n",
            "0    0.0   0.0  0.088824  0.0676   0.0    0.0    0.0  0.029328    0.072676   \n",
            "..   ...   ...       ...     ...   ...    ...    ...       ...         ...   \n",
            "\n",
            "    would say  wouldnt  wow  write  written  wrong  wrote   xd   ye  yeah  \\\n",
            "0         0.0      0.0  0.0    0.0      0.0    0.0    0.0  0.0  0.0   0.0   \n",
            "..        ...      ...  ...    ...      ...    ...    ...  ...  ...   ...   \n",
            "\n",
            "        year  year ago  year old       yep  yesterday  yet  youd  youll  \\\n",
            "0   0.037492  0.075113       0.0  0.091883        0.0  0.0   0.0    0.0   \n",
            "..       ...       ...       ...       ...        ...  ...   ...    ...   \n",
            "\n",
            "    young  younger  youtub     youv  \n",
            "0     0.0      0.0     0.0  0.06606  \n",
            "..    ...      ...     ...      ...  \n",
            "\n",
            "[8675 rows x 1000 columns]\n"
          ],
          "name": "stdout"
        }
      ]
    },
    {
      "cell_type": "markdown",
      "metadata": {
        "id": "_k41QHQZX_UV"
      },
      "source": [
        "Classification"
      ]
    },
    {
      "cell_type": "code",
      "metadata": {
        "colab": {
          "base_uri": "https://localhost:8080/"
        },
        "id": "c27t5BrxYCG6",
        "outputId": "ac882814-80d5-4ba8-c48a-d2798e532098"
      },
      "source": [
        "baseline = df['type'].value_counts().max() / df['type'].value_counts().sum()\n",
        "baseline"
      ],
      "execution_count": null,
      "outputs": [
        {
          "output_type": "execute_result",
          "data": {
            "text/plain": [
              "0.21118155619596543"
            ]
          },
          "metadata": {
            "tags": []
          },
          "execution_count": 28
        }
      ]
    },
    {
      "cell_type": "code",
      "metadata": {
        "id": "9qCBmalhYV-n"
      },
      "source": [
        "X_train, X_test, y_train, y_test = train_test_split(df_posts,\n",
        "                                                   df['type'].values,\n",
        "                                                   test_size=0.30, random_state=42)\n",
        "print('X_train ', X_train.shape, '\\n', 'X_test ', X_test.shape, '\\n', 'y_train ', y_train.shape, '\\n', \n",
        "      'y_test', y_test.shape)"
      ],
      "execution_count": null,
      "outputs": []
    },
    {
      "cell_type": "code",
      "metadata": {
        "colab": {
          "base_uri": "https://localhost:8080/"
        },
        "id": "TWs_npVSYpqa",
        "outputId": "c25075f2-e33a-4043-c3c7-c0e44ef78eeb"
      },
      "source": [
        "cv = TfidfVectorizer(preprocessor=cleaner, stop_words=stop_rev, ngram_range=(1,2), max_features=1000)\n",
        "cv.fit(X_train)\n",
        "X_train_cv = cv.transform(X_train)"
      ],
      "execution_count": null,
      "outputs": [
        {
          "output_type": "stream",
          "text": [
            "/usr/local/lib/python3.7/dist-packages/sklearn/feature_extraction/text.py:385: UserWarning: Your stop_words may be inconsistent with your preprocessing. Tokenizing the stop words generated tokens ['arent', 'couldnt', 'didnt', 'doesnt', 'dont', 'hadnt', 'hasnt', 'havent', 'isnt', 'mightnt', 'mustnt', 'neednt', 'shant', 'shouldnt', 'shouldv', 'thatll', 'wasnt', 'werent', 'wont', 'wouldnt', 'youd', 'youll', 'youv'] not in stop_words.\n",
            "  'stop_words.' % sorted(inconsistent))\n"
          ],
          "name": "stderr"
        }
      ]
    },
    {
      "cell_type": "code",
      "metadata": {
        "colab": {
          "base_uri": "https://localhost:8080/",
          "height": 297
        },
        "id": "zfRohr8ta7ZI",
        "outputId": "9889b57e-e7ab-473a-b347-5d0c2243c2c2"
      },
      "source": [
        "tsvd = TruncatedSVD(n_components=999)\n",
        "tsvd.fit(X_train_cv)\n",
        "plt.plot(range(999), tsvd.explained_variance_ratio_.cumsum())\n",
        "plt.title(\"Truncated SVD - Optimal # of components\", fontsize=16)\n",
        "plt.xlabel(\"# of components\")\n",
        "plt.ylabel(\"Explained variance ratio\");"
      ],
      "execution_count": null,
      "outputs": [
        {
          "output_type": "display_data",
          "data": {
            "image/png": "[encoded data removed]",
            "text/plain": [
              "<Figure size 432x288 with 1 Axes>"
            ]
          },
          "metadata": {
            "tags": []
          }
        }
      ]
    },
    {
      "cell_type": "code",
      "metadata": {
        "id": "D3YSwnZnpSl8"
      },
      "source": [
        "from sklearn.cluster import MiniBatchKMeans"
      ],
      "execution_count": null,
      "outputs": []
    },
    {
      "cell_type": "code",
      "metadata": {
        "id": "8fyvBJaZvWF-"
      },
      "source": [
        "kmeans=MiniBatchKMeans(n_clusters=10,random_state=0,batch_size=100,max_iter=100).fit(df_posts)"
      ],
      "execution_count": null,
      "outputs": []
    },
    {
      "cell_type": "code",
      "metadata": {
        "id": "p2Mqo3X7wCa3"
      },
      "source": [
        "one=kmeans.cluster_centers_[1]"
      ],
      "execution_count": null,
      "outputs": []
    },
    {
      "cell_type": "code",
      "metadata": {
        "colab": {
          "base_uri": "https://localhost:8080/"
        },
        "id": "8DHbyE-BwF1r",
        "outputId": "1b82ae15-af2d-438a-f080-213039e4acfb"
      },
      "source": [
        "one.shape"
      ],
      "execution_count": null,
      "outputs": [
        {
          "output_type": "execute_result",
          "data": {
            "text/plain": [
              "(1000,)"
            ]
          },
          "metadata": {
            "tags": []
          },
          "execution_count": 45
        }
      ]
    },
    {
      "cell_type": "code",
      "metadata": {
        "colab": {
          "base_uri": "https://localhost:8080/"
        },
        "id": "0kFkezXdwwhi",
        "outputId": "ff18e535-8560-4939-d7d5-4e8cf6ca20cd"
      },
      "source": [
        "kmeans_inertia"
      ],
      "execution_count": null,
      "outputs": [
        {
          "output_type": "execute_result",
          "data": {
            "text/plain": [
              "5644.317219731087"
            ]
          },
          "metadata": {
            "tags": []
          },
          "execution_count": 46
        }
      ]
    },
    {
      "cell_type": "code",
      "metadata": {
        "id": "yr_EWfw2w-Nd"
      },
      "source": [
        "kmeans_kwargs = {\n",
        "   ...:     \"init\": \"random\",\n",
        "   ...:     \"n_init\": 10,\n",
        "   ...:     \"max_iter\": 100,\n",
        "   ...:     \"random_state\": 0,\n",
        "   ...: }\n",
        "   ...:\n",
        "   ...: sse = []\n",
        "   ...: for k in range(1, 100):\n",
        "   ...:     kmeans = MiniBatchKMeans(n_clusters=k,batch_size=100, **kmeans_kwargs).fit(df_posts)\n",
        "   ...:     sse.append(kmeans.inertia_)"
      ],
      "execution_count": null,
      "outputs": []
    },
    {
      "cell_type": "code",
      "metadata": {
        "colab": {
          "base_uri": "https://localhost:8080/",
          "height": 342
        },
        "id": "bIScWoNOxclN",
        "outputId": "578c9155-f0ab-4738-973c-16327c0924d0"
      },
      "source": [
        "plt.style.use(\"fivethirtyeight\")\n",
        "plt.plot(range(1, 11), sse)\n",
        "plt.xticks(range(1, 11))\n",
        "plt.xlabel(\"Number of Clusters\")\n",
        "plt.ylabel(\"SSE\")\n",
        "plt.show()"
      ],
      "execution_count": null,
      "outputs": [
        {
          "output_type": "display_data",
          "data": {
            "image/png": "[encoded data removed]",
            "text/plain": [
              "<Figure size 2880x720 with 1 Axes>"
            ]
          },
          "metadata": {
            "tags": []
          }
        }
      ]
    },
    {
      "cell_type": "markdown",
      "metadata": {
        "id": "B2FEkT-5BoOS"
      },
      "source": [
        "ideal K value must be 37."
      ]
    }
  ]
}